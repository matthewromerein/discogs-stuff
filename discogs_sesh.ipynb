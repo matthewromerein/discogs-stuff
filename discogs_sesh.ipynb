{
 "cells": [
  {
   "cell_type": "markdown",
   "metadata": {},
   "source": [
    "Following instructions on https://github.com/discogs/discogs_client"
   ]
  },
  {
   "cell_type": "code",
   "execution_count": 14,
   "metadata": {
    "collapsed": false
   },
   "outputs": [],
   "source": [
    "import discogs_client"
   ]
  },
  {
   "cell_type": "code",
   "execution_count": 18,
   "metadata": {
    "collapsed": false
   },
   "outputs": [],
   "source": [
    "import requests\n",
    "requests.packages.urllib3.disable_warnings()"
   ]
  },
  {
   "cell_type": "code",
   "execution_count": 19,
   "metadata": {
    "collapsed": false
   },
   "outputs": [],
   "source": [
    "d = discogs_client.Client('discogs_sesh',user_token=\"HahvJQcXfaEZeUnbiRBRfHYTtYsnXbOsagnhTtMk\")"
   ]
  },
  {
   "cell_type": "markdown",
   "metadata": {},
   "source": [
    "Use search to find albums named 'Stockholm By Night' and get number of pages"
   ]
  },
  {
   "cell_type": "code",
   "execution_count": 20,
   "metadata": {
    "collapsed": false
   },
   "outputs": [
    {
     "data": {
      "text/plain": [
       "22"
      ]
     },
     "execution_count": 20,
     "metadata": {},
     "output_type": "execute_result"
    }
   ],
   "source": [
    "results = d.search('Stockholm By Night', type='release')\n",
    "results.pages"
   ]
  },
  {
   "cell_type": "markdown",
   "metadata": {},
   "source": [
    "Get the artist of the first search result"
   ]
  },
  {
   "cell_type": "code",
   "execution_count": 21,
   "metadata": {
    "collapsed": false
   },
   "outputs": [
    {
     "data": {
      "text/plain": [
       "u'Persuader, The'"
      ]
     },
     "execution_count": 21,
     "metadata": {},
     "output_type": "execute_result"
    }
   ],
   "source": [
    "artist = results[0].artists[0]\n",
    "artist.name"
   ]
  },
  {
   "cell_type": "code",
   "execution_count": 22,
   "metadata": {
    "collapsed": false
   },
   "outputs": [
    {
     "data": {
      "text/plain": [
       "<discogs_client.models.MixedPaginatedList at 0x3896748>"
      ]
     },
     "execution_count": 22,
     "metadata": {},
     "output_type": "execute_result"
    }
   ],
   "source": [
    "results"
   ]
  },
  {
   "cell_type": "code",
   "execution_count": 23,
   "metadata": {
    "collapsed": false
   },
   "outputs": [
    {
     "name": "stdout",
     "output_type": "stream",
     "text": [
      "<Release 4664 u'Stockholm By Night'>\n",
      "<Release 2781017 u'Persuader, The - Stockholm By Night'>\n",
      "<Release 1132873 u'Deep Purple - Scandinavian Nights (Live In Stockholm 1970)'>\n",
      "<Release 4251077 u'Electric Prunes, The - Stockholm 67'>\n",
      "<Release 316977 u'Adam Beyer - Essential Underground Vol. 09 - EU09: Stockholm'>\n",
      "<Release 6190116 u'Deep Purple - Live In Stockholm 1970'>\n",
      "<Release 5649637 u'Deep Purple - Live In Stockholm 1970'>\n",
      "<Release 965655 u'Children Of Bodom - Stockholm Knockout Live'>\n",
      "<Release 1074144 u'BJ Nilsen* - The Short Night'>\n",
      "<Release 2906686 u'Electric Prunes, The - Stockholm 67'>\n",
      "<Release 1990917 u'Katatonia - Night Is The New Day'>\n",
      "<Release 4407523 u'Electric Prunes, The - Stockholm 67'>\n",
      "<Release 1994076 u'Katatonia - Night Is The New Day'>\n",
      "<Release 1567581 u'Deep Purple - Live In Stockholm 1970'>\n",
      "<Release 771086 u'Alla Pugacheva* - Alla Pugacheva In Stockholm'>\n",
      "<Release 3907143 u'Miles Davis With John Coltrane And Sonny Stitt - In Stockholm 1960 Complete'>\n",
      "<Release 1857158 u'BJ Nilsen* - The Short Night'>\n",
      "<Release 3193733 u'Katatonia - Night Is The New Day'>\n",
      "<Release 3148130 u'Bastard Priest - Ghouls Of The Endless Night'>\n",
      "<Release 4692955 u'Katatonia - Last Fair Day Gone Night'>\n",
      "<Release 2829659 u'Children Of Bodom - Stockholm Knockout Live'>\n",
      "<Release 848626 u'Weeping Willows - Endless Night'>\n",
      "<Release 3811375 u'Vicious Rumors - Soldiers Of The Night'>\n",
      "<Release 2021584 u'Children Of Bodom - Stockholm Knockout Live'>\n",
      "<Release 2850243 u'Taj-Mahal Travellers* - Live At Moderna Museet In Stockholm - 9th July 1971'>\n",
      "<Release 3223294 u'Bruce Springsteen - Stockholm Dust Night'>\n",
      "<Release 2852282 u'Taj-Mahal Travellers* - Live At Moderna Museet In Stockholm - 1st July 1971'>\n",
      "<Release 2039266 u'Children Of Bodom - Chaos Ridden Years | Stockholm Knockout Live'>\n",
      "<Release 872364 u'Death Breath - Stinking Up The Night'>\n",
      "<Release 605381 u\"Fear Condition - ... 'Till Night Comes Again\">\n",
      "<Release 2602400 u'Children Of Bodom - Chaos Ridden Years | Stockholm Knockout Live'>\n",
      "<Release 429155 u'ABBA - Summer Night City'>\n",
      "<Release 6079837 u'Katatonia - Last Fair Day Gone Night'>\n",
      "<Release 1641383 u'Deathstars - Night Electric Night - Gold Edition'>\n",
      "<Release 2832566 u'\\u0410\\u043b\\u043b\\u0430 \\u041f\\u0443\\u0433\\u0430\\u0447\\u0435\\u0432\\u0430 - \\u0412 \\u0421\\u0442\\u043e\\u043a\\u0433\\u043e\\u043b\\u044c\\u043c\\u0435 \\u2022 In Stockholm'>\n",
      "<Release 3088808 u'Bastard Priest - Ghouls Of The Endless Night'>\n",
      "<Release 2077751 u'Deathstars - Night Electric Night'>\n",
      "<Release 4817247 u'Art Blakey & The Jazz Messengers - Live In Stockholm 1960'>\n",
      "<Release 3748673 u'Children Of Bodom - Stockholm Knockout Live'>\n",
      "<Release 1111496 u'Eilert Pilarm & Partybandet - Live In Stockholm'>\n",
      "<Release 5930475 u'Deep Purple - Stockholm 1970'>\n",
      "<Release 1066421 u'Celine Dion* - I Drove All Night'>\n",
      "<Release 3985095 u'Deep Purple - Black Night (Live In Stockholm 1970)'>\n",
      "<Release 1592668 u\"Manfred Mann's Earth Band - Live In Stockholm 1974\">\n",
      "<Release 1561573 u'Ankie Bagger - Where Were You Last Night'>\n",
      "<Release 1199802 u'BWO* - Give Me The Night'>\n",
      "<Release 516716 u'Ankie Bagger - Where Were You Last Night'>\n",
      "<Release 3209340 u'Excalibur (15) - One Strange Night'>\n",
      "<Release 2901031 u'ABBA - Summer Night City'>\n",
      "<Release 757762 u'Army Of Lovers - When The Night Is Cold'>\n",
      "<Release 583476 u'Europe (2) - Rock The Night (The Very Best Of Europe)'>\n",
      "<Release 1116556 u\"Totta's Bluesband - Saturday Night Boogie Woogie\">\n",
      "<Release 6322779 u'Electric Prunes, The - Stockholm 67'>\n",
      "<Release 4707267 u'Kiss - Kiss Alive 35- Stockholm Stadion Sweden 2008  Concert Live '>\n",
      "<Release 1506124 u'Concretes, The - Warm Night'>\n",
      "<Release 2240462 u'Deep Purple - Scandinavian Nights (Live In Stockholm 1970)'>\n",
      "<Release 1862368 u'Gluecifer - Soaring With Eagles At Night To Rise With The Pigs In The Morning'>\n",
      "<Release 2297118 u'ABBA - Summer Night City'>\n",
      "<Release 4277176 u'Death Breath - Stinking Up The Night'>\n",
      "<Release 2452284 u'Rebecka T\\xf6rnqvist - A Night Like This'>\n",
      "<Release 293427 u'Army Of Lovers - When The Night Is Cold / Shoot That Laserbeam!'>\n",
      "<Release 2422120 u'Erika* - Cold Winter Night'>\n",
      "<Release 2270161 u'Psychopunch - Death By Misadventure'>\n",
      "<Release 1923559 u'Opium Cartel, The - Night Blooms'>\n",
      "<Release 2868787 u'Deathstars - Night Electric Night - Platinum Edition'>\n",
      "<Release 6351632 u'Shock Tilt - Night-Fight'>\n",
      "<Release 1356376 u'Mecki Mark Men - Running In The Summer Night'>\n",
      "<Release 1364022 u'Face (8) - This Is The Night'>\n",
      "<Release 5067838 u'Weeping Willows - Endless Night'>\n",
      "<Release 1124114 u'Dreamers, The (3) - Day For Night'>\n",
      "<Release 4649527 u'Gary Moore - Live In Stockholm'>\n",
      "<Release 1409046 u'Various - Killed By Canada'>\n",
      "<Release 6400153 u'Children Of Bodom - Stockholm Knockout Live'>\n",
      "<Release 5090672 u'Deep Purple - Scandinavian Nights - Live In Stockholm 1970'>\n",
      "<Release 3101754 u'Europe (2) - Rock The Night (Collectors Edition)'>\n",
      "<Release 1925075 u'Opium Cartel, The - Night Blooms'>\n",
      "<Release 5672147 u'Rational Youth - Cold War Night Life - Recordings 1981-84'>\n",
      "<Release 4204253 u'Maroon 5 - One More Night'>\n",
      "<Release 6392872 u'Vicious Rumors - Soldiers Of The Night'>\n",
      "<Release 53173 u'Secret Service - Flash In The Night / Oh Susie - The Antiloop Reconstruction'>\n",
      "<Release 1361071 u'ABBA - Summer Night City'>\n",
      "<Release 656755 u'Secret Service - Flash In The Night / Oh Susie - The Antiloop Reconstruction (Strictly Limited Dj Edition)'>\n",
      "<Release 27906 u'Face (8) - This Is The Night'>\n",
      "<Release 5451819 u'Eddie Higgins Trio* - Dear Old Stockholm Vol. 2'>\n",
      "<Release 898902 u'Stockholm Underground - Gimme Gimme Gimme & Summer Night City'>\n",
      "<Release 4823489 u'Art Blakey & The Jazz Messengers - Live In Stockholm 1959'>\n",
      "<Release 4204897 u\"Fear Condition - ... 'Till Night Comes Again\">\n",
      "<Release 1799271 u'Concretes, The - Warm Night'>\n",
      "<Release 4324934 u'Deep Purple - Scandinavian Nights (Stockholm 1970)'>\n",
      "<Release 6727780 u'Katatonia - Night Is The New Day'>\n",
      "<Release 4823475 u'Art Blakey & The Jazz Messengers - Live In Stockholm 1960'>\n",
      "<Release 674025 u'Sahara Hotnights - Hot Night Crash'>\n",
      "<Release 1369519 u'D-Flex - Friday Night Is Here'>\n",
      "<Release 3835332 u'Celine Dion* - I Drove All Night'>\n",
      "<Release 2456499 u'Various - (Music From And Inspired By) Spider-Man 2'>\n",
      "<Release 1583383 u'Milk, The - Last Night A DJ Saved My Life'>\n",
      "<Release 1782918 u'Star Pilots - In The Heat Of The Night'>\n",
      "<Release 3149599 u'Mikael Hagstr\\xf6m Combo - Gangster / Night Run'>\n",
      "<Release 4174167 u'Stan Getz - From Long Island To Stockholm'>\n",
      "<Release 1465790 u'Star Pilots - In The Heat Of The Night'>\n",
      "<Release 5710681 u'Deep Purple - Scandinavian Nights (Live In Stockholm 1970)'>\n",
      "<Release 6844169 u'ABBA - Summer Night City'>\n",
      "<Release 6060157 u'Celine Dion* - I Drove All Night'>\n",
      "<Release 7070242 u'Deep Purple - Live In Stockholm 1970'>\n",
      "<Release 6488690 u'Bill Evans Trio* - Live In Stockholm, 1965'>\n",
      "<Release 4274530 u'ABBA - Summer Night City'>\n",
      "<Release 6440173 u'Art Blakey & The Jazz Messengers - Live In Stockholm 1959'>\n",
      "<Release 3558627 u'ABBA - Summer Night City'>\n",
      "<Release 6597816 u'Miles Davis With John Coltrane And Sonny Stitt - In Stockholm 1960 Complete'>\n",
      "<Release 1328587 u'Stockholm Underground - Gimme Gimme Gimme / Summer Night City'>\n",
      "<Release 4515526 u'Hortlax Cobra - Night Shift'>\n",
      "<Release 5595031 u'Childish Gambino - Because The Internet'>\n",
      "<Release 6596008 u'Celine Dion* - I Drove All Night'>\n",
      "<Release 5474632 u'Europe (2) - Rock The Night (Collectors Edition)'>\n",
      "<Release 4701303 u'Emil Strandberg, Sten Sandell, Patric Thorman - It Is Night And I Am Lost'>\n",
      "<Release 3912396 u'Face (8) - This Is The Night'>\n",
      "<Release 3368804 u'Gluecifer - Soaring With Eagles At Night To Rise With The Pigs In The Morning'>\n",
      "<Release 4289879 u'Deep Purple - Scandinavian Nights - Live In Stockholm 1970'>\n",
      "<Release 3553527 u'Lee Hazlewood - The LHI Years: Singles, Nudes & Backsides (1968-71)'>\n",
      "<Release 1887347 u'Sara Berg - Another Night'>\n",
      "<Release 1162856 u'Meshuggah - Chaosphere'>\n",
      "<Release 597282 u'ABBA - Greatest Hits Vol. 2'>\n",
      "<Release 4247726 u'Mikael Hagstr\\xf6m Combo - Gangster / Night Run'>\n",
      "<Release 2579118 u'Various - Jim Jam Jump - Swingende Tanzmusik Von 1935 Bis 1943 Aus Berlin, Br\\xfcssel, Prag Und Stockholm'>\n",
      "<Release 710362 u'Cardigans, The - Long Gone Before Daylight'>\n",
      "<Release 496235 u'Cardigans, The - Long Gone Before Daylight'>\n",
      "<Release 1961519 u'Milk, The - Last Night A DJ Saved My Life'>\n",
      "<Release 2417582 u'Cardigans, The - Long Gone Before Daylight'>\n",
      "<Release 429740 u'Hugg & Pepp - Elektrofant EP'>\n",
      "<Release 5975521 u'Gluecifer - Soaring With Eagles At Night To Rise With The Pigs In The Morning'>\n",
      "<Release 5160486 u'D-Flex - Friday Night Is Here'>\n",
      "<Release 305650 u'Markus Schulz - Coldharbour Selections Volume 1'>\n",
      "<Release 2552166 u'Various - Night And Day'>\n",
      "<Release 7022551 u'ABBA - Summer Night City'>\n",
      "<Release 2509179 u'Roxette - Tourism'>\n",
      "<Release 5033915 u'Pugh Rogefeldt - Night Creeper'>\n",
      "<Release 385433 u'Saxon - Denim And Leather'>\n",
      "<Release 6215580 u'Frida Snell - Saturday Night'>\n",
      "<Release 6146245 u'Ti\\xebsto* - Tiesto MP3 \\u0412\\u043a\\u043b. \\u041d\\u043e\\u0432\\u044b\\u0439 \\u0410\\u043b\\u044c\\u0431\\u043e\\u043c Club Life - Volume 3. Stockholm'>\n",
      "<Release 1947589 u'Europe (2) - The Final Countdown'>\n",
      "<Release 764216 u'Europe (2) - The Final Countdown'>\n",
      "<Release 2676220 u'Various - DJ Supervittu Presents : Stockholm Tapes Volume 1, Disco 1980-84'>\n",
      "<Release 2836179 u'Lee Hazlewood - Cowboy In Sweden'>\n",
      "<Release 770236 u'A Camp - A Camp'>\n",
      "<Release 1647232 u'Roxette - Tourism'>\n",
      "<Release 6551624 u'Ti\\xebsto* - Tiesto MP3 \\u0412\\u043a\\u043b. \\u041d\\u043e\\u0432\\u044b\\u0439 \\u0410\\u043b\\u044c\\u0431\\u043e\\u043c Club Life - Volume 3. Stockholm'>\n",
      "<Release 4120009 u'Knife, The - Deep Cuts'>\n",
      "<Release 2863637 u'Europe (2) - The Final Countdown'>\n",
      "<Release 27154 u'Antiloop - Remixed'>\n",
      "<Release 3172630 u'Various - Swedish Brandy Presents: Late Night Sessions (Fresh Mix 003)'>\n",
      "<Release 1455524 u'Saxon - Denim And Leather'>\n",
      "<Release 405574 u'Stina Nordenstam - Memories Of A Color'>\n",
      "<Release 5180989 u'Childish Gambino - Because The Internet'>\n",
      "<Release 4825531 u'Vic Latino - One Night In NYC Holla At Ya Boy'>\n",
      "<Release 1880618 u'Roxette - Tourism'>\n",
      "<Release 2032977 u'Meshuggah - The Singles Collection'>\n",
      "<Release 6601376 u'Frederiksen*  -  Denander* - Baptism By Fire'>\n",
      "<Release 6448462 u\"Various - The Art Of McCartney (The Songs Of Paul McCartney Sung By The World's Greatest Artists)\">\n",
      "<Release 119799 u'Knife, The - Deep Cuts'>\n",
      "<Release 1192277 u'ABBA - Greatest Hits Vol. 2'>\n",
      "<Release 1593644 u'Meshuggah - Destroy Erase Improve'>\n",
      "<Release 839660 u'Entombed - Inferno'>\n",
      "<Release 17088 u'Various - The Lords Of Svek Vol. 3'>\n",
      "<Release 564641 u\"Robin Cook - I Won't Let The Sun Go Down\">\n",
      "<Release 4117730 u'Lorentzo J\\xf6nsson - For The Night'>\n",
      "<Release 543521 u'Saxon - Denim And Leather'>\n",
      "<Release 4873656 u'Fenicians, The - Late Night Sessions'>\n",
      "<Release 889319 u'Mira Calix - Eyes Set Against The Sun'>\n",
      "<Release 6572105 u'Real Ones - First Night On Earth'>\n",
      "<Release 6708487 u'10,000 Maniacs - Because The Night'>\n",
      "<Release 1999839 u'Opeth - Morningrise'>\n",
      "<Release 408367 u'Unleashed - Sworn Allegiance'>\n",
      "<Release 879656 u'Mira Calix - Eyes Set Against The Sun'>\n",
      "<Release 2025794 u'Pugh* - Ja, D\\xe4 \\xc4 D\\xe4!'>\n",
      "<Release 646582 u'Roxette - Tourism'>\n",
      "<Release 237093 u'E-Type - Do You Always (Have To Be Alone)?'>\n",
      "<Release 6947244 u'Carole Bayer Sager - Sometimes Late At Night'>\n",
      "<Release 585839 u'Lee Hazlewood - Cowboy In Sweden'>\n",
      "<Release 773133 u'Bo Hansson - Attic Thoughts'>\n",
      "<Release 6068055 u'Sebastian* - When The Night Comes Falling'>\n",
      "<Release 1022378 u'Turbonegro - Scandinavian Leather'>\n",
      "<Release 3525217 u'Opeth - Morningrise'>\n",
      "<Release 1082591 u'Nomads, The (2) - Where The Wolf Bane Blooms'>\n",
      "<Release 1001135 u'Dismember - Hate Campaign'>\n",
      "<Release 1723954 u'Magic Sam Blues Band - West Side Soul'>\n",
      "<Release 791728 u'Don Cherry - Eternal Now'>\n",
      "<Release 4004276 u'Magic Sam Blues Band - West Side Soul'>\n",
      "<Release 1771087 u'Peter Bjorn And John - Living Thing'>\n",
      "<Release 2132489 u'Creedence Clearwater Revival - Green River'>\n",
      "<Release 1859800 u'Bo Hansson - Attic Thoughts'>\n",
      "<Release 3553804 u'Cardigans, The - Long Gone Before Daylight'>\n",
      "<Release 1746264 u'Tiga - Ciao!'>\n",
      "<Release 1981472 u'Roxette - Tourism'>\n",
      "<Release 5513938 u'Childish Gambino - Because The Internet'>\n",
      "<Release 1598635 u'220 Volt - Power Games'>\n",
      "<Release 34629 u'Various - Rough Trade Shops - Electronic 01'>\n",
      "<Release 1563293 u'Europe (2) - Wings Of Tomorrow'>\n",
      "<Release 1888403 u'Karl-Birger Blomdahl - Symphony No. 3 / Sisyphus / Forma Ferritonans / \"...The Journey On This Night\"'>\n",
      "<Release 2740394 u'CM von Hausswolff* - 800 000 Seconds In Harar'>\n",
      "<Release 1803152 u'Europe (2) - The Final Countdown'>\n",
      "<Release 1568341 u'Turbonegro - Scandinavian Leather'>\n",
      "<Release 1489010 u'Koen Holtkamp - Field Rituals'>\n",
      "<Release 719409 u'Knife, The - Deep Cuts'>\n",
      "<Release 822221 u'Knife, The - Deep Cuts'>\n",
      "<Release 3742105 u'220 Volt - 220 Volt'>\n",
      "<Release 871623 u'Cardigans, The - Long Gone Before Daylight'>\n",
      "<Release 1512792 u'Benny Andersson, Tim Rice, Bj\\xf6rn Ulvaeus - Chess'>\n",
      "<Release 1093435 u'Candlemass - Candlemass'>\n",
      "<Release 1772972 u'Tiga - Ciao!'>\n",
      "<Release 350769 u'Sagor & Swing - Orgelplaneten'>\n",
      "<Release 1802245 u'ABBA - The Singles (The First Ten Years)'>\n",
      "<Release 515752 u'Knife, The - Deep Cuts'>\n",
      "<Release 2188194 u'Katatonia - The Longest Year'>\n",
      "<Release 632241 u'Various - Palatine - The Factory Story / 1979-1990'>\n",
      "<Release 1886602 u'Creedence Clearwater Revival - Green River'>\n",
      "<Release 1268413 u'Roxette - Tourism'>\n",
      "<Release 1921263 u\"Hellacopters, The - High Energy Rock' N' Roll\">\n",
      "<Release 1945064 u'Beatles, The - Anthology 1'>\n",
      "<Release 5044853 u'Filteria - Lost In The Wild'>\n",
      "<Release 1067217 u'Cardigans, The - Long Gone Before Daylight'>\n",
      "<Release 2575933 u'Don Cherry - Eternal Now'>\n",
      "<Release 83654 u'Van - Classica'>\n",
      "<Release 3679668 u'Ryan Adams - Live After Deaf'>\n",
      "<Release 597179 u'Unleashed - Sworn Allegiance'>\n",
      "<Release 4374877 u'Oz, The* - Oz'>\n",
      "<Release 2433772 u'Roxette - Tourism'>\n",
      "<Release 131692 u'Aqua - Aquarium'>\n",
      "<Release 1227743 u'Secret Service - Aux Deux Magots'>\n",
      "<Release 1272829 u'Beatles, The - Anthology 1'>\n",
      "<Release 7214109 u'Various - (Music From And Inspired By) Spider-Man 2'>\n",
      "<Release 2435428 u'Saxon - Denim And Leather'>\n",
      "<Release 1689944 u'Janne Schaffer - Earmeal'>\n",
      "<Release 63371 u\"Papa Dee - Lettin' Off Steam\">\n",
      "<Release 332580 u'Various - Palatine - The Factory Story / 1979-1990'>\n",
      "<Release 4467905 u'Lee Hazlewood - Cowboy In Sweden'>\n",
      "<Release 331235 u'ABBA - A Wie ABBA (Die Gr\\xf6ssten Erfolge Von \\xbbWaterloo\\xab Bis \\xbbSuper Trouper\\xab)'>\n",
      "<Release 1837477 u'Caron* - Caron'>\n",
      "<Release 3760273 u'Oz (15) - Heavy - Metal Heroes / Hey You'>\n",
      "<Release 1978320 u'Roxette - Tourism'>\n",
      "<Release 852797 u'Nomads, The (2) - Where The Wolf Bane Blooms'>\n",
      "<Release 1399598 u'Deep Purple - Scandinavian Nights'>\n",
      "<Release 1350961 u'Roxette - Tourism'>\n",
      "<Release 1710112 u'Peter Bjorn And John - Living Thing'>\n",
      "<Release 3779543 u'Lee Hazlewood - Cold Hard World'>\n",
      "<Release 1709495 u'Stina Nordenstam - Memories Of A Color'>\n",
      "<Release 2130330 u'Aqua - Aquarium'>\n",
      "<Release 4808401 u'Magic Sam Blues Band - West Side Soul'>\n",
      "<Release 1621474 u'Various - Factory Records - Communications 1978-92'>\n",
      "<Release 5180946 u'Childish Gambino - Because The Internet'>\n",
      "<Release 1673642 u'Europe (2) - Wings Of Tomorrow'>\n",
      "<Release 3106810 u'Various - Untitled'>\n",
      "<Release 1669016 u'Alcazar - Alcazarized'>\n",
      "<Release 1544074 u'ABBA - The Albums'>\n",
      "<Release 1388920 u'Sounds, The - Dying To Say This To You'>\n",
      "<Release 2474422 u'Europe (2) - Wings Of Tomorrow'>\n",
      "<Release 367447 u'A Camp - A Camp'>\n",
      "<Release 739458 u'Various - Seeds V: Electric'>\n",
      "<Release 1013509 u'Samael - Solar Soul'>\n",
      "<Release 3525210 u'Opeth - Morningrise'>\n",
      "<Release 153550 u'Alcazar - Casino'>\n",
      "<Release 123586 u'Various - Destination Goa - The Eighth Chapter - DG8'>\n",
      "<Release 879470 u'Tobias Bernstrup - Images Of Love'>\n",
      "<Release 490715 u'Lisa Miskovsky - Fallingwater'>\n",
      "<Release 892394 u'Marty Willson-Piper - Art Attack'>\n",
      "<Release 644313 u'Candlemass - Candlemass'>\n",
      "<Release 4262211 u'220 Volt - Power Games'>\n",
      "<Release 1463154 u'Asmus Tietchens / Thomas K\\xf6ner / Illusion Of Safety / Ditterich von Euler-Donnersperg - Untitled'>\n",
      "<Release 130660 u'Farmers Manual - Rla'>\n",
      "<Release 2886604 u'Locomotions, The - The Locomotions'>\n",
      "<Release 1849476 u\"Henry Fiat's Open Sore - Idiotia Hyper Activa\">\n",
      "<Release 3514522 u'Lee Hazlewood - The LHI Years: Singles, Nudes & Backsides (1968-71)'>\n",
      "<Release 1601065 u'Janne Schaffer - Earmeal'>\n",
      "<Release 2711722 u'Roxette - Tourism'>\n",
      "<Release 1396710 u'Robin Cook - Land Of Sunshine'>\n",
      "<Release 1547526 u'Tiger Lou - Is My Head Still On?'>\n",
      "<Release 3958952 u'G\\xf6sta Linderholm - In Kommer G\\xf6sta'>\n",
      "<Release 872923 u'Entombed - Sons Of Satan Praise The Lord'>\n",
      "<Release 864362 u'Mira Calix - Eyes Set   Against The Sun'>\n",
      "<Release 1729011 u'Bad Cash Quartet - Outcast'>\n",
      "<Release 849325 u'Various - Palatine - The Factory Story / Vol. 1 / 1979-1982 / Tears In Their Eyes'>\n",
      "<Release 1060671 u'Curtis Fuller - Soul Trombone And The Jazz Clan'>\n",
      "<Release 68405 u'Spacelab - Space Is Big, Man Is Small'>\n",
      "<Release 1595440 u'Weeping Willows - Broken Promise Land'>\n",
      "<Release 806211 u'Catamenia - Morning Crimson'>\n",
      "<Release 2498495 u'Jenny Berggren - My Story'>\n",
      "<Release 4789671 u'Smashing Pumpkins, The - The Aeroplane Flies High'>\n",
      "<Release 1858978 u'Bernt Rosengren - Notes From Underground'>\n",
      "<Release 766411 u'Stina Nordenstam - Memories Of A Color'>\n",
      "<Release 68401 u'Spacelab - Spacelab'>\n",
      "<Release 3527890 u'ABBA - Greatest Hits Vol. 2'>\n",
      "<Release 1853621 u'Secret Service - The Very Best Of'>\n",
      "<Release 1310523 u'Va\\u0254uum* - Seance At The Chaebol'>\n",
      "<Release 2364838 u'Benny Andersson - November 1989'>\n",
      "<Release 3958032 u'Lee Hazlewood - Cowboy In Sweden'>\n",
      "<Release 4053923 u'Subvision (2) - Pearls For Pigsnawps'>\n",
      "<Release 1747667 u'Turbonegro - Scandinavian Leather'>\n",
      "<Release 3587527 u'Agent Bulldogg - Livsstil'>\n",
      "<Release 1744856 u'Peter Bjorn And John - Living Thing'>\n",
      "<Release 1009493 u'Sounds, The - Dying To Say This To You'>\n",
      "<Release 2701407 u'Frank Zappa - Beat The Boots!'>\n",
      "<Release 23566 u'Thomas Schumacher - Sci-Fi Level 4.4'>\n",
      "<Release 1660616 u'Europe (2) - Almost Unplugged'>\n",
      "<Release 1720411 u'Peter Bjorn And John - Living Thing / Seaside Rock'>\n",
      "<Release 1566318 u'Magic Sam Blues Band - West Side Soul'>\n",
      "<Release 1191747 u'Knife, The - Deep Cuts'>\n",
      "<Release 374085 u'Europe (2) - The Final Countdown'>\n",
      "<Release 1400965 u'Baton Rouge - Natt I Venedig'>\n",
      "<Release 1319841 u'Various - The Old Europa Cafe'>\n",
      "<Release 1662332 u'Emmon - Closet Wanderings'>\n",
      "<Release 139282 u'Room 5 Featuring Oliver Cheatham - Make Luv'>\n",
      "<Release 849307 u'Various - Palatine - The Factory Story / Vol. 1 / 1979-1982 / Tears In Their Eyes'>\n",
      "<Release 1110634 u'Loney, dear.* - Loney, Noir.'>\n",
      "<Release 1263717 u'Various - Palatine - The Factory Story / 1979-1990'>\n",
      "<Release 1385124 u'Lowe - Kino International'>\n",
      "<Release 660167 u'Backstreet Boys - Black & Blue'>\n",
      "<Release 2241597 u'ABBA - Voulez-Vous'>\n",
      "<Release 252413 u'Sten Hanson - My Galloping Heart'>\n",
      "<Release 1250202 u'Don Cherry - The Sonet Recordings: Eternal Now/Live Ankara'>\n",
      "<Release 498334 u'Knife, The - Deep Cuts'>\n",
      "<Release 2968627 u'Nomads, The (2) - Big Sound 2000'>\n",
      "<Release 707499 u'Mats Gustafsson & David Stacken\\xe4s - Blues'>\n",
      "<Release 110439 u\"Bel Canto - Dorothy's Victory\">\n",
      "<Release 1290792 u\"Stefan Andersson (2) - Emperors' Day\">\n",
      "<Release 486357 u'StoneBridge vs. Ultra Nat\\xe9 - Freak On'>\n",
      "<Release 897782 u'Thirteen Moons - A True Story'>\n",
      "<Release 620057 u'Tiger Lou - Is My Head Still On?'>\n",
      "<Release 709983 u'Daze - Super Heroes'>\n",
      "<Release 1161818 u'Therion - Lemuria / Sirius B'>\n",
      "<Release 2345283 u'Knife, The - Deep Cuts'>\n",
      "<Release 1314851 u'Various - Palatine - The Factory Story / 1979-1990'>\n",
      "<Release 768930 u'ABBA - Voulez-Vous'>\n",
      "<Release 321158 u'Per Cussion - Beatwave'>\n",
      "<Release 2127183 u'Cardigans, The - Long Gone Before Daylight'>\n",
      "<Release 2914176 u'Europe (2) - 1982 - 1992'>\n",
      "<Release 5005935 u'Seance - Awakening Of The Gods'>\n",
      "<Release 725882 u'Dannii Minogue - The Hits & Beyond'>\n",
      "<Release 3389706 u'Don Cherry - Eternal Now'>\n",
      "<Release 2003736 u'Roxette - Tourism'>\n",
      "<Release 1807696 u'Tony Joe White - The Best Of Tony Joe White Featuring Polk Salad Annie'>\n",
      "<Release 3582952 u'ABBA - Greatest Hits Vol. 2'>\n",
      "<Release 780831 u'Benny Andersson - November 1989'>\n",
      "<Release 1519639 u'Kids From Fame, The - The Kids From Fame'>\n",
      "<Release 4167445 u'Cardigans, The - Long Gone Before Daylight'>\n",
      "<Release 4365156 u'Florence + The Machine* - Ceremonials (Australian Limited Edition)'>\n",
      "<Release 2363270 u'Magic Sam Blues Band - West Side Soul'>\n",
      "<Release 2019307 u'Miles Davis - The Complete Columbia Album Collection'>\n",
      "<Release 2596446 u'Europe (2) - The Final Countdown'>\n",
      "<Release 2903977 u'Locomotions, The - Teacher'>\n",
      "<Release 5732863 u'Shatoo - A True Story'>\n",
      "<Release 2623665 u'Shatoo - A True Story'>\n",
      "<Release 697081 u'Europe (2) - The Final Countdown'>\n",
      "<Release 2343921 u'Cardigans, The - Long Gone Before Daylight'>\n",
      "<Release 2128487 u'Europe (2) - The Final Countdown'>\n",
      "<Release 2623665 u'Shatoo - A True Story'>\n",
      "<Release 2663459 u\"Robin Cook - I Won't Let The Sun Go Down\">\n",
      "<Release 808641 u'Europe (2) - 1982 - 1992'>\n",
      "<Release 3168873 u'Teddy And The Tigers* - Rock-A-Billy Rebel'>\n",
      "<Release 2132197 u'Europe (2) - Almost Unplugged'>\n",
      "<Release 1503496 u'Mikael Rickfors - Tender Turns Tuff'>\n",
      "<Release 1049826 u'Concretes, The - The Concretes'>\n",
      "<Release 1042101 u'Flash And The Pan* - Pan Orama'>\n",
      "<Release 2615014 u'Janne \\xd6nnerud & Co* - K\\xe4rlekens Hus'>\n",
      "<Release 4639860 u'Don Cherry - Eternal Now'>\n",
      "<Release 755058 u\"Enter The Hunt - For Life. 'Til Death. To Hell. With Love.\">\n",
      "<Release 545675 u'John Duncan / C.M. Von Hausswolff* / Ditterich Von Euler-Donnersperg - John Duncan / C.M. Von Hausswolff / Ditterich Von Euler-Donnersperg'>\n",
      "<Release 4386211 u'Magic Sam Blues Band - West Side Soul'>\n",
      "<Release 769986 u'ABBA - The Complete Studio Recordings'>\n",
      "<Release 2082033 u'Alexandra Burke - Overcome'>\n",
      "<Release 264964 u'Various - Slowscan Vol. 5'>\n",
      "<Release 5707682 u'Magic Sam Blues Band - West Side Soul'>\n",
      "<Release 183214 u\"Twice A Man - A Midsummernight's Dream\">\n",
      "<Release 6908219 u'Weeping Willows - Broken Promise Land'>\n",
      "<Release 1730915 u'Peter Bjorn And John - Living Thing'>\n",
      "<Release 3070740 u'Cardigans, The - Long Gone Before Daylight'>\n",
      "<Release 430855 u'Beatles, The - Anthology 1'>\n",
      "<Release 4023375 u'Bedlam (5) - The Beauties And The Beast'>\n",
      "<Release 1877248 u'Concretes, The - The Concretes'>\n",
      "<Release 598444 u'Jessica Folcker - Tell Me What You Like'>\n",
      "<Release 1673184 u'Radiojazzgruppen / Jan Johansson - V\\xe5rdkasar'>\n",
      "<Release 5221566 u\"Mercyful Fate - Don't Break The Oath\">\n",
      "<Release 3366078 u'ABBA - Greatest Hits Vol. 2'>\n",
      "<Release 1001055 u'Manikins, The - Lie, Cheat & Steal'>\n",
      "<Release 1040004 u'Daze - Super Heroes'>\n",
      "<Release 1453407 u'World Vibe Featuring Cicci Moon - Round \"n\" Round'>\n",
      "<Release 4455590 u'ABBA - The Singles (The First Ten Years)'>\n",
      "<Release 6530504 u'Magic Sam Blues Band - West Side Soul'>\n",
      "<Release 3601478 u'ABBA - Greatest Hits Vol. 2'>\n",
      "<Release 822833 u'A*Teens - New Arrival'>\n",
      "<Release 4297283 u'ABBA - Greatest Hits Vol. 2'>\n",
      "<Release 5538267 u'John Fogerty - John Fogerty'>\n",
      "<Release 1021496 u'Various - Mixing It'>\n",
      "<Release 5633903 u'Morten Harket - Brother'>\n",
      "<Release 1196134 u'Puppet Masters* - Midnight Graffiti'>\n",
      "<Release 464616 u'Da Buzz - Wanna Be With Me?'>\n",
      "<Release 1686195 u'Europe (2) - 1982-1992'>\n",
      "<Release 3137392 u'Manikins, The - Lie, Cheat & Steal'>\n",
      "<Release 1401715 u'Kiethevez - Non-Binary'>\n",
      "<Release 4658019 u'Gerilja - Step Up Your Game'>\n",
      "<Release 2369638 u'H.E.A.T - H.E.A.T'>\n",
      "<Release 1864055 u'Joey Tempest - A Place To Call Home'>\n",
      "<Release 1897204 u'Creedence Clearwater Revival - 40th Anniversary Editions Box Set'>\n",
      "<Release 4968456 u'Desultory - Swallow The Snake'>\n",
      "<Release 1020339 u'Lee Hazlewood - Poet, Fool Or Bum'>\n",
      "<Release 448848 u'ABBA - The Definitive Collection'>\n",
      "<Release 2584638 u\"Robin Cook - I Won't Let The Sun Go Down\">\n",
      "<Release 3422850 u'ABBA - The Singles (The First Ten Years)'>\n",
      "<Release 2297812 u'Willy DeVille - The Willy DeVille Acoustic Trio In Berlin'>\n",
      "<Release 1115565 u'Army Of Lovers - Army Of Lovers'>\n",
      "<Release 1537348 u'a-ha - The Definitive Singles Collection 1984 | 2004'>\n",
      "<Release 2364651 u'220 Volt - Power Games'>\n",
      "<Release 846957 u'Various - Absolute Dance 4'>\n",
      "<Release 939874 u'Celine Dion* - One Heart'>\n",
      "<Release 914740 u'Diggy Tal & The Numbers - Hypnosis'>\n",
      "<Release 2237424 u'Creedence Clearwater Revival - Green River'>\n",
      "<Release 4533781 u'Don Cherry - Eternal Now'>\n",
      "<Release 229675 u'Kubot - In Ellpen'>\n",
      "<Release 2746440 u'Lars Gullin - Fine Together'>\n",
      "<Release 920485 u\"Papa Dee - Lettin' Off Steam\">\n",
      "<Release 722860 u'Various - Party Zone 2'>\n",
      "<Release 818839 u'Various - Palatine - The Factory Story / 1979-1990'>\n",
      "<Release 2703756 u'Catamenia - Morning Crimson'>\n",
      "<Release 4909531 u'Tiger Lou - Is My Head Still On?'>\n",
      "<Release 1082858 u'Eld - Carved'>\n",
      "<Release 1349906 u'Deep Purple - Live And Rare'>\n",
      "<Release 4173914 u'Cardigans, The - Long Gone Before Daylight'>\n",
      "<Release 5371061 u'Knife, The - Deep Cuts'>\n",
      "<Release 3600395 u'Prince - Sign \"O\" The Times World Tour 1987'>\n",
      "<Release 1416778 u'Lolita Pop - Blumenkraft'>\n",
      "<Release 661779 u'Flower Kings, The - Retropolis'>\n",
      "<Release 5648455 u'Europe (2) - The Final Countdown'>\n",
      "<Release 2712797 u'Mikael Rickfors - Mikael Rickfors'>\n",
      "<Release 3671214 u'Phil Woods - Phil Talks With Quill - The Phil Woods Quartet With Gene Quill Sitting In'>\n",
      "<Release 3404782 u'A Camp - A Camp'>\n",
      "<Release 1301741 u'Room 5 Featuring Oliver Cheatham - Make Luv'>\n",
      "<Release 2991470 u'ABBA - A Wie ABBA (Die Gr\\xf6ssten Erfolge Von \\xbbWaterloo\\xab Bis \\xbbSuper Trouper\\xab)'>\n",
      "<Release 4894514 u'Roxette - Tourism'>\n",
      "<Release 1726097 u'BWO* - Big Science'>\n",
      "<Release 1039470 u\"Bikini - Don't Look Back\">\n",
      "<Release 2534926 u'Les Double Six - Les Double Six'>\n",
      "<Release 3923064 u'Bj\\xf6rn Skifs - Zick Zack'>\n",
      "<Release 2168379 u'Various - Different Colours, Different Shades...1978-1992 The Factory Story Part Two'>\n",
      "<Release 4960978 u'ABBA - Voulez-Vous'>\n",
      "<Release 855333 u'Darin - Break The News'>\n",
      "<Release 1298314 u'Flower Kings, The - Retropolis'>\n",
      "<Release 2037793 u\"Stefano Torossi - Omicidio Per Vocazione / E' Stato Bello Amarti (Original Soundtracks)\">\n",
      "<Release 1783550 u'Lili & Susie* - No Sugar Added'>\n",
      "<Release 5120873 u'Europe (2) - Wings Of Tomorrow'>\n",
      "<Release 6112941 u'Roxette - Tourism'>\n",
      "<Release 4186012 u'Janne Schaffer - Earmeal'>\n",
      "<Release 2576547 u'Dr. Arthur Krause - Solutions'>\n",
      "<Release 2680636 u'Berndt Egerbladh - A Boy Full Of Thoughts'>\n",
      "<Release 2807961 u'Electric Boys - Groovus Maximus'>\n",
      "<Release 4334836 u'H.E.A.T - H.E.A.T'>\n",
      "<Release 5423044 u'ABBA - Greatest Hits Vol. 2'>\n",
      "<Release 6573641 u'Morten Harket - Brother'>\n",
      "<Release 5193909 u'Europe (2) - The Final Countdown - Promotional Copy'>\n",
      "<Release 1767383 u'Peter Bjorn And John - Living Thing'>\n",
      "<Release 5519010 u'Helena Paparizou - One Life'>\n",
      "<Release 3006536 u'Imperial State Electric - In Concert!'>\n",
      "<Release 576693 u'Europe (2) - The Final Countdown'>\n",
      "<Release 2614269 u'Pierre Isacsson - Pierre!'>\n",
      "<Release 4059305 u'ABBA - Voulez-Vous'>\n",
      "<Release 2066370 u'Lowe - Kino International'>\n",
      "<Release 4342055 u'Janne Schaffer - Earmeal'>\n",
      "<Release 2465415 u'Dan Fr\\xf6berg & Joachim Nordwall - Play R\\xf6nnells Antikvariat'>\n",
      "<Release 1317775 u'Various - Dance 12\" Classics'>\n",
      "<Release 952661 u'Loney, dear.* - Loney, Noir.'>\n",
      "<Release 3818374 u'Aqua - Aquarium'>\n",
      "<Release 1369523 u\"D-Flex - Don't Disrespect\">\n",
      "<Release 3210320 u'ABBA - Voulez-Vous'>\n",
      "<Release 1184184 u'Various - Yabba-Dabba-Dance! 5'>\n",
      "<Release 515348 u'Various - Maxi Power Vol. 2'>\n",
      "<Release 4731657 u'Three Dog Night - Joy To The World / I Can Hear You Calling'>\n",
      "<Release 2295837 u'ABBA - In Concert'>\n",
      "<Release 942364 u'Bj\\xf6rn Skifs - Zick Zack'>\n",
      "<Release 1105713 u'Europe (2) - The Final Countdown'>\n",
      "<Release 3278250 u'ABBA - Voulez-Vous'>\n",
      "<Release 2454387 u'Various - Hed Kandi World Series: London'>\n",
      "<Release 937800 u'BWO* - Will My Arms Be Strong Enough'>\n",
      "<Release 1263208 u'Adam Ant - Adam Ant Remastered'>\n",
      "<Release 1156515 u'Dana International - Free'>\n",
      "<Release 726421 u'Various - The Definitive Jazz Scene Volume 2'>\n",
      "<Release 2948577 u'Tonedeff - Cold.Killed.Collected (2005 - 2010)'>\n",
      "<Release 4957333 u'Europe (2) - Almost Unplugged'>\n",
      "<Release 3119771 u'Candlemass - Doomology'>\n",
      "<Release 133240 u'E-Type - E-Type V\\xe4ljer Sina Eurofavoriter'>\n",
      "<Release 1184363 u'Various - Dancefloor 2'>\n",
      "<Release 775935 u'Thomas Helmig - Dream'>\n",
      "<Release 5232843 u'Magic Sam Blues Band - West Side Soul'>\n",
      "<Release 4524130 u'Jerry Williams (3) - Live P\\xe5 B\\xf6rsen'>\n",
      "<Release 3072792 u'Europe (2) - Live Look At Eden'>\n",
      "<Release 775016 u'98 Degrees - Revelation'>\n",
      "<Release 1308917 u'Concretes, The - The Concretes'>\n",
      "<Release 933068 u\"Tomas Ledin - Lookin' For A Good Time\">\n",
      "<Release 5345269 u'Roxette - Tourism'>\n",
      "<Release 4186957 u'Roxette - Tourism'>\n",
      "<Release 1456326 u'Ark, The - In Lust We Trust'>\n",
      "<Release 5341815 u'Thalie N\\xe9m\\xe9sis - N\\xe9m\\xe9sis'>\n",
      "<Release 1559778 u\"JTB* - Dum's Have More Fun\">\n",
      "<Release 866627 u'Rebekka* - Neophyte'>\n",
      "<Release 4829336 u'Beatles, The - Anthology 1'>\n",
      "<Release 3732900 u'Saxon - Denim And Leather'>\n",
      "<Release 6618139 u'Creedence Clearwater Revival - Green River'>\n",
      "<Release 1794798 u'Aqua - Aquarium'>\n",
      "<Release 3176125 u'Anima Morte - Face The Sea Of Darkness'>\n",
      "<Release 1264988 u'Gary Moore - Back On The Streets The Rock Collection'>\n",
      "<Release 3130886 u'Svenska Ryttarlandslaget, Tommy K\\xf6rberg - Upp Till Kamp'>\n",
      "<Release 2061175 u'Finnforest - Finnforest'>\n",
      "<Release 3386185 u'Tony Joe White - Swamp Music: The Complete Monument Recordings'>\n",
      "<Release 1695344 u'Miles Davis Featuring John Coltrane - Miles Davis Featuring John Coltrane'>\n",
      "<Release 4835627 u'Michael Monroe (2) - Horns And Halos'>\n",
      "<Release 4306453 u'H.E.A.T - H.E.A.T'>\n",
      "<Release 1237727 u'Red Shift (5) - Melt Into Shape'>\n",
      "<Release 6398016 u\"Various - There's A Dream I've Been Saving: Lee Hazlewood Industries 1966-1971 (Lp Edition)\">\n",
      "<Release 591376 u'Blue (5) - Guilty'>\n",
      "<Release 1954952 u'Phenomena (4) - Phenomena'>\n",
      "<Release 3011317 u'Europe (2) - The Final Countdown'>\n",
      "<Release 5700437 u'ABBA - Greatest Hits Vol. 2'>\n",
      "<Release 4551183 u'Miles Davis - The Perfect Miles Davis Collection'>\n",
      "<Release 2194896 u'Various - New Directions In New Zealand Music'>\n",
      "<Release 5341503 u'ABBA - Voulez-Vous'>\n",
      "<Release 630065 u'Black Waters - Show Me Heaven / Lost In A Dream'>\n",
      "<Release 2874646 u'ABBA - Greatest Hits Vol. 2'>\n",
      "<Release 658313 u'Maya Eizin - Tokyo Television...'>\n",
      "<Release 27203 u'Various - NRJ Extravadance 3'>\n",
      "<Release 5838332 u'Candlemass - Candlemass'>\n",
      "<Release 5482239 u'Beatles, The - Anthology 1'>\n",
      "<Release 4647182 u'ABBA - The Singles (The First Ten Years)'>\n",
      "<Release 882288 u'Tobias Fr\\xf6berg - Somewhere In The City'>\n",
      "<Release 1736251 u'Kids From Fame, The - The Kids From Fame'>\n",
      "<Release 5129807 u'Roxette - Tourism'>\n",
      "<Release 1859420 u'Night Station - Loving Nights'>\n",
      "<Release 1638748 u'Nils Landgren Funk Unit - Funky Abba'>\n",
      "<Release 2570165 u'Blacknuss - Gold'>\n",
      "<Release 1143839 u'Paul Potts (2) - One Chance'>\n",
      "<Release 4201375 u'Candlemass - Doomology'>\n",
      "<Release 4749757 u'Dr. Feelgood - Doctors Orders'>\n",
      "<Release 1402380 u'Club Killers - Two Nights With Club Killers'>\n",
      "<Release 5313870 u'Europe (2) - The Final Countdown'>\n",
      "<Release 1355017 u'Kaipa - Notes From The Past'>\n",
      "<Release 2282913 u'Marilyn Crispell, Anders Jormin, Raymond Strid - Spring Tour'>\n",
      "<Release 5700468 u'ABBA - Greatest Hits Vol. 2'>\n",
      "<Release 5374887 u'Peter Bjorn And John - Living Thing'>\n",
      "<Release 2381405 u'Nomads, The (2) - Big Sound 2000'>\n",
      "<Release 1158005 u'Paris (4) - Secrets On Tape'>\n",
      "<Release 6818406 u'Magic Sam Blues Band - West Side Soul'>\n",
      "<Release 1712414 u'Various - Splendid Isolation'>\n",
      "<Release 1562269 u\"JTB* - Dum's Have More Fun\">\n",
      "<Release 3840751 u'H.E.A.T - 2in1: H.E.A.T. // Freedom Rock'>\n",
      "<Release 2567010 u\"Alf Robertson - Emily's Foto\">\n",
      "<Release 2124157 u'Aqua - Aquarium'>\n",
      "<Release 2472636 u'Clabbe - Starlight'>\n",
      "<Release 4173785 u'Cardigans, The - Long Gone Before Daylight'>\n",
      "<Release 2995672 u'Lisa Miskovsky - Fallingwater'>\n",
      "<Release 3632578 u\"Charles Brown With Hj\\xe4rtslag* - I'm Gonna Push On! (Live At Mosebacke)\">\n",
      "<Release 3918385 u'Royals - Spring 76'>\n",
      "<Release 2336021 u'Petra Marklund - Teen Queen'>\n",
      "<Release 5902094 u'Turbonegro - Scandinavian Leather'>\n",
      "<Release 1249701 u'A Camp - A Camp'>\n",
      "<Release 6494072 u'Roxette - Tourism'>\n",
      "<Release 1302961 u'Crispy - Love Is Waiting'>\n",
      "<Release 3862184 u'ABBA - Greatest Hits Vol. 2'>\n",
      "<Release 2014991 u\"Bruno Maderna - La Morte Ha Fatto L'Uovo (Colonna Sonora Originale Del Film)\">\n",
      "<Release 5321739 u'Room 5 Featuring Oliver Cheatham - Make Luv'>\n",
      "<Release 2337844 u'Miles Davis - Just Squeeze Me'>\n",
      "<Release 5397823 u'ABBA - Greatest Hits Vol. 2'>\n",
      "<Release 4904740 u'Saxon - Denim And Leather'>\n",
      "<Release 2631948 u'Glee Cast - Glee, The Music: The Rocky Horror Glee Show'>\n",
      "<Release 4860474 u'Slayer - Blood Lust '>\n",
      "<Release 772341 u'Thomas Helmig - Stupid Man'>\n",
      "<Release 907286 u'Rolf Enstr\\xf6m - Immeasurable Traces'>\n",
      "<Release 881683 u'Aqua - Aquarium'>\n",
      "<Release 4190643 u'A Camp - A Camp'>\n",
      "<Release 1710041 u'Sad Day For Puppets - Unknown Colors'>\n",
      "<Release 1594396 u'Vikingarna - Kramgoa L\\xe5tar 7: Djingis Khan'>\n",
      "<Release 3315727 u'Wyvern - The Wildfire'>\n",
      "<Release 5169957 u\"Various - There's A Dream I've Been Saving: Lee Hazlewood Industries 1966-1971 (Deluxe Edition)\">\n",
      "<Release 2158078 u'A Camp - A Camp'>\n",
      "<Release 1731209 u'Quincy Jones - Strike Up The Band'>\n",
      "<Release 5016848 u\"Fulmination - Humanity's Dirge\">\n",
      "<Release 5271675 u'ABBA - Greatest Hits Vol. 2'>\n",
      "<Release 5979533 u\"Magic Sam's Blues Band* - Electric Blues Chicago Style Vol. 5\">\n",
      "<Release 5438744 u'Bj\\xf6rn J:son Lindh, Staffan Scheja - Europa Opus III Bridges'>\n",
      "<Release 4475694 u'ABBA - The Singles (The First Ten Years)'>\n",
      "<Release 5092702 u'22 Pistepirkko - The Singles'>\n",
      "<Release 6246805 u'Don Cherry - Eternal Now'>\n",
      "<Release 2093144 u'A*Teens - New Arrival'>\n",
      "<Release 5361165 u'Lisa Miskovsky - Fallingwater'>\n",
      "<Release 2053039 u'Marcia Hines - Love Sides'>\n",
      "<Release 2532820 u'Koen Holtkamp - Field Rituals'>\n",
      "<Release 2544008 u'Rockfilter - Good For You'>\n",
      "<Release 3132381 u'Aqua - Aquarium'>\n",
      "<Release 1947167 u'Room 5 Featuring Oliver Cheatham - Make Luv'>\n",
      "<Release 2264437 u'Various - Loop S\\xf6ndagar 21-03 Sturekompagniet'>\n",
      "<Release 1578164 u\"DJ Pool (2) - Pool Mix 1990's\">\n",
      "<Release 4297679 u'ABBA - The Singles (The First Ten Years)'>\n",
      "<Release 5782330 u'Europe (2) - The Final Countdown'>\n",
      "<Release 4111541 u'Silhouette (13) - Silhouette'>\n",
      "<Release 849320 u'Various - Palatine - The Factory Story / Vol. 1 / 1979-1982 / Tears In Their Eyes'>\n",
      "<Release 924583 u'98\\xb0* - Revelation'>\n",
      "<Release 5966809 u'ABBA - Greatest Hits Vol. 2'>\n",
      "<Release 1721665 u'Various - On The Air, 60 Years Of BBC Theme Music'>\n",
      "<Release 823422 u'Secret Sphere - Heart & Anger'>\n",
      "<Release 5216710 u'Europe (2) - 1982-1992'>\n",
      "<Release 1604591 u'Lucy Street - Girl Next Door'>\n",
      "<Release 318688 u'Various - For The Masses'>\n",
      "<Release 4691336 u'Shatoo - A True Story'>\n",
      "<Release 1821074 u'Various - Generation Cocktail Vol. 3'>\n",
      "<Release 4828003 u'Kari Peitsamo - Black Album'>\n",
      "<Release 6867458 u'Roxette - Tourism'>\n",
      "<Release 2894911 u'Nomads, The (2) - Big Sound 2000'>\n",
      "<Release 883930 u'Ane Brun Feat. Ron Sexsmith - Song No. 6'>\n",
      "<Release 1161623 u\"Various - A Young Person's Guide To Compact\">\n",
      "<Release 4005220 u'Dalton (6) - The Race Is On'>\n",
      "<Release 3712249 u'Charles Mingus - The Complete Debut Recordings'>\n",
      "<Release 5597850 u'Helena Paparizou - One Life'>\n",
      "<Release 2476129 u'Blue (5) - Guilty'>\n",
      "<Release 6154528 u'Thore Ehrlings Orkester - Thore Ehrlings Orkester'>\n",
      "<Release 1586108 u'Various - Nova En 25 CD (La Boite Bleue)'>\n",
      "<Release 1603366 u'Carolina Liar - Coming To Terms'>\n",
      "<Release 1744937 u'A*Teens - New Arrival'>\n",
      "<Release 4439318 u'Various - Palatine - The Factory Story / 1979-1990'>\n",
      "<Release 2002597 u\"Ramones - It's Alive 1974-1996\">\n",
      "<Release 2594021 u'A Camp - A Camp'>\n",
      "<Release 2112236 u'Rasmus Kellerman - The 24th'>\n",
      "<Release 503367 u'Billie Piper - Walk Of Life'>\n",
      "<Release 4564126 u'220 Volt - Power Games'>\n",
      "<Release 5326994 u'Europe (2) - Almost Unplugged'>\n",
      "<Release 2780688 u'\\u0410\\u043b\\u043b\\u0430 \\u041f\\u0443\\u0433\\u0430\\u0447\\u0435\\u0432\\u0430 - \\u0410\\u043b\\u043b\\u0430 \\u041f\\u0443\\u0433\\u0430\\u0447\\u0435\\u0432\\u0430 \\u0412 \\u0421\\u0442\\u043e\\u043a\\u0433\\u043e\\u043b\\u044c\\u043c\\u0435'>\n",
      "<Release 3757746 u'Iron Maiden - Sweden 2006'>\n",
      "<Release 2626392 u'Muzzlewhite - Our Caravan'>\n",
      "<Release 3512422 u'Pugh* - Pugh'>\n",
      "<Release 2607820 u'Tony Joe White - The Best Of Tony Joe White Featuring Polk Salad Annie'>\n",
      "<Release 3810541 u'Various - Two Of A Kind - Music From The Original Motion Picture Soundtrack'>\n",
      "<Release 6175716 u'Stina Nordenstam - Memories Of A Color'>\n",
      "<Release 5678366 u'ABBA - Greatest Hits Vol. 2'>\n",
      "<Release 5709819 u'Charade, The - The Best Is Yet To Come'>\n",
      "<Release 2943149 u'Phil Seymour - Phil Seymour 2'>\n",
      "<Release 2773709 u'Lazee Feat. Mohombi - Do It'>\n",
      "<Release 6041517 u'Roxette - Tourism'>\n",
      "<Release 4470417 u'Little Gerhard - Live At Stinsen'>\n",
      "<Release 2919671 u'Django Reinhardt - Swing De Paris'>\n",
      "<Release 2045272 u'ABBA - The Definitive Collection'>\n",
      "<Release 2445042 u'Tins & Cans - Trancemission'>\n",
      "<Release 1607987 u'Consoul - Do You The Right Way'>\n",
      "<Release 3966352 u'Manikins, The - Lie, Cheat & Steal'>\n",
      "<Release 161066 u'Room 5 Featuring Oliver Cheatham - Make Luv'>\n",
      "<Release 6336117 u'ABBA - Voulez-Vous'>\n",
      "<Release 1468370 u\"Weeping Willows - While I'm Still Strong\">\n",
      "<Release 1305390 u\"Boogie Bam - Can I Get Back (The Good Ol' Days)\">\n",
      "<Release 5712110 u'Morten Harket - Brother'>\n",
      "<Release 2027161 u'Locomotions, The - The Locomotions'>\n",
      "<Release 64595 u'Blacknuss - 3'>\n",
      "<Release 1538707 u'G\\xfcnther - Pleasureman'>\n",
      "<Release 2721606 u'Django Reinhardt & Stephane Grappelli* With Quintet Of The Hot Club Of France, The* - The Ultimate Collection'>\n",
      "<Release 2714371 u'Tiga - Ciao!'>\n",
      "<Release 4294322 u'Neon Rose - Reload'>\n",
      "<Release 1634673 u'Consoul - Think Of Me'>\n",
      "<Release 4828428 u'Monterey Moodmixers, The / Johnny And The Shamrocks* - Twen Party'>\n",
      "<Release 2498032 u'Beatles, The - Anthology 1'>\n",
      "<Release 4594680 u'Stan Getz - In Sweden 1958-60'>\n",
      "<Release 5652953 u'Cardigans, The - Long Gone Before Daylight'>\n",
      "<Release 4343313 u'Alcazar - Alcazarized'>\n",
      "<Release 2620247 u\"Johnnie Ray / Guy Mitchell - Just Walkin' In The Rain / Singing The Blues\">\n",
      "<Release 6290750 u'Creedence Clearwater Revival - Green River'>\n",
      "<Release 7156665 u'Subvision (2) - Pearls For Pigsnawps'>\n",
      "<Release 3584895 u'ABBA - The Singles (The First Ten Years)'>\n",
      "<Release 908347 u'Brolle JR - Rebellious Heart'>\n",
      "<Release 5697827 u'Celine Dion* - One Heart'>\n",
      "<Release 6532872 u'Ryan Adams - Live After Deaf'>\n",
      "<Release 4416020 u'Vikingarna - Kramgoa L\\xe5tar 7 Hallelujah'>\n",
      "<Release 6137633 u'Secret Service - Top Secret* (*Greatest Hits)'>\n",
      "<Release 3108204 u'Clabbe - Starlight'>\n",
      "<Release 4151167 u'Beatles, The - The Beatles Live'>\n",
      "<Release 4653440 u'Phil Woods Quartet, The With Gene Quill - Phil Talks With Quill'>\n",
      "<Release 5747899 u'Roxette - Tourism'>\n",
      "<Release 2651518 u'Fredrik Nordstr\\xf6m (2) - Vibb'>\n",
      "<Release 1399421 u'ABBA - The Definitive Collection'>\n",
      "<Release 5098312 u'Paul Roberts (4) - City Without Walls'>\n",
      "<Release 1430557 u'Tictox - Toxeuphoria'>\n",
      "<Release 2881203 u'Glee Cast - Glee: The Music, The Rocky Horror Glee Show'>\n",
      "<Release 3725616 u'Europe (2) - Rock The World (Collectors Edition)'>\n",
      "<Release 5084492 u'Europe (2) - Almost Unplugged'>\n",
      "<Release 3386836 u'Tony Joe White - The Best Of Tony Joe White Featuring Polk Salad Annie'>\n",
      "<Release 5026782 u'Cardigans, The - Long Gone Before Daylight'>\n",
      "<Release 5409578 u'Locomotions, The - The Locomotions'>\n",
      "<Release 1320934 u\"Jerry Williams (3) - Can't Slow Down\">\n",
      "<Release 3650567 u'Outlandish - Warrior // Worrier'>\n",
      "<Release 5295189 u'Beatles, The - Anthology 1'>\n",
      "<Release 1947952 u'\\u0410\\u043b\\u043b\\u0430 \\u041f\\u0443\\u0433\\u0430\\u0447\\u0435\\u0432\\u0430 - \\u0412 \\u0421\\u0442\\u043e\\u043a\\u0433\\u043e\\u043b\\u044c\\u043c\\u0435'>\n",
      "<Release 2459656 u'Various - Deejays En Directo'>\n",
      "<Release 4989308 u'Flower Kings, The - Retropolis'>\n",
      "<Release 6081451 u'Aqua - Aquarium'>\n",
      "<Release 4536626 u'Concretes, The - The Concretes'>\n",
      "<Release 5379760 u'ABBA - Remastered - The Album / Voulez-Vous'>\n",
      "<Release 1064264 u\"Rockatansky - A Fisherman's Soul\">\n",
      "<Release 1595463 u'Eric Gadd - The Right Way'>\n",
      "<Release 1899716 u'Jessica* - Tell Me What You Like'>\n",
      "<Release 3495034 u'Various - Ultra-Lounge: Cocktails With Cole Porter'>\n",
      "<Release 4187077 u'Jan Wallgren - Blueprints'>\n",
      "<Release 2596167 u'Various - Ultra-Lounge: Cocktails With Cole Porter'>\n",
      "<Release 2997188 u'Adam Tensta - Scared Of The Dark'>\n",
      "<Release 294252 u'Various - NRJ Extravadance'>\n",
      "<Release 2342295 u'Deep Purple - Into The Fire'>\n",
      "<Release 5679328 u'Celine Dion* - One Heart'>\n",
      "<Release 3527327 u'Tins & Cans - Trancemission'>\n",
      "<Release 6656885 u'Cardigans, The - Long Gone Before Daylight'>\n",
      "<Release 6381039 u'Robin Cook - I Wont Let The Sun Go Down'>\n",
      "<Release 5831134 u'Racer X With Paul Gilbert - Street Lethal'>\n",
      "<Release 2040888 u'Various - 20th Century Classics 2'>\n",
      "<Release 1764924 u'Roy Eldridge And His Band - Roy Eldridge And His Band'>\n",
      "<Release 1349559 u\"JTB* - Dum's Have More Fun\">\n",
      "<Release 1641096 u'\\u0412\\u0430\\u043b\\u0435\\u0440\\u0438\\u0439 \\u041c\\u0435\\u043b\\u0430\\u0434\\u0437\\u0435 & \\u0413\\u0440\\u0443\\u043f\\u043f\\u0430 \"\\u041c\\u0438\\u0441\\u0442\\u0438\\u043a\\u0430\\u043d\\u0430\"* - \\u0421\\u044d\\u0440\\u0430'>\n",
      "<Release 2426701 u'Skythrone - Saga Of Immortal Heroes'>\n",
      "<Release 5417783 u'Various - The Definitive Jazz Scene Volume 2'>\n",
      "<Release 4479172 u'Lloyd Miller - Lloyd Miller In Europe'>\n",
      "<Release 5042656 u'Solarstone + Giuseppe Ottaviani - Solarstone Presents... Pure Trance V2'>\n",
      "<Release 3302841 u'Catamenia - Morning Crimson'>\n",
      "<Release 1862491 u'Various - The Factory Box Set'>\n",
      "<Release 2936099 u'Benny Andersson, Tim Rice, Bj\\xf6rn Ulvaeus - Chess'>\n",
      "<Release 1638850 u'Latin Flavor - Get Away'>\n",
      "<Release 5834884 u'Various - The Definitive Jazz Scene Volume 2'>\n",
      "<Release 3700097 u'Curtis Fuller - Soul Trombone / Cabin In The Sky'>\n",
      "<Release 5661276 u'Arturas Bum\\u0161teinas* - Epiloghi'>\n",
      "<Release 1946918 u'Benny Andersson, Tim Rice, Bj\\xf6rn Ulvaeus - Chess'>\n",
      "<Release 2995342 u'Andreas Johnson - Rediscovered'>\n",
      "<Release 3971502 u'H.E.A.T - H.E.A.T Tour Edition'>\n",
      "<Release 5459008 u'Free Style (2) - Fantasy'>\n",
      "<Release 4613365 u'98\\xb0* - Revelation'>\n",
      "<Release 5492803 u'Europe (2) - Almost Unplugged'>\n",
      "<Release 2663251 u'Roman Fischer - Roman Fischer'>\n",
      "<Release 5853094 u'Various - Dream Dance Vol. 72'>\n",
      "<Release 2104050 u'Miles Davis - Miles Away'>\n",
      "<Release 2934212 u'Stephanie Mcintosh - Tightrope'>\n",
      "<Release 3270140 u'Various - The Definitive Jazz Scene Volume 2'>\n",
      "<Release 6055319 u'Erik Hassle - Taken EP'>\n",
      "<Release 6982076 u'ABBA - Greatest Hits Vol. 2'>\n",
      "<Release 4324537 u\"Papa Dee - Lettin' Off Steam\">\n",
      "<Release 6497662 u'ABBA - Greatest Hits Vol. 2'>\n",
      "<Release 4096920 u'Catamenia - Morning Crimson'>\n",
      "<Release 2362667 u'\\u0410\\u043b\\u043b\\u0430 \\u041f\\u0443\\u0433\\u0430\\u0447\\u0435\\u0432\\u0430 - \\u0410\\u043b\\u043b\\u0430 \\u041f\\u0443\\u0433\\u0430\\u0447\\u0435\\u0432\\u0430 \\u0412 \\u0421\\u0442\\u043e\\u043a\\u0433\\u043e\\u043b\\u044c\\u043c\\u0435'>\n",
      "<Release 1488352 u'Atomic Kitten - Access All Areas : Remixed & B-Side'>\n",
      "<Release 1070682 u'Christine Milton - Friday'>\n",
      "<Release 3047348 u'Dorlene Love - Exile Deluxe'>\n",
      "<Release 5739001 u'Cardigans, The - Long Gone Before Daylight'>\n",
      "<Release 6860294 u'Saxon - Denim And Leather'>\n",
      "<Release 4258152 u'Various - Dance Club. 32 Titres Enchaines - Volume 6'>\n",
      "<Release 5954789 u'Ingmar Bergman, Sveriges Radios Symfoniorkester - Highlights From The Original Soundtrack Of Ingmar Bergman\\'s \"The Magic Flute\" (Wolfgang Amadeus Mozart)'>\n",
      "<Release 2845310 u'Charles Tyler / Brus Trio - Autumn In Paris'>\n",
      "<Release 5148953 u'Celine Dion* - Taking Chances'>\n",
      "<Release 5455249 u'Stan Getz - The Modern World Of Stan Getz'>\n",
      "<Release 2966397 u'Various - Jazz 2'>\n",
      "<Release 2406451 u'Gareth Gates - Go Your Own Way'>\n",
      "<Release 5334378 u'Aqua - Aquarium'>\n",
      "<Release 4946947 u'Diggy Tal & The Numbers - Hypnosis'>\n",
      "<Release 3381360 u'Duck Baker Trio - Amnesia In Trastevere'>\n",
      "<Release 5775742 u'U2 - Pop'>\n",
      "<Release 6032268 u'Celine Dion* - Taking Chances'>\n",
      "<Release 1604572 u'Mixtapes & Cellmates - A Retrospective'>\n",
      "<Release 667439 u'Various - A Shoehorn Demo 2'>\n",
      "<Release 2019699 u'Various - Radio Zurr November 1995'>\n",
      "<Release 5037933 u\"Tomas Ledin - Lookin' For A Good Time\">\n",
      "<Release 5038225 u\"Ramones - It's Alive 1974-1996\">\n",
      "<Release 4608398 u'Phenomena (4) - Phenomena'>\n",
      "<Release 3432518 u'ABBA - In The Bleak Midwinter'>\n",
      "<Release 4053496 u'Wonder Boys, The (2) - The Wonder Boys EP'>\n",
      "<Release 3642547 u'Alcazar - Alcazarized'>\n",
      "<Release 5518521 u'Lawrence Welk - Champagne Music Varieties'>\n",
      "<Release 5112859 u'Celine Dion* - One Heart'>\n",
      "<Release 1639767 u'98\\xb0* - My Everything'>\n",
      "<Release 5500079 u\"Prince - City Lights Remastered And Extended Volume 6: The Sign O' The Times Tour 1987\">\n",
      "<Release 2510084 u'Mikael Rickfors - Judas River'>\n",
      "<Release 1788790 u'Various - Maxi Dance 1'>\n",
      "<Release 5734485 u'Various - Palatine - The Factory Story / 1979-1990'>\n",
      "<Release 3684952 u'Maroon 5 - Overexposed'>\n",
      "<Release 6812567 u'ABBA - Greatest Hits Vol. 2'>\n",
      "<Release 1675260 u\"Bel Canto - Dorothy's Victory\">\n",
      "<Release 2750068 u'Scrags, The - The Scrags'>\n",
      "<Release 3195317 u\"Sonny Rhodes - I Don't Want My Blues Colored Bright\">\n",
      "<Release 5973198 u'Marty Willson-Piper - Art Attack'>\n",
      "<Release 1213805 u'Ms. Dynamite - Judgement Days'>\n",
      "<Release 4868590 u'Oriel Joans - Oriel Joans'>\n",
      "<Release 3219422 u'Thore Skogman - Sex Melodier Ur Sol-Och-Melodi-Komedin En Str\\xe5lande Dag'>\n",
      "<Release 672738 u'Gareth Gates - Go Your Own Way'>\n",
      "<Release 2458933 u'Shawn Desman - Fresh'>\n",
      "<Release 6635659 u'Willy DeVille, Mink DeVille - Collected'>\n",
      "<Release 1891312 u'Various - After The Sunset (Music From The Motion Picture)'>\n",
      "<Release 496527 u'Samantha Mumba - Gotta Tell You'>\n",
      "<Release 5030575 u'Lisa Miskovsky - Fallingwater'>\n",
      "<Release 1258637 u'Quincy Jones - Strike Up The Band'>\n",
      "<Release 174550 u'Mark Anthony (3) - The Circuit Party'>\n",
      "<Release 5097006 u'Miles Davis Quintet* With John Coltrane, Red Garland, Paul Chambers (3) & \"Philly\" Joe Jones - Complete Studio Recordings - The Master Takes'>\n",
      "<Release 5831262 u'Hurriganes - Scandia Years 1977-1984'>\n",
      "<Release 4941561 u'Various - Factory Records - Communications 1978-92'>\n",
      "<Release 6221347 u'Gerilja - Step Up Your Game'>\n",
      "<Release 6435003 u'Europe (2) - Almost Unplugged'>\n",
      "<Release 5105358 u'Zoot Sims - 5658 '>\n",
      "<Release 3402234 u'Adam Tensta - Scared Of The Dark'>\n",
      "<Release 5061500 u'Concretes, The - The Concretes'>\n",
      "<Release 3821741 u'Swe-Danes* med Bengt Hallbergs Trio* - Med Swe-Danes P\\xe5 Berns'>\n",
      "<Release 3821741 u'Swe-Danes* med Bengt Hallbergs Trio* - Med Swe-Danes P\\xe5 Berns'>\n",
      "<Release 3940230 u'Tobias Fr\\xf6berg - Somewhere In The City'>\n",
      "<Release 5633743 u'Concretes, The - The Concretes'>\n",
      "<Release 1418653 u'Tiger Lou - Is My Head Still On?'>\n",
      "<Release 3768744 u'Deep Purple - On The Road. Volume One - Mk 2, The Early Days, 1969-1971'>\n",
      "<Release 5544265 u'Malena Ernman - Opera Di Fiori'>\n",
      "<Release 1682201 u'Various - In The Jazz Mood'>\n",
      "<Release 897226 u'Snooks Eaglin - The Sonet Blues Story'>\n",
      "<Release 4246173 u'Various - Krach Macht Frei'>\n",
      "<Release 2377430 u'Niklas Andersson - Musikalfavoriter'>\n",
      "<Release 6328907 u'One Direction - FOUR (The Ultimate Edition)'>\n",
      "<Release 2878626 u'Jon English (3) - Beating The Boards'>\n",
      "<Release 4275015 u'Hampenberg - Hampenberg'>\n",
      "<Release 6357347 u'Thore Ehrling - P\\xe5 Nytt'>\n",
      "<Release 7065432 u'Pokal - Lights'>\n",
      "<Release 511532 u'Various - Dance Max 2005.03'>\n",
      "<Release 3668947 u'Jerry Williams (3) - Live P\\xe5 B\\xf6rsen'>\n",
      "<Release 4460270 u'Les Double Six - Les Double Six'>\n",
      "<Release 1639311 u'Billy Crawford - Billy Crawford'>\n",
      "<Release 3921682 u\"Police* - Walking, Don't Stand So Lonely\">\n",
      "<Release 3929707 u'Sture Palm\\xe9r And Jeffery Boswall - A Field Guide To The Bird Songs Of Britain And Europe - An Introductory Selection'>\n",
      "<Release 5488424 u'Move, The - Looking In'>\n",
      "<Release 5727746 u'Secret Service - The Very Best Of'>\n",
      "<Release 5443430 u'Monica Zetterlund - Monica Zetterlund'>\n",
      "<Release 5616277 u\"Papa Dee - Lettin' Off Steam\">\n",
      "<Release 4487297 u'Follin - America'>\n",
      "<Release 376362 u'Various - Dancechart Volume 03'>\n",
      "<Release 5465784 u\"Beatles, The - Stars Of '63 - '65\">\n",
      "<Release 2938097 u'Jon English (3) - In Roads'>\n",
      "<Release 5145260 u'Benny Andersson, Tim Rice, Bj\\xf6rn Ulvaeus - Chess'>\n",
      "<Release 2536138 u'Robert Pete Williams - The Sonet Blues Story'>\n",
      "<Release 3227030 u'Jimmy Cobb - Remembering Miles - Tribute To Miles Davis'>\n",
      "<Release 1930622 u'Various - Svensk Jazzhistoria Vol. 3 - Rytm Och Swing 1936-1939'>\n",
      "<Release 3725049 u'\\u0410\\u043b\\u043b\\u0430 \\u041f\\u0443\\u0433\\u0430\\u0447\\u0435\\u0432\\u0430 - \\u0410\\u043b\\u043b\\u0430 \\u041f\\u0443\\u0433\\u0430\\u0447\\u0435\\u0432\\u0430 \\u0412 \\u0421\\u0442\\u043e\\u043a\\u0433\\u043e\\u043b\\u044c\\u043c\\u0435'>\n",
      "<Release 1859087 u\"Mats R\\xe5dberg & Rankarna - Country Cookin'\">\n",
      "<Release 3122746 u'Quincy Jones - Mode'>\n",
      "<Release 5050150 u'Various - The Definitive Jazz Scene Volume 2'>\n",
      "<Release 5144585 u'Various - Audiovision'>\n",
      "<Release 6920927 u'Tangent, The - A Spark In The Aether'>\n",
      "<Release 3097894 u'Tommy Trash / Grant Smillie / Acid Jacks - Onelove Volume 10 - Mobile Disco 2009'>\n",
      "<Release 5468954 u\"Sweets 'n' Chips* - Sensation\">\n",
      "<Release 6698766 u'Roxette - Tourism'>\n",
      "<Release 3579759 u'ABBA - The Albums'>\n",
      "<Release 6806595 u'Celine Dion* - One Heart'>\n",
      "<Release 5676727 u'Electric Boys - Groovus Maximus'>\n",
      "<Release 3365933 u'Various - Trance - The Ultimate Collection Vol 1 2003'>\n",
      "<Release 5952389 u'Django Reinhardt - Django'>\n",
      "<Release 6860253 u'Mathias Land\\xe6us - Into Life'>\n",
      "<Release 4864085 u'Concretes, The - Layourbattleaxedown'>\n",
      "<Release 6140731 u'Deep Purple - Deep Purple'>\n",
      "<Release 5769772 u'Lawrence Welk And Orchestra* - Champagne Music Varieties'>\n",
      "<Release 5937871 u'Europe (2) - Live Look At Eden'>\n",
      "<Release 6169755 u'Gallon Drunk - Live In Sweden'>\n",
      "<Release 5051065 u\"Stefan Andersson (2) - Emperors' Day\">\n",
      "<Release 4009683 u'Dark Illusion - Beyond The Shadows'>\n",
      "<Release 3246694 u'Miles Davis - Live Recordings 1948-1957'>\n",
      "<Release 3649996 u'Arne Domn\\xe9rus - Arne Domnerus Clarinet Solos'>\n",
      "<Release 2019923 u'Blue (5) - Guilty'>\n",
      "<Release 6591374 u\"Papa Dee - Lettin' Off Steam\">\n",
      "<Release 6032191 u'Celine Dion* - Taking Chances'>\n",
      "<Release 6134099 u'Various - Svensk Jazzhistoria Vol.1  - 20-talsepoken'>\n",
      "<Release 4859351 u'Various - House Selection'>\n",
      "<Release 6216912 u'Bj\\xf6rn Skifs - Zick Zack'>\n",
      "<Release 5712490 u'Tviolis Big Band - Tviolis Big Band Live'>\n",
      "<Release 757288 u'Various - 100% Girl Party'>\n",
      "<Release 7111865 u'Magic Sam Blues Band - West Side Soul'>\n",
      "<Release 4409625 u'Bryn Terfel - Bad Boys'>\n",
      "<Release 4227875 u'Flower Kings, The - Retropolis'>\n",
      "<Release 5976524 u'Catarina Ligendza, Ingvar Wixell, Max Von Sydow, Radiok\\xf6ren, Stockholm*, Sveriges Radios Symfoniorkester, Stig Westerberg - Lars-Erik Larsson/Hjalmar Gullberg: F\\xf6rkl\\xe4dd Gud'>\n",
      "<Release 5652711 u\"Various - Movin' Up Movin' On\">\n",
      "<Release 2288239 u\"Various - Stora Rock 'N' Roll Boxen, Svensk Rock 'N' Roll 1954-1963\">\n",
      "<Release 2906818 u'Da Buzz - More Than Alive'>\n",
      "<Release 3932853 u'Toots Thielemans - Yesterday & Today'>\n",
      "<Release 4069557 u'98\\xb0* - Revelation'>\n",
      "<Release 4054515 u'Johnny Richards - Mosaic Select'>\n",
      "<Release 4762353 u\"Tomas Ledin - Lookin' For A Good Time\">\n",
      "<Release 6928374 u'Renee Rosnes - Without Words'>\n",
      "<Release 5857435 u'Various - The Definitive Jazz Scene Volume 2'>\n",
      "<Release 2430396 u'Dana International - Free'>\n",
      "<Release 1843196 u'Tabula Rasa (4) - Ekkedien Tanssi'>\n",
      "<Release 4777869 u'Jussi Bj\\xf6rling - Jussi Bj\\xf6rling Edition: Studio Recordings 1930-1959'>\n",
      "<Release 4206206 u'Beatles, The - Challenger One'>\n",
      "<Release 6890640 u'Cardigans, The - Long Gone Before Daylight'>\n",
      "<Release 4401137 u'Alison Balsom - Gothenburg Symphony Orchestra*, Edward Gardner - Caprice'>\n",
      "<Release 5559723 u'Room 5 Featuring Oliver Cheatham - Make Luv'>\n",
      "<Release 4393189 u'\\u0410\\u043b\\u043b\\u0430 \\u041f\\u0443\\u0433\\u0430\\u0447\\u0435\\u0432\\u0430 - \\u0410\\u043b\\u043b\\u0430 \\u041f\\u0443\\u0433\\u0430\\u0447\\u0435\\u0432\\u0430 \\u0412 \\u0421\\u0442\\u043e\\u043a\\u0433\\u043e\\u043b\\u044c\\u043c\\u0435'>\n",
      "<Release 2957800 u\"Various - Little Steven's Underground Garage Presents The Coolest Songs In The World! Vol. 6\">\n",
      "<Release 2070655 u'Thomas Helmig - Stupid Man'>\n",
      "<Release 2894896 u'Various - Big Star Hits Volume 1'>\n",
      "<Release 1291742 u'Various - Annie Get Your Gun '>\n",
      "<Release 6896677 u'Paul Potts (2) - One Chance'>\n",
      "<Release 2754286 u'Kari Tapio - Kaikki Parhaat'>\n",
      "<Release 5090017 u'Various - Hed Kandi: The Mix 2009'>\n",
      "<Release 2978008 u'Vladan Vu\\u010dkovi\\u0107 Paja* - Dnevnik Duge Plovidbe'>\n",
      "<Release 3883297 u'Broadcast (2) - Broadcast'>\n",
      "<Release 4968833 u'Kaipa - Notes From The Past'>\n",
      "<Release 7031856 u'Finnmark! - Things Always Change'>\n",
      "<Release 4298037 u'Adam Tensta - Scared Of The Dark'>\n",
      "<Release 3435200 u'Various - Best Of Blue Note'>\n",
      "<Release 6160690 u'Lars Gullin - Fine Together - The Artistry Of Lars Gullin - Recordings 1957-1958'>\n",
      "<Release 6562964 u'ABBA - The Definitive Collection'>\n",
      "<Release 2183953 u'Ella Fitzgerald - The Concert Years'>\n",
      "<Release 6518700 u'Backstreet Boys - Black & Blue'>\n",
      "<Release 5077016 u'Blacknuss - Gold'>\n",
      "<Release 4425897 u'Tiger Lou - Is My Head Still On?'>\n",
      "<Release 5163740 u'Hollies, The - The Long Road Home 1963-2003'>\n",
      "<Release 3949057 u'Various - 80-Talets Svenska Stj\\xe4rnartister'>\n",
      "<Release 6694511 u'Army Of Lovers - Army Of Lovers'>\n",
      "<Release 7101826 u'Sounds, The - Dying To Say This To You'>\n",
      "<Release 4118818 u'Gerry Mulligan Quartet - In Sweden'>\n",
      "<Release 6008150 u'Lemmikud - Suhkur Suhkur'>\n",
      "<Release 1011428 u'Various - Hit Club 97.4'>\n",
      "<Release 6326534 u'Various - Thrill To The Sensational Sound Of Super Serum!'>\n",
      "<Release 6549121 u'Stephanie Mcintosh - Tightrope - Deluxe Edition including Stephanie Mcintosh Journal'>\n",
      "<Release 6916567 u'Sine City - Such A Fragile Thing We Are'>\n",
      "<Release 6128732 u'Duke Ellington And His Orchestra - The Symphonic Ellington'>\n",
      "<Release 6704456 u'Led Zeppelin - Studio Sessions'>\n",
      "<Release 4041495 u'Various - Hed Kandi: Twisted Disco 2010'>\n",
      "<Release 5540319 u'Jessica Folcker - Tell Me What You Like'>\n",
      "<Release 6320086 u'G\\xf6sta Theselius And His Orchestra*, G\\xf6sta Theselius - Dancing Time'>\n",
      "<Release 5679318 u'Celine Dion* - One Heart'>\n",
      "<Release 6330462 u'Randy Crawford - Windsong'>\n",
      "<Release 5689122 u'Celine Dion* - One Heart'>\n",
      "<Release 5444294 u\"Sonny Rhodes - I Don't Want My Blues Colored Bright\">\n",
      "<Release 615702 u'Various - Triumphs Of Jazz'>\n",
      "<Release 5058712 u'Mikael Rickfors - Mikael Rickfors'>\n",
      "<Release 3284404 u'Blue (5) - Guilty'>\n",
      "<Release 2013439 u'Robert Wells (3) - Rhapsody In Rock - The 2005 Summer Tour'>\n",
      "<Release 6508478 u'Hans Wahlgren Quintet - H. W.'>\n",
      "<Release 2281578 u'Beatles* - Golden Age'>\n",
      "<Release 2235424 u'Johannes Wallmark & The Wildflowers - Living On The Same Street'>\n",
      "<Release 6209066 u'Miles Davis - Twenty Classic Albums'>\n",
      "<Release 2813885 u'Various - Necktar + Necktar 2017'>\n",
      "<Release 5646087 u'Celine Dion* - One Heart'>\n",
      "<Release 5416477 u'Jacob Karlzon - Heat'>\n",
      "<Release 6922089 u'Aqua - Aquarium'>\n",
      "<Release 5689112 u'Celine Dion* - One Heart'>\n",
      "<Release 6248723 u'Andrew White - Gigtime 2000, Vol. 3 \"Everybody Loves The Sugar\"'>\n",
      "<Release 6335070 u'Celine Dion* - One Heart'>\n",
      "<Release 4973415 u'Celine Dion* - One Heart'>\n",
      "<Release 5362969 u'Various - Palatine - The Factory Story / Vol. 1 / 1979-1982 / Tears In Their Eyes'>\n",
      "<Release 4259143 u'Django Reinhardt - Djangologie 1928-1950'>\n",
      "<Release 5871244 u'Royals - Spring 76'>\n",
      "<Release 5991381 u'Holy Madre - Holy Madre'>\n",
      "<Release 7163634 u\"Sweets 'n' Chips* - Sensation\">\n",
      "<Release 5861325 u'Marlene Widmark / Teddy Wilson - I Let A Song Go Out Of My Heart'>\n",
      "<Release 5089378 u'Rasmus Kellerman - The 24th'>\n",
      "<Release 5542691 u'Blacknuss - 3'>\n",
      "<Release 1353412 u'Jussi Bj\\xf6rling - Till Havs - Romantic Songs'>\n",
      "<Release 7231669 u'ABBA - Greatest Hits Vol. 2'>\n",
      "<Release 6845346 u'Various - Palatine - The Factory Story / 1979-1990'>\n",
      "<Release 6235627 u'Paul Hindberg Quintet - Vol. 3'>\n",
      "<Release 7229629 u'Subvision (2) - Pearls For Pigsnawps'>\n",
      "<Release 1854638 u'[J Crist] - Trio Phonica'>\n",
      "<Release 5308276 u'Roland Cedermark - In Country'>\n",
      "<Release 1353412 u'Jussi Bj\\xf6rling - Till Havs - Romantic Songs'>\n",
      "<Release 6101585 u'Harry Arnold With Tony Scott (2) & Quincy Jones - The Big Band In Concert 1957 / 58'>\n",
      "<Release 7112551 u'Various - Mixing It'>\n",
      "<Release 4041241 u\"Ramones - It's Alive 1974-1996\">\n",
      "<Release 5276990 u'Blue (5) - Guilty'>\n",
      "<Release 6525056 u'Phil Woods Quartet, The, Gene Quill - Phil Talks With Quill (The Phil Woods Quartet With Gene Quill Sitting In)'>\n",
      "<Release 6481581 u'Stan Getz And Swedish All Stars* Featuring Bengt Hallberg - Vol. 2'>\n",
      "<Release 7051702 u'Deep Purple - Scandinavian Nights'>\n",
      "<Release 3252206 u'Leo\\u0161 Jan\\xe1\\u010dek, Roland P\\xf6ntinen, Ulf Wallin, Mats Rondin - Chamber Music For Violin, Cello And Piano'>\n",
      "<Release 5713461 u'Va\\u0254uum* - Seance At The Chaebol'>\n",
      "<Release 3382561 u'Band Of Bones Presented By Dave Chamberlain (4) - Band Of Bones'>\n",
      "<Release 6258747 u'98\\xb0* - Revelation'>\n",
      "<Release 6461342 u'Lawrence Welk - Champagne Music Varieties'>\n",
      "<Release 2671464 u'Thore Skogman Och Lill-Babs / Thore Skogman - Thore Skogman Och Lill-Babs Sjunger Duett / Thore Skogman Sjunger'>\n",
      "<Release 5588501 u'Flower Kings, The - Retropolis'>\n",
      "<Release 3570644 u'Blue (5) - Guilty'>\n",
      "<Release 4256315 u'Electric Boys - Groovus Maximus'>\n",
      "<Release 6990883 u\"Various - A Young Person's Guide To Compact\">\n",
      "<Release 4263286 u'Wilhelm Furtw\\xe4ngler - Mozart Beethoven Schubert Tschaikovsky Wagner Rossini Mendelssohn Bartholdy A.M.O.'>\n",
      "<Release 5795123 u'Miles Davis - The Miles Davis Collection - A Retrospective'>\n",
      "<Release 4161582 u'Smokie - Take A Minute'>\n",
      "<Release 7151937 u'Stan Getz, Shelly Manne, Leroy Vinnegar, Conte Candoli, Lou Levy - West Coast Jazz'>\n",
      "<Release 6346703 u'Tiger Lou - Is My Head Still On?'>\n",
      "<Release 6901456 u\"John Norum - Face It Live '97\">\n",
      "<Release 5020466 u'Jessica Folcker - Tell Me What You Like'>\n",
      "<Release 6524226 u'Kako Daimon - Demos MMVI - MMVIII'>\n",
      "<Release 6754177 u'One Direction - FOUR '>\n",
      "<Release 2553264 u'Various - Dance Max 2005.03 - ltd. Edition'>\n",
      "<Release 6992007 u'Monica Zetterlund - Ett Lingonris Som Satts I Cocktailglas'>\n",
      "<Release 6561053 u'Royals - Spring 76'>\n",
      "<Release 6555100 u'A*Teens - New Arrival'>\n",
      "<Release 6103982 u'A*Teens - New Arrival'>\n",
      "<Release 6408562 u'Europe (2) - Almost Unplugged'>\n",
      "<Release 7195606 u'Twice As Blue Orchestra - As Blue As You'>\n",
      "<Release 3591232 u'Swedish Radio Symphony Orchestra* with the Swedish Radio Choir* conducted by Stig Westerberg - Svenskt Festspel / Swedish Highlights / Du Gamla, Du Fria!'>\n",
      "<Release 6211768 u'Aqua - Aquarium'>\n",
      "<Release 6117966 u'Tiga - Ciao!'>\n",
      "<Release 7156602 u'Weeping Willows - Broken Promised Land Revisited'>\n",
      "<Release 6380345 u'Willy DeVille - The Willy DeVille Acoustic Trio In Berlin'>\n",
      "<Release 6098402 u'Tony Scott (2) & Rune \\xd6fwerman Trio - Swinging In Sweden'>\n",
      "<Release 6480239 u'Bruce Springsteen & The E-Street Band - Follow That Dream - Revisited'>\n",
      "<Release 5181085 u'Various - \\xc5rets Julkonsert'>\n",
      "<Release 6764189 u'Various - Nu Jazz Classics Volume One'>\n",
      "<Release 3658682 u'Various - Alla Tiders / Svenska 80-Tal'>\n",
      "<Release 6278993 u'Various - Radio Body Music - Stompers United'>\n",
      "<Release 6278993 u'Various - Radio Body Music - Stompers United'>\n",
      "<Release 6657455 u'Polaroid Kiss - The New Coliseum'>\n",
      "<Release 1367604 u'Various - Squeeze Me \\u2022 The Jazz And Swing Accordion Story'>\n",
      "<Release 7194735 u'Various - The 50 Darkest Pieces of Classical Music'>\n",
      "<Release 6713698 u'Various - EMA Telstar Motor Luger 2002'>\n",
      "<Release 3561624 u'Secret Sphere - Heart & Anger'>\n",
      "<Release 5853868 u'Smithereens, The - The Mega Box Set'>\n",
      "<Release 6940299 u'Blue (5) - Guilty'>\n",
      "<Release 5542708 u'Blacknuss - This Is Blacknuss'>\n",
      "<Release 7144319 u'Army Of Lovers - Seance At The Chaebol'>\n",
      "<Release 6839282 u'Bruce Springsteen - Follow That Dream'>\n",
      "<Release 6356956 u'\\u0410\\u043b\\u043b\\u0430 \\u041f\\u0443\\u0433\\u0430\\u0447\\u0435\\u0432\\u0430 - \\u0412 \\u0421\\u0442\\u043e\\u043a\\u0433\\u043e\\u043b\\u044c\\u043c\\u0435'>\n",
      "<Release 4422369 u\"Sonny Rhodes - I Don't Want My Blues Colored Bright\">\n",
      "<Release 6556177 u'Va\\u0254uum* - Seance At The Chaebol'>\n",
      "<Release 4606843 u'Secret Sphere - Heart & Anger'>\n",
      "<Release 6383078 u'Lars Gullin - Portrait Of The Legendary Baritone Saxophonist - Complete 1956-1960 Studio Recordings'>\n",
      "<Release 4058171 u'Billie Piper - Walk Of Life'>\n",
      "<Release 6429952 u'DJ Bobo - Reloaded'>\n",
      "<Release 5387406 u'Carl Michael Bellman, Rolf Leanderson, Lennart Hedwall - Songs & Epistles In Sweden'>\n",
      "<Release 4772076 u\"Various - La Soir\\xe9e De L'Ann\\xe9e\">\n",
      "<Release 6979058 u'Nils Lindberg Presents Markku Johansson, Bernt Rosengren, Erik Nilsson (2), Sture Nordin, Rune Carlsson - Jazz In Studio Nine'>\n",
      "<Release 7029987 u'Celine Dion* - One Heart'>\n",
      "<Release 4929423 u'Rickfors* - Greatest Hits'>\n",
      "<Release 6576174 u'A*Teens - New Arrival'>\n",
      "<Release 5837116 u'Kaipa - Notes From The Past'>\n",
      "<Release 5387957 u'ABBA - In Concert'>\n",
      "<Release 6053305 u'Jimmy Page & Robert Plant - Separate Ways - The Solo Performances Of Jimmy Page & Robert Plant'>\n",
      "<Release 6411925 u'Alexandra Burke - Overcome'>\n",
      "<Release 5376781 u'Mikael Rickfors - Judas River'>\n",
      "<Release 5993201 u'Clabbe - Starlight'>\n",
      "<Release 4680957 u'Various - Sound Unseen; An Underground Film And Music Festival'>\n",
      "<Release 7232454 u'Europe (2) - The Final Countdown'>\n",
      "<Release 6386348 u'Beatles, The - The Beginning & The Middle & Forever'>\n",
      "<Release 7124755 u'Da Buzz - Wanna Be With Me?'>\n",
      "<Release 5417653 u'Ida (13) - Seize The Day'>\n",
      "<Release 603361 u'Brian Scott Bennett - Trance'>\n",
      "<Release 6273049 u'Quincy Jones - 50 Years In Music - Live At Montreux 1996'>\n",
      "<Release 7037711 u'Blue (5) - Guilty'>\n",
      "<Release 2515828 u'Bryn Terfel - Bad Boys'>\n",
      "<Release 5057601 u'Bryn Terfel - Bad Boys'>\n",
      "<Release 6324946 u'Various - Ibiza Opening Party 2011 - The Eivissa Summer-Kickoff'>\n",
      "<Release 6572511 u'Violet Road - Peter Every And His Marching Band'>\n",
      "<Release 6764897 u'Dana International - Free'>\n",
      "<Release 7153666 u'Dana International - Free'>\n",
      "<Release 4136112 u\"Tomas Ledin - Lookin' For A Good Time\">\n",
      "<Release 5003049 u'Black Muse - Fashionista Vol 01'>\n",
      "<Release 7221051 u'One Direction - FOUR '>\n",
      "<Release 7186740 u'Various - The Definitive Jazz Scene Volume 2'>\n",
      "<Release 3193858 u'Various - House Vol. 2'>\n",
      "<Release 5790942 u\"Ramones - It's Alive 1974-1996\">\n",
      "<Release 6716903 u'Benny Andersson, Tim Rice, Bj\\xf6rn Ulvaeus - Chess'>\n",
      "<Release 7046372 u'ABBA - The Definitive Collection'>\n",
      "<Release 5744548 u'Eva Sars Nansen, Isa Katharina Gericke, Christian Ihle Hadland - Til Eva - Selected Norwegian Songs: A Tribute To Eva Sars Nansen'>\n",
      "<Release 6182070 u'Kaipa - Notes From The Past'>\n",
      "<Release 7227998 u'Stan Getz - The Artistry Of Stan Getz - The Best Of The Verve Years Volume 2'>\n",
      "<Release 5407339 u\"Various - The 100 Best Jazz Tunes Of The 1950's\">\n",
      "<Release 6190872 u'\\u0410\\u043b\\u043b\\u0430 \\u041f\\u0443\\u0433\\u0430\\u0447\\u0435\\u0432\\u0430 - \\u0410\\u043b\\u043b\\u0430 \\u041f\\u0443\\u0433\\u0430\\u0447\\u0435\\u0432\\u0430 \\u0412 \\u0421\\u0442\\u043e\\u043a\\u0433\\u043e\\u043b\\u044c\\u043c\\u0435'>\n",
      "<Release 5842291 u'Ti\\xebsto* - Ti\\xebsto MP3 (Stereo MP3 Kbps 128)'>\n",
      "<Release 6699907 u'\\u0410\\u043b\\u043b\\u0430 \\u041f\\u0443\\u0433\\u0430\\u0447\\u0435\\u0432\\u0430 - \\u0410\\u043b\\u043b\\u0430 \\u041f\\u0443\\u0433\\u0430\\u0447\\u0435\\u0432\\u0430 \\u0412 \\u0421\\u0442\\u043e\\u043a\\u0433\\u043e\\u043b\\u044c\\u043c\\u0435'>\n",
      "<Release 7008181 u'Mikaeli Kammark\\xf6r, Bengt Forsberg - Adolf Fredrik Lindblad: Dr\\xf6mmarne; Om winterqv\\xe4ll; Jacob Axel Josephson: Sex fyrst\\xe4mmiga s\\xe5nger'>\n",
      "<Release 6144781 u'\\u0410\\u043b\\u043b\\u0430 \\u041f\\u0443\\u0433\\u0430\\u0447\\u0435\\u0432\\u0430 - \\u0412 \\u0421\\u0442\\u043e\\u043a\\u0433\\u043e\\u043b\\u044c\\u043c\\u0435'>\n",
      "<Release 6108484 u'Various - Covers Golden Hits Vs Dance Music'>\n",
      "<Release 4980944 u'Gareth Gates - Go Your Own Way'>\n",
      "<Release 6197957 u'Gareth Gates - Go Your Own Way'>\n",
      "<Release 7173283 u'Charles Mingus - The Complete Debut Recordings'>\n",
      "<Release 7141556 u'Rolling Stones, The - 14 On Fire - Europe - Show 8 ~ 14'>\n",
      "<Release 4541693 u'Stan Getz - Highlights _ The Best Of The Verve Years, Vol.2'>\n",
      "<Release 4694486 u'Oscar Pettiford - Oscar Rides Again'>\n",
      "<Release 7042988 u'Various - 20 L\\xe9gendes Du Jazz'>\n",
      "<Release 6647841 u'a-ha - MP3'>\n",
      "<Release 6845690 u'Various - Filthy Navidad'>\n",
      "<Release 7104910 u\"Ramones - It's Alive 1974-1996\">\n",
      "<Release 6548369 u'Ti\\xebsto* - Tiesto MP3 \\u0432\\u043a\\u043b. \\u043d\\u043e\\u0432\\u044b\\u0439 \\u0430\\u043b\\u044c\\u0431\\u043e\\u043c \"A Town Called Paradise\"'>\n",
      "<Release 6673162 u'Ti\\xebsto* - Ti\\xebsto Mp3'>\n",
      "<Release 7218674 u'Yardbirds, The - MP3 Collection'>\n"
     ]
    }
   ],
   "source": [
    "for x in results:\n",
    "    print x"
   ]
  },
  {
   "cell_type": "code",
   "execution_count": 24,
   "metadata": {
    "collapsed": false
   },
   "outputs": [
    {
     "data": {
      "text/plain": [
       "<Release 4664 u'Stockholm By Night'>"
      ]
     },
     "execution_count": 24,
     "metadata": {},
     "output_type": "execute_result"
    }
   ],
   "source": [
    "results[0]"
   ]
  },
  {
   "cell_type": "code",
   "execution_count": 25,
   "metadata": {
    "collapsed": false
   },
   "outputs": [],
   "source": [
    "m = results[0]"
   ]
  },
  {
   "cell_type": "code",
   "execution_count": 26,
   "metadata": {
    "collapsed": false
   },
   "outputs": [
    {
     "data": {
      "text/plain": [
       "u'Sweden'"
      ]
     },
     "execution_count": 26,
     "metadata": {},
     "output_type": "execute_result"
    }
   ],
   "source": [
    "m.country"
   ]
  },
  {
   "cell_type": "code",
   "execution_count": 27,
   "metadata": {
    "collapsed": false
   },
   "outputs": [
    {
     "data": {
      "text/plain": [
       "[<Label 5 u'Svek'>]"
      ]
     },
     "execution_count": 27,
     "metadata": {},
     "output_type": "execute_result"
    }
   ],
   "source": [
    "m.labels"
   ]
  },
  {
   "cell_type": "code",
   "execution_count": 28,
   "metadata": {
    "collapsed": false
   },
   "outputs": [],
   "source": [
    "n = m.labels[0]"
   ]
  },
  {
   "cell_type": "code",
   "execution_count": 29,
   "metadata": {
    "collapsed": false
   },
   "outputs": [],
   "source": [
    "o = d.search('Svek', type='label')"
   ]
  },
  {
   "cell_type": "code",
   "execution_count": 30,
   "metadata": {
    "collapsed": false
   },
   "outputs": [
    {
     "data": {
      "text/plain": [
       "<Label 5 u'Svek'>"
      ]
     },
     "execution_count": 30,
     "metadata": {},
     "output_type": "execute_result"
    }
   ],
   "source": [
    "o[0]"
   ]
  },
  {
   "cell_type": "code",
   "execution_count": 31,
   "metadata": {
    "collapsed": false
   },
   "outputs": [
    {
     "data": {
      "text/plain": [
       "4"
      ]
     },
     "execution_count": 31,
     "metadata": {},
     "output_type": "execute_result"
    }
   ],
   "source": [
    "o.count"
   ]
  },
  {
   "cell_type": "code",
   "execution_count": 32,
   "metadata": {
    "collapsed": false
   },
   "outputs": [
    {
     "data": {
      "text/plain": [
       "<discogs_client.models.MixedPaginatedList at 0x41ac320>"
      ]
     },
     "execution_count": 32,
     "metadata": {},
     "output_type": "execute_result"
    }
   ],
   "source": [
    "o"
   ]
  },
  {
   "cell_type": "code",
   "execution_count": 33,
   "metadata": {
    "collapsed": false
   },
   "outputs": [
    {
     "name": "stdout",
     "output_type": "stream",
     "text": [
      "<Label 5 u'Svek'>\n",
      "<Label 468666 u'The Lords Of Svek'>\n",
      "<Label 10487 u'Secret Operations'>\n",
      "<Label 2437 u'Birdy'>\n"
     ]
    }
   ],
   "source": [
    "for label in o:\n",
    "    print label"
   ]
  },
  {
   "cell_type": "markdown",
   "metadata": {},
   "source": [
    "#Start Bob Marley Query "
   ]
  },
  {
   "cell_type": "code",
   "execution_count": 34,
   "metadata": {
    "collapsed": false
   },
   "outputs": [],
   "source": [
    "bm = d.search('Bob Marley', type='artist')"
   ]
  },
  {
   "cell_type": "code",
   "execution_count": 35,
   "metadata": {
    "collapsed": false
   },
   "outputs": [
    {
     "data": {
      "text/plain": [
       "<Artist 41441 u'Bob Marley'>"
      ]
     },
     "execution_count": 35,
     "metadata": {},
     "output_type": "execute_result"
    }
   ],
   "source": [
    "bm[0]"
   ]
  },
  {
   "cell_type": "code",
   "execution_count": 36,
   "metadata": {
    "collapsed": false
   },
   "outputs": [],
   "source": [
    "art = bm[0]"
   ]
  },
  {
   "cell_type": "code",
   "execution_count": 37,
   "metadata": {
    "collapsed": false
   },
   "outputs": [
    {
     "data": {
      "text/plain": [
       "41441"
      ]
     },
     "execution_count": 37,
     "metadata": {},
     "output_type": "execute_result"
    }
   ],
   "source": [
    "art.id"
   ]
  },
  {
   "cell_type": "code",
   "execution_count": 38,
   "metadata": {
    "collapsed": false
   },
   "outputs": [
    {
     "data": {
      "text/plain": [
       "[{u'height': 500,\n",
       "  u'resource_url': u'https://api-img.discogs.com/jiL8cWaWajonFtkgdvXuHMW9mwk=/500x500/smart/filters:strip_icc():format(jpeg):mode_rgb():quality(96)/discogs-images/A-41441-1416696133-7789.jpeg.jpg',\n",
       "  u'type': u'primary',\n",
       "  u'uri': u'https://api-img.discogs.com/jiL8cWaWajonFtkgdvXuHMW9mwk=/500x500/smart/filters:strip_icc():format(jpeg):mode_rgb():quality(96)/discogs-images/A-41441-1416696133-7789.jpeg.jpg',\n",
       "  u'uri150': u'https://api-img.discogs.com/x2UArFKSGpFla2OZxAvvw9FNp-E=/150x150/smart/filters:strip_icc():format(jpeg):mode_rgb()/discogs-images/A-41441-1416696133-7789.jpeg.jpg',\n",
       "  u'width': 500},\n",
       " {u'height': 540,\n",
       "  u'resource_url': u'https://api-img.discogs.com/8w8XjAPfq7q7StRXL0A4qgRoWAo=/600x540/smart/filters:strip_icc():format(jpeg):mode_rgb():quality(96)/discogs-images/A-41441-1142703198.jpeg.jpg',\n",
       "  u'type': u'secondary',\n",
       "  u'uri': u'https://api-img.discogs.com/8w8XjAPfq7q7StRXL0A4qgRoWAo=/600x540/smart/filters:strip_icc():format(jpeg):mode_rgb():quality(96)/discogs-images/A-41441-1142703198.jpeg.jpg',\n",
       "  u'uri150': u'https://api-img.discogs.com/iDnfwCvI07F2btyTAMG-cArLzNw=/150x150/smart/filters:strip_icc():format(jpeg):mode_rgb()/discogs-images/A-41441-1142703198.jpeg.jpg',\n",
       "  u'width': 600},\n",
       " {u'height': 600,\n",
       "  u'resource_url': u'https://api-img.discogs.com/oeXbGeA6zmfDpSWhO27O48C_GPM=/402x600/smart/filters:strip_icc():format(jpeg):mode_rgb():quality(96)/discogs-images/A-41441-1234948050.jpeg.jpg',\n",
       "  u'type': u'secondary',\n",
       "  u'uri': u'https://api-img.discogs.com/oeXbGeA6zmfDpSWhO27O48C_GPM=/402x600/smart/filters:strip_icc():format(jpeg):mode_rgb():quality(96)/discogs-images/A-41441-1234948050.jpeg.jpg',\n",
       "  u'uri150': u'https://api-img.discogs.com/CX-sDJ6Lt5G8LedI02FrkgfWqjI=/150x150/smart/filters:strip_icc():format(jpeg):mode_rgb()/discogs-images/A-41441-1234948050.jpeg.jpg',\n",
       "  u'width': 402},\n",
       " {u'height': 360,\n",
       "  u'resource_url': u'https://api-img.discogs.com/_WVonozJ4mTBSwc8ldh6DgxMauc=/250x360/smart/filters:strip_icc():format(jpeg):mode_rgb():quality(96)/discogs-images/A-41441-1142703240.jpeg.jpg',\n",
       "  u'type': u'secondary',\n",
       "  u'uri': u'https://api-img.discogs.com/_WVonozJ4mTBSwc8ldh6DgxMauc=/250x360/smart/filters:strip_icc():format(jpeg):mode_rgb():quality(96)/discogs-images/A-41441-1142703240.jpeg.jpg',\n",
       "  u'uri150': u'https://api-img.discogs.com/t1fnceaOUS7iYBNuaAhJw-975A0=/150x150/smart/filters:strip_icc():format(jpeg):mode_rgb()/discogs-images/A-41441-1142703240.jpeg.jpg',\n",
       "  u'width': 250},\n",
       " {u'height': 600,\n",
       "  u'resource_url': u'https://api-img.discogs.com/ch8NZSwBLQ6P6Z9_J4butZn1jRQ=/600x600/smart/filters:strip_icc():format(jpeg):mode_rgb():quality(96)/discogs-images/A-41441-1364479007-6925.jpeg.jpg',\n",
       "  u'type': u'secondary',\n",
       "  u'uri': u'https://api-img.discogs.com/ch8NZSwBLQ6P6Z9_J4butZn1jRQ=/600x600/smart/filters:strip_icc():format(jpeg):mode_rgb():quality(96)/discogs-images/A-41441-1364479007-6925.jpeg.jpg',\n",
       "  u'uri150': u'https://api-img.discogs.com/bGcrsPhz8ajC2vpI8GKKKECt8Lg=/150x150/smart/filters:strip_icc():format(jpeg):mode_rgb()/discogs-images/A-41441-1364479007-6925.jpeg.jpg',\n",
       "  u'width': 600},\n",
       " {u'height': 700,\n",
       "  u'resource_url': u'https://api-img.discogs.com/oo2gKdnlxQTlMxcpY6YJ3w9RHF8=/477x700/smart/filters:strip_icc():format(jpeg):mode_rgb():quality(96)/discogs-images/A-41441-1142703258.jpeg.jpg',\n",
       "  u'type': u'secondary',\n",
       "  u'uri': u'https://api-img.discogs.com/oo2gKdnlxQTlMxcpY6YJ3w9RHF8=/477x700/smart/filters:strip_icc():format(jpeg):mode_rgb():quality(96)/discogs-images/A-41441-1142703258.jpeg.jpg',\n",
       "  u'uri150': u'https://api-img.discogs.com/-2TLBYSF05Av_x9PTGoR6TayvV4=/150x150/smart/filters:strip_icc():format(jpeg):mode_rgb()/discogs-images/A-41441-1142703258.jpeg.jpg',\n",
       "  u'width': 477},\n",
       " {u'height': 371,\n",
       "  u'resource_url': u'https://api-img.discogs.com/O8Xadimt-sc_7TPbbCt3Y6w1hBM=/598x371/smart/filters:strip_icc():format(jpeg):mode_rgb():quality(96)/discogs-images/A-41441-1142703172.jpeg.jpg',\n",
       "  u'type': u'secondary',\n",
       "  u'uri': u'https://api-img.discogs.com/O8Xadimt-sc_7TPbbCt3Y6w1hBM=/598x371/smart/filters:strip_icc():format(jpeg):mode_rgb():quality(96)/discogs-images/A-41441-1142703172.jpeg.jpg',\n",
       "  u'uri150': u'https://api-img.discogs.com/0cHBuMoo4wUkgSlk1lZpOcFFjvg=/150x150/smart/filters:strip_icc():format(jpeg):mode_rgb()/discogs-images/A-41441-1142703172.jpeg.jpg',\n",
       "  u'width': 598},\n",
       " {u'height': 280,\n",
       "  u'resource_url': u'https://api-img.discogs.com/172BmpTIlBPPUO04SP1f19Q-Dwo=/224x280/smart/filters:strip_icc():format(jpeg):mode_rgb():quality(96)/discogs-images/A-41441-1103383543.jpg.jpg',\n",
       "  u'type': u'secondary',\n",
       "  u'uri': u'https://api-img.discogs.com/172BmpTIlBPPUO04SP1f19Q-Dwo=/224x280/smart/filters:strip_icc():format(jpeg):mode_rgb():quality(96)/discogs-images/A-41441-1103383543.jpg.jpg',\n",
       "  u'uri150': u'https://api-img.discogs.com/xZOgf2RtKaku-W1r1pdVSa9wfZM=/150x150/smart/filters:strip_icc():format(jpeg):mode_rgb()/discogs-images/A-41441-1103383543.jpg.jpg',\n",
       "  u'width': 224},\n",
       " {u'height': 240,\n",
       "  u'resource_url': u'https://api-img.discogs.com/PFTFL6kr3wwprjGYmbHneapvL8Y=/440x240/smart/filters:strip_icc():format(jpeg):mode_rgb():quality(96)/discogs-images/A-41441-1304753652.jpeg.jpg',\n",
       "  u'type': u'secondary',\n",
       "  u'uri': u'https://api-img.discogs.com/PFTFL6kr3wwprjGYmbHneapvL8Y=/440x240/smart/filters:strip_icc():format(jpeg):mode_rgb():quality(96)/discogs-images/A-41441-1304753652.jpeg.jpg',\n",
       "  u'uri150': u'https://api-img.discogs.com/PBCqjEzt7m0HYbmsfKRAuVBYfQk=/150x150/smart/filters:strip_icc():format(jpeg):mode_rgb()/discogs-images/A-41441-1304753652.jpeg.jpg',\n",
       "  u'width': 440},\n",
       " {u'height': 490,\n",
       "  u'resource_url': u'https://api-img.discogs.com/_9FsNymwZuH1-Hbc6r2BUL-n-sY=/409x490/smart/filters:strip_icc():format(jpeg):mode_rgb():quality(96)/discogs-images/A-41441-1360191151-9363.jpeg.jpg',\n",
       "  u'type': u'secondary',\n",
       "  u'uri': u'https://api-img.discogs.com/_9FsNymwZuH1-Hbc6r2BUL-n-sY=/409x490/smart/filters:strip_icc():format(jpeg):mode_rgb():quality(96)/discogs-images/A-41441-1360191151-9363.jpeg.jpg',\n",
       "  u'uri150': u'https://api-img.discogs.com/DuGIH3ThzEnLedOfVjvD4bP4_fg=/150x150/smart/filters:strip_icc():format(jpeg):mode_rgb()/discogs-images/A-41441-1360191151-9363.jpeg.jpg',\n",
       "  u'width': 409},\n",
       " {u'height': 594,\n",
       "  u'resource_url': u'https://api-img.discogs.com/Eqk4SMvQk7VwAwCsR4ipAqJQ-MQ=/590x594/smart/filters:strip_icc():format(jpeg):mode_rgb():quality(96)/discogs-images/A-41441-1362340383-7855.jpeg.jpg',\n",
       "  u'type': u'secondary',\n",
       "  u'uri': u'https://api-img.discogs.com/Eqk4SMvQk7VwAwCsR4ipAqJQ-MQ=/590x594/smart/filters:strip_icc():format(jpeg):mode_rgb():quality(96)/discogs-images/A-41441-1362340383-7855.jpeg.jpg',\n",
       "  u'uri150': u'https://api-img.discogs.com/MOiQAqf2ox8vyb3GN_5AScJtXVk=/150x150/smart/filters:strip_icc():format(jpeg):mode_rgb()/discogs-images/A-41441-1362340383-7855.jpeg.jpg',\n",
       "  u'width': 590},\n",
       " {u'height': 402,\n",
       "  u'resource_url': u'https://api-img.discogs.com/tkP_9pU9MeYZAM7nVz2XH2f5VnU=/402x402/smart/filters:strip_icc():format(jpeg):mode_rgb():quality(96)/discogs-images/A-41441-1362340389-9021.jpeg.jpg',\n",
       "  u'type': u'secondary',\n",
       "  u'uri': u'https://api-img.discogs.com/tkP_9pU9MeYZAM7nVz2XH2f5VnU=/402x402/smart/filters:strip_icc():format(jpeg):mode_rgb():quality(96)/discogs-images/A-41441-1362340389-9021.jpeg.jpg',\n",
       "  u'uri150': u'https://api-img.discogs.com/m3eaviVC-M_Kx9tsvp4tjgNdF1E=/150x150/smart/filters:strip_icc():format(jpeg):mode_rgb()/discogs-images/A-41441-1362340389-9021.jpeg.jpg',\n",
       "  u'width': 402},\n",
       " {u'height': 383,\n",
       "  u'resource_url': u'https://api-img.discogs.com/QxMlWqsS4U-IqAARMVaeSewLmTw=/600x383/smart/filters:strip_icc():format(jpeg):mode_rgb():quality(96)/discogs-images/A-41441-1362340395-1923.jpeg.jpg',\n",
       "  u'type': u'secondary',\n",
       "  u'uri': u'https://api-img.discogs.com/QxMlWqsS4U-IqAARMVaeSewLmTw=/600x383/smart/filters:strip_icc():format(jpeg):mode_rgb():quality(96)/discogs-images/A-41441-1362340395-1923.jpeg.jpg',\n",
       "  u'uri150': u'https://api-img.discogs.com/3Qyo581QOAj_80AXycTa1TedLxc=/150x150/smart/filters:strip_icc():format(jpeg):mode_rgb()/discogs-images/A-41441-1362340395-1923.jpeg.jpg',\n",
       "  u'width': 600},\n",
       " {u'height': 450,\n",
       "  u'resource_url': u'https://api-img.discogs.com/l8ic-cN7WM3FOuPkPzr57j05Bhg=/600x450/smart/filters:strip_icc():format(jpeg):mode_rgb():quality(96)/discogs-images/A-41441-1362340400-8372.jpeg.jpg',\n",
       "  u'type': u'secondary',\n",
       "  u'uri': u'https://api-img.discogs.com/l8ic-cN7WM3FOuPkPzr57j05Bhg=/600x450/smart/filters:strip_icc():format(jpeg):mode_rgb():quality(96)/discogs-images/A-41441-1362340400-8372.jpeg.jpg',\n",
       "  u'uri150': u'https://api-img.discogs.com/PZ-ZSzbM6KT_ehnIwZMwEuMsDy4=/150x150/smart/filters:strip_icc():format(jpeg):mode_rgb()/discogs-images/A-41441-1362340400-8372.jpeg.jpg',\n",
       "  u'width': 600},\n",
       " {u'height': 405,\n",
       "  u'resource_url': u'https://api-img.discogs.com/bvPR5l1_Muy4vaH0W3i3MvFJwkE=/600x405/smart/filters:strip_icc():format(jpeg):mode_rgb():quality(96)/discogs-images/A-41441-1362340405-4060.jpeg.jpg',\n",
       "  u'type': u'secondary',\n",
       "  u'uri': u'https://api-img.discogs.com/bvPR5l1_Muy4vaH0W3i3MvFJwkE=/600x405/smart/filters:strip_icc():format(jpeg):mode_rgb():quality(96)/discogs-images/A-41441-1362340405-4060.jpeg.jpg',\n",
       "  u'uri150': u'https://api-img.discogs.com/SaJ9Z6vsQCC7Vj_B2li3uSQDBCE=/150x150/smart/filters:strip_icc():format(jpeg):mode_rgb()/discogs-images/A-41441-1362340405-4060.jpeg.jpg',\n",
       "  u'width': 600},\n",
       " {u'height': 500,\n",
       "  u'resource_url': u'https://api-img.discogs.com/djZXg8HWaxwOr1Zk35zBVIv8Zoc=/331x500/smart/filters:strip_icc():format(jpeg):mode_rgb():quality(96)/discogs-images/A-41441-1362340455-6223.jpeg.jpg',\n",
       "  u'type': u'secondary',\n",
       "  u'uri': u'https://api-img.discogs.com/djZXg8HWaxwOr1Zk35zBVIv8Zoc=/331x500/smart/filters:strip_icc():format(jpeg):mode_rgb():quality(96)/discogs-images/A-41441-1362340455-6223.jpeg.jpg',\n",
       "  u'uri150': u'https://api-img.discogs.com/XP06OImXEc8ai25Yu4FnERgkDIE=/150x150/smart/filters:strip_icc():format(jpeg):mode_rgb()/discogs-images/A-41441-1362340455-6223.jpeg.jpg',\n",
       "  u'width': 331},\n",
       " {u'height': 344,\n",
       "  u'resource_url': u'https://api-img.discogs.com/a9SnksfMF6wJHWenvm1KYDjAUZs=/500x344/smart/filters:strip_icc():format(jpeg):mode_rgb():quality(96)/discogs-images/A-41441-1362340461-3421.jpeg.jpg',\n",
       "  u'type': u'secondary',\n",
       "  u'uri': u'https://api-img.discogs.com/a9SnksfMF6wJHWenvm1KYDjAUZs=/500x344/smart/filters:strip_icc():format(jpeg):mode_rgb():quality(96)/discogs-images/A-41441-1362340461-3421.jpeg.jpg',\n",
       "  u'uri150': u'https://api-img.discogs.com/lhVEju4v58RmKkPUpgNZyB764dE=/150x150/smart/filters:strip_icc():format(jpeg):mode_rgb()/discogs-images/A-41441-1362340461-3421.jpeg.jpg',\n",
       "  u'width': 500},\n",
       " {u'height': 391,\n",
       "  u'resource_url': u'https://api-img.discogs.com/7TmGWKDqQ2FL0TevOtwhBRsthAQ=/599x391/smart/filters:strip_icc():format(jpeg):mode_rgb():quality(96)/discogs-images/A-41441-1362340467-7897.jpeg.jpg',\n",
       "  u'type': u'secondary',\n",
       "  u'uri': u'https://api-img.discogs.com/7TmGWKDqQ2FL0TevOtwhBRsthAQ=/599x391/smart/filters:strip_icc():format(jpeg):mode_rgb():quality(96)/discogs-images/A-41441-1362340467-7897.jpeg.jpg',\n",
       "  u'uri150': u'https://api-img.discogs.com/doffgAuJw2pDn4sUwerCrPw93bw=/150x150/smart/filters:strip_icc():format(jpeg):mode_rgb()/discogs-images/A-41441-1362340467-7897.jpeg.jpg',\n",
       "  u'width': 599}]"
      ]
     },
     "execution_count": 38,
     "metadata": {},
     "output_type": "execute_result"
    }
   ],
   "source": [
    "art.images"
   ]
  },
  {
   "cell_type": "code",
   "execution_count": 39,
   "metadata": {
    "collapsed": false
   },
   "outputs": [],
   "source": [
    "rel = art.releases"
   ]
  },
  {
   "cell_type": "code",
   "execution_count": 40,
   "metadata": {
    "collapsed": false
   },
   "outputs": [
    {
     "data": {
      "text/plain": [
       "3317"
      ]
     },
     "execution_count": 40,
     "metadata": {},
     "output_type": "execute_result"
    }
   ],
   "source": [
    "rel.count"
   ]
  },
  {
   "cell_type": "code",
   "execution_count": 68,
   "metadata": {
    "collapsed": false
   },
   "outputs": [],
   "source": [
    "rel1 = rel[10]"
   ]
  },
  {
   "cell_type": "code",
   "execution_count": 69,
   "metadata": {
    "collapsed": false
   },
   "outputs": [
    {
     "data": {
      "text/plain": [
       "<Release 4529190 u'What A Confusion / Small Axe'>"
      ]
     },
     "execution_count": 69,
     "metadata": {},
     "output_type": "execute_result"
    }
   ],
   "source": [
    "rel1"
   ]
  },
  {
   "cell_type": "code",
   "execution_count": 70,
   "metadata": {
    "collapsed": false
   },
   "outputs": [
    {
     "data": {
      "text/plain": [
       "{u'artist': u'Dave Barker (2) / Bob Marley',\n",
       " u'artists': [{u'anv': u'',\n",
       "   u'id': 240870,\n",
       "   u'join': u'/',\n",
       "   u'name': u'Dave Barker (2)',\n",
       "   u'resource_url': u'https://api.discogs.com/artists/240870',\n",
       "   u'role': u'',\n",
       "   u'tracks': u''},\n",
       "  {u'anv': u'',\n",
       "   u'id': 41441,\n",
       "   u'join': u'',\n",
       "   u'name': u'Bob Marley',\n",
       "   u'resource_url': u'https://api.discogs.com/artists/41441',\n",
       "   u'role': u'',\n",
       "   u'tracks': u''}],\n",
       " u'community': {u'contributors': [{u'resource_url': u'https://api.discogs.com/users/mountain_man',\n",
       "    u'username': u'mountain_man'},\n",
       "   {u'resource_url': u'https://api.discogs.com/users/devon_ites',\n",
       "    u'username': u'devon_ites'},\n",
       "   {u'resource_url': u'https://api.discogs.com/users/gshiel',\n",
       "    u'username': u'gshiel'}],\n",
       "  u'data_quality': u'Needs Vote',\n",
       "  u'have': 5,\n",
       "  u'rating': {u'average': 5.0, u'count': 2},\n",
       "  u'status': u'Accepted',\n",
       "  u'submitter': {u'resource_url': u'https://api.discogs.com/users/mountain_man',\n",
       "   u'username': u'mountain_man'},\n",
       "  u'want': 28},\n",
       " u'companies': [{u'catno': u'',\n",
       "   u'entity_type': u'9',\n",
       "   u'entity_type_name': u'Distributed By',\n",
       "   u'id': 429699,\n",
       "   u'name': u'Pama Records Limited',\n",
       "   u'resource_url': u'https://api.discogs.com/labels/429699'}],\n",
       " u'country': u'UK',\n",
       " u'data_quality': u'Needs Vote',\n",
       " u'date_added': u'2013-05-01T22:23:12-07:00',\n",
       " u'date_changed': u'2014-07-09T05:59:08-07:00',\n",
       " u'estimated_weight': 60,\n",
       " u'extraartists': [],\n",
       " u'format': u'7\"',\n",
       " u'format_quantity': 1,\n",
       " u'formats': [{u'descriptions': [u'7\"', u'45 RPM'],\n",
       "   u'name': u'Vinyl',\n",
       "   u'qty': u'1'}],\n",
       " u'genres': [u'Reggae'],\n",
       " u'id': 4529190,\n",
       " u'identifiers': [{u'description': u'Side A Runout',\n",
       "   u'type': u'Matrix / Runout',\n",
       "   u'value': u'PH 69 A 2'},\n",
       "  {u'description': u'Side B Runout',\n",
       "   u'type': u'Matrix / Runout',\n",
       "   u'value': u'PH 69 B1'}],\n",
       " u'images': [{u'height': 600,\n",
       "   u'resource_url': u'https://api-img.discogs.com/hCk4qQ55W6wQ2Qb2EmPVLvgGrGg=/fit-in/600x600/filters:strip_icc():format(jpeg):mode_rgb():quality(96)/discogs-images/R-4529190-1404910618-5180.jpeg.jpg',\n",
       "   u'type': u'primary',\n",
       "   u'uri': u'https://api-img.discogs.com/hCk4qQ55W6wQ2Qb2EmPVLvgGrGg=/fit-in/600x600/filters:strip_icc():format(jpeg):mode_rgb():quality(96)/discogs-images/R-4529190-1404910618-5180.jpeg.jpg',\n",
       "   u'uri150': u'https://api-img.discogs.com/OgZ7tFdfkTAJ9mtJ76I7btEh1RI=/fit-in/150x150/filters:strip_icc():format(jpeg):mode_rgb()/discogs-images/R-4529190-1404910618-5180.jpeg.jpg',\n",
       "   u'width': 600},\n",
       "  {u'height': 600,\n",
       "   u'resource_url': u'https://api-img.discogs.com/gt4Q0aj7F1-CmXlFmiwG-7hX4PU=/fit-in/600x600/filters:strip_icc():format(jpeg):mode_rgb():quality(96)/discogs-images/R-4529190-1404910655-7137.jpeg.jpg',\n",
       "   u'type': u'secondary',\n",
       "   u'uri': u'https://api-img.discogs.com/gt4Q0aj7F1-CmXlFmiwG-7hX4PU=/fit-in/600x600/filters:strip_icc():format(jpeg):mode_rgb():quality(96)/discogs-images/R-4529190-1404910655-7137.jpeg.jpg',\n",
       "   u'uri150': u'https://api-img.discogs.com/P7_V8SVsVp2AZL54CET80IxcMwM=/fit-in/150x150/filters:strip_icc():format(jpeg):mode_rgb()/discogs-images/R-4529190-1404910655-7137.jpeg.jpg',\n",
       "   u'width': 600}],\n",
       " u'label': u'Punch',\n",
       " u'labels': [{u'catno': u'PH 69',\n",
       "   u'entity_type': u'1',\n",
       "   u'id': 100280,\n",
       "   u'name': u'Punch',\n",
       "   u'resource_url': u'https://api.discogs.com/labels/100280'}],\n",
       " u'notes': u\"Side B matrix has an 'A' scratched out before 'B1'\",\n",
       " u'released': u'1971',\n",
       " u'released_formatted': u'1971',\n",
       " u'resource_url': u'https://api.discogs.com/releases/4529190',\n",
       " u'role': u'Main',\n",
       " u'series': [],\n",
       " u'status': u'Accepted',\n",
       " u'thumb': u'https://api-img.discogs.com/OgZ7tFdfkTAJ9mtJ76I7btEh1RI=/fit-in/150x150/filters:strip_icc():format(jpeg):mode_rgb()/discogs-images/R-4529190-1404910618-5180.jpeg.jpg',\n",
       " u'title': u'What A Confusion / Small Axe',\n",
       " u'tracklist': [{u'duration': u'',\n",
       "   u'position': u'A',\n",
       "   u'title': u'What A Confusion ',\n",
       "   u'type_': u'track'},\n",
       "  {u'duration': u'',\n",
       "   u'position': u'B',\n",
       "   u'title': u'Small Axe',\n",
       "   u'type_': u'track'}],\n",
       " u'type': u'release',\n",
       " u'uri': u'https://www.discogs.com/Dave-Barker-2-Bob-Marley-What-A-Confusion-Small-Axe/release/4529190',\n",
       " u'year': 1971}"
      ]
     },
     "execution_count": 70,
     "metadata": {},
     "output_type": "execute_result"
    }
   ],
   "source": [
    "rel1.data"
   ]
  },
  {
   "cell_type": "code",
   "execution_count": 73,
   "metadata": {
    "collapsed": false
   },
   "outputs": [
    {
     "data": {
      "text/plain": [
       "1971"
      ]
     },
     "execution_count": 73,
     "metadata": {},
     "output_type": "execute_result"
    }
   ],
   "source": [
    "rel1.year"
   ]
  },
  {
   "cell_type": "code",
   "execution_count": 45,
   "metadata": {
    "collapsed": false
   },
   "outputs": [
    {
     "data": {
      "text/plain": [
       "u'the king of REGGAE'"
      ]
     },
     "execution_count": 45,
     "metadata": {},
     "output_type": "execute_result"
    }
   ],
   "source": [
    "rel1.title"
   ]
  },
  {
   "cell_type": "code",
   "execution_count": 52,
   "metadata": {
    "collapsed": false
   },
   "outputs": [],
   "source": [
    "rel1label = rel1.labels[0]"
   ]
  },
  {
   "cell_type": "code",
   "execution_count": 53,
   "metadata": {
    "collapsed": false
   },
   "outputs": [
    {
     "data": {
      "text/plain": [
       "<Label 20561 u'Lotus'>"
      ]
     },
     "execution_count": 53,
     "metadata": {},
     "output_type": "execute_result"
    }
   ],
   "source": [
    "rel1label"
   ]
  },
  {
   "cell_type": "code",
   "execution_count": 55,
   "metadata": {
    "collapsed": false
   },
   "outputs": [
    {
     "data": {
      "text/plain": [
       "u'Lotus'"
      ]
     },
     "execution_count": 55,
     "metadata": {},
     "output_type": "execute_result"
    }
   ],
   "source": [
    "rel1label.name"
   ]
  },
  {
   "cell_type": "code",
   "execution_count": 56,
   "metadata": {
    "collapsed": false
   },
   "outputs": [
    {
     "data": {
      "text/plain": [
       "u'Italy'"
      ]
     },
     "execution_count": 56,
     "metadata": {},
     "output_type": "execute_result"
    }
   ],
   "source": [
    "rel1.country"
   ]
  },
  {
   "cell_type": "code",
   "execution_count": 82,
   "metadata": {
    "collapsed": true
   },
   "outputs": [],
   "source": [
    "def relinfo(release):\n",
    "    name = release.title\n",
    "    country = release.country\n",
    "    labelnames = []\n",
    "    for label in release.labels:\n",
    "        labelnames.append(label.name)\n",
    "    year = release.data['year']\n",
    "    print name,', ', country,', ', labelnames, ', ', year"
   ]
  },
  {
   "cell_type": "code",
   "execution_count": 75,
   "metadata": {
    "collapsed": false
   },
   "outputs": [
    {
     "name": "stdout",
     "output_type": "stream",
     "text": [
      "What A Confusion / Small Axe ,  UK ,  [u'Punch'] ,  1971\n"
     ]
    }
   ],
   "source": [
    "relinfo(rel[10])"
   ]
  },
  {
   "cell_type": "code",
   "execution_count": 78,
   "metadata": {
    "collapsed": false
   },
   "outputs": [
    {
     "data": {
      "text/plain": [
       "[0, 1, 2, 3, 4, 5, 6, 7, 8, 9, 10, 11, 12, 13, 14, 15, 16, 17, 18, 19]"
      ]
     },
     "execution_count": 78,
     "metadata": {},
     "output_type": "execute_result"
    }
   ],
   "source": [
    "range(20)"
   ]
  },
  {
   "cell_type": "code",
   "execution_count": 83,
   "metadata": {
    "collapsed": false
   },
   "outputs": [
    {
     "name": "stdout",
     "output_type": "stream",
     "text": [
      "the king of REGGAE ,  Italy ,  [u'Lotus'] ,  0\n",
      "the KING of REGGAE ,  Italy ,  [u'Lotus', u'Lotus', u'Lotus'] ,  1986\n",
      "sun is shining  ,  US ,  [u'Edel America Records'] ,  1999\n",
      "Young Mystic ,  US ,  [u'Audio Fidelity (3)'] ,  2004\n",
      "Wisdom ,  UK ,  [u'Recall 2cd'] ,  1998\n",
      "Error\n",
      "Who Is He (Tss Tss Remix) / Get Up Stand Up (Tss Tss Remix) ,  Sweden ,  [u'G.A.M.M.'] ,  2010\n",
      "Who Colt The Game ,  Australia ,  [u'Ascension Records (5)'] ,  0\n",
      "White Collection - Lion Of Zion ,  UK, Europe & US ,  [u'Weton-Wesgram'] ,  2008\n",
      "Error\n",
      "What A Confusion / Small Axe ,  UK ,  [u'Punch'] ,  1971\n",
      "War / No More Trouble (Live) ,  None ,  [u'Island Records'] ,  0\n",
      "Volume Two - Riding High ,  UK ,  [u'Object Enterprises'] ,  1990\n",
      "Volume Two ,  UK ,  [u'Tring International PLC'] ,  0\n",
      "Volume Two ,  UK ,  [u'Going For A Song'] ,  0\n",
      "Volume Three ,  UK ,  [u'Tring International PLC'] ,  0\n",
      "Volume Three ,  UK ,  [u'Going For A Song'] ,  0\n",
      "Error\n",
      "Volume One ,  UK ,  [u'Tring International PLC'] ,  0\n",
      "Volume One ,  UK ,  [u'Going For A Song'] ,  0\n"
     ]
    }
   ],
   "source": [
    "for i in range(20):\n",
    "    try:\n",
    "        relinfo(rel[i])\n",
    "    except AttributeError:\n",
    "        print 'Error'\n",
    "    "
   ]
  },
  {
   "cell_type": "code",
   "execution_count": 104,
   "metadata": {
    "collapsed": true
   },
   "outputs": [],
   "source": [
    "def writefile(filename, results):\n",
    "    f = open(filename+'.py','w')\n",
    "    f.write(\"results = \" + str(results))\n",
    "    f.close()"
   ]
  },
  {
   "cell_type": "code",
   "execution_count": 108,
   "metadata": {
    "collapsed": false
   },
   "outputs": [
    {
     "name": "stdout",
     "output_type": "stream",
     "text": [
      "0 1 2 3 4 5 6 7 8 9 10 11 12 13 14 15 16 17 18 19 20 21 22 23 24 25 26 27 28 29 30 31 32 33 34 35 36 37 38 39 40 41 42 43 44 45 46 47 48 49 50 51 52 53 54 55 56 57 58 59 60 61 62 63 64 65 66 67 68 69 70 71 72 73 74 75 76 77 78 79 80 81 no year 82 no year 83 84 85 86 87 88 89 90 91 92 93 94 95 96 97 98 99 100 101 102 103 104 105 no year 106 107 108 109\n"
     ]
    }
   ],
   "source": [
    "releaseyears = []\n",
    "for i in range(110):\n",
    "    print i,\n",
    "    try:\n",
    "        releaseyears.append(rel[i].data['year'])\n",
    "    except KeyError:\n",
    "        print 'no year',\n",
    "writefile('bobmarley', releaseyears)        "
   ]
  },
  {
   "cell_type": "code",
   "execution_count": 119,
   "metadata": {
    "collapsed": true
   },
   "outputs": [],
   "source": [
    "import bobmarley"
   ]
  },
  {
   "cell_type": "code",
   "execution_count": 116,
   "metadata": {
    "collapsed": true
   },
   "outputs": [],
   "source": [
    "%load_ext autoreload\n",
    "%autoreload 2"
   ]
  },
  {
   "cell_type": "code",
   "execution_count": 120,
   "metadata": {
    "collapsed": false
   },
   "outputs": [
    {
     "data": {
      "text/plain": [
       "[0,\n",
       " 1986,\n",
       " 1999,\n",
       " 2004,\n",
       " 1998,\n",
       " 1992,\n",
       " 2010,\n",
       " 0,\n",
       " 2008,\n",
       " 1996,\n",
       " 1971,\n",
       " 0,\n",
       " 1990,\n",
       " 0,\n",
       " 0,\n",
       " 0,\n",
       " 0,\n",
       " 1990,\n",
       " 0,\n",
       " 0,\n",
       " 1987,\n",
       " 1987,\n",
       " 1992,\n",
       " 0,\n",
       " 0,\n",
       " 1991,\n",
       " 1996,\n",
       " 0,\n",
       " 2014,\n",
       " 2014,\n",
       " 1999,\n",
       " 2001,\n",
       " 0,\n",
       " 0,\n",
       " 1997,\n",
       " 1981,\n",
       " 2001,\n",
       " 2004,\n",
       " 1996,\n",
       " 2001,\n",
       " 1992,\n",
       " 1985,\n",
       " 2001,\n",
       " 0,\n",
       " 2006,\n",
       " 2010,\n",
       " 0,\n",
       " 1997,\n",
       " 2001,\n",
       " 1989,\n",
       " 1998,\n",
       " 1996,\n",
       " 1985,\n",
       " 0,\n",
       " 0,\n",
       " 0,\n",
       " 0,\n",
       " 0,\n",
       " 2003,\n",
       " 2003,\n",
       " 2014,\n",
       " 1996,\n",
       " 1996,\n",
       " 1999,\n",
       " 1993,\n",
       " 1997,\n",
       " 2006,\n",
       " 2010,\n",
       " 2005,\n",
       " 2005,\n",
       " 2008,\n",
       " 2015,\n",
       " 2004,\n",
       " 1997,\n",
       " 1997,\n",
       " 1999,\n",
       " 2001,\n",
       " 0,\n",
       " 2006,\n",
       " 0,\n",
       " 0,\n",
       " 0,\n",
       " 0,\n",
       " 0,\n",
       " 0,\n",
       " 1999,\n",
       " 1980,\n",
       " 1990,\n",
       " 1993,\n",
       " 2004,\n",
       " 1997,\n",
       " 2008,\n",
       " 2015,\n",
       " 1999,\n",
       " 1992,\n",
       " 2003,\n",
       " 1981,\n",
       " 0,\n",
       " 1995,\n",
       " 1999,\n",
       " 1999,\n",
       " 2001,\n",
       " 2006,\n",
       " 2000,\n",
       " 2001,\n",
       " 1999,\n",
       " 2002]"
      ]
     },
     "execution_count": 120,
     "metadata": {},
     "output_type": "execute_result"
    }
   ],
   "source": [
    "bobmarley.results"
   ]
  },
  {
   "cell_type": "code",
   "execution_count": 66,
   "metadata": {
    "collapsed": false
   },
   "outputs": [
    {
     "data": {
      "text/plain": [
       "376"
      ]
     },
     "execution_count": 66,
     "metadata": {},
     "output_type": "execute_result"
    }
   ],
   "source": [
    "len(releaseyears)"
   ]
  },
  {
   "cell_type": "code",
   "execution_count": 67,
   "metadata": {
    "collapsed": false
   },
   "outputs": [],
   "source": [
    "import matplotlib\n",
    "%matplotlib inline"
   ]
  },
  {
   "cell_type": "code",
   "execution_count": 68,
   "metadata": {
    "collapsed": false
   },
   "outputs": [],
   "source": [
    "from matplotlib import pyplot as plt"
   ]
  },
  {
   "cell_type": "code",
   "execution_count": 70,
   "metadata": {
    "collapsed": false
   },
   "outputs": [
    {
     "data": {
      "text/plain": [
       "(array([   5.,    5.,    4.,   32.,   21.,   59.,  107.,   64.,   54.,   25.]),\n",
       " array([ 1962. ,  1967.3,  1972.6,  1977.9,  1983.2,  1988.5,  1993.8,\n",
       "         1999.1,  2004.4,  2009.7,  2015. ]),\n",
       " <a list of 10 Patch objects>)"
      ]
     },
     "execution_count": 70,
     "metadata": {},
     "output_type": "execute_result"
    },
    {
     "data": {
      "image/png": "[encoded data removed]",
      "text/plain": [
       "<matplotlib.figure.Figure at 0x42b1320>"
      ]
     },
     "metadata": {},
     "output_type": "display_data"
    }
   ],
   "source": [
    "plt.hist(releaseyears)"
   ]
  },
  {
   "cell_type": "code",
   "execution_count": 71,
   "metadata": {
    "collapsed": false
   },
   "outputs": [
    {
     "data": {
      "text/plain": [
       "<function matplotlib.pyplot.hist>"
      ]
     },
     "execution_count": 71,
     "metadata": {},
     "output_type": "execute_result"
    }
   ],
   "source": [
    "plt.hist()"
   ]
  },
  {
   "cell_type": "code",
   "execution_count": 72,
   "metadata": {
    "collapsed": false
   },
   "outputs": [
    {
     "data": {
      "text/plain": [
       "1962"
      ]
     },
     "execution_count": 72,
     "metadata": {},
     "output_type": "execute_result"
    }
   ],
   "source": [
    "min(releaseyears)"
   ]
  },
  {
   "cell_type": "code",
   "execution_count": 85,
   "metadata": {
    "collapsed": false
   },
   "outputs": [
    {
     "data": {
      "text/plain": [
       "2015"
      ]
     },
     "execution_count": 85,
     "metadata": {},
     "output_type": "execute_result"
    }
   ],
   "source": [
    "max(releaseyears2)"
   ]
  },
  {
   "cell_type": "code",
   "execution_count": 80,
   "metadata": {
    "collapsed": false
   },
   "outputs": [],
   "source": [
    "bins = range(min(releaseyears2),max(releaseyears2)+1,1)"
   ]
  },
  {
   "cell_type": "code",
   "execution_count": 87,
   "metadata": {
    "collapsed": false
   },
   "outputs": [
    {
     "data": {
      "text/plain": [
       "<matplotlib.text.Text at 0xd6b9b38>"
      ]
     },
     "execution_count": 87,
     "metadata": {},
     "output_type": "execute_result"
    },
    {
     "data": {
      "image/png": "[encoded data removed]",
      "text/plain": [
       "<matplotlib.figure.Figure at 0xd55f898>"
      ]
     },
     "metadata": {},
     "output_type": "display_data"
    }
   ],
   "source": [
    "plt.hist(releaseyears2,bins = bins)\n",
    "plt.xlim(min(releaseyears2),max(releaseyears2))\n",
    "plt.ylabel('# Releases')\n",
    "plt.xlabel('Year')\n",
    "plt.title('Bob Marley Releases by Year')"
   ]
  },
  {
   "cell_type": "code",
   "execution_count": null,
   "metadata": {
    "collapsed": false
   },
   "outputs": [],
   "source": [
    "plt"
   ]
  },
  {
   "cell_type": "code",
   "execution_count": 90,
   "metadata": {
    "collapsed": false
   },
   "outputs": [
    {
     "data": {
      "image/png": "[encoded data removed]",
      "text/plain": [
       "<matplotlib.figure.Figure at 0xdf8d6d8>"
      ]
     },
     "metadata": {},
     "output_type": "display_data"
    }
   ],
   "source": [
    "f, ax = plt.subplots(nrows=1,ncols=1)\n",
    "ax.hist(releaseyears2,bins = bins)\n",
    "plt.xlim(min(releaseyears2),max(releaseyears2))\n",
    "plt.ylabel('# Releases')\n",
    "plt.xlabel('Year')\n",
    "plt.title('Bob Marley Releases by Year - 1962 to Present')\n",
    "f.savefig('bobmarleyyears.png')"
   ]
  },
  {
   "cell_type": "code",
   "execution_count": null,
   "metadata": {
    "collapsed": false
   },
   "outputs": [],
   "source": []
  }
 ],
 "metadata": {
  "kernelspec": {
   "display_name": "Python 2",
   "language": "python",
   "name": "python2"
  },
  "language_info": {
   "codemirror_mode": {
    "name": "ipython",
    "version": 2
   },
   "file_extension": ".py",
   "mimetype": "text/x-python",
   "name": "python",
   "nbconvert_exporter": "python",
   "pygments_lexer": "ipython2",
   "version": "2.7.8"
  }
 },
 "nbformat": 4,
 "nbformat_minor": 0
}
