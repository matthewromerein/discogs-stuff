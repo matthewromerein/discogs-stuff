{
 "cells": [
  {
   "cell_type": "markdown",
   "metadata": {},
   "source": [
    "Following instructions on https://github.com/discogs/discogs_client"
   ]
  },
  {
   "cell_type": "code",
   "execution_count": 308,
   "metadata": {
    "collapsed": false
   },
   "outputs": [
    {
     "name": "stdout",
     "output_type": "stream",
     "text": [
      "\n"
     ]
    }
   ],
   "source": [
    "import discogs_client"
   ]
  },
  {
   "cell_type": "code",
   "execution_count": 309,
   "metadata": {
    "collapsed": false
   },
   "outputs": [],
   "source": [
    "import requests\n",
    "requests.packages.urllib3.disable_warnings()"
   ]
  },
  {
   "cell_type": "code",
   "execution_count": 310,
   "metadata": {
    "collapsed": false
   },
   "outputs": [],
   "source": [
    "d = discogs_client.Client('discogs_sesh',user_token=\"HahvJQcXfaEZeUnbiRBRfHYTtYsnXbOsagnhTtMk\")"
   ]
  },
  {
   "cell_type": "markdown",
   "metadata": {},
   "source": [
    "Search for releases named 'Stockholm By Night' and the get number of pages of search results"
   ]
  },
  {
   "cell_type": "code",
   "execution_count": 5,
   "metadata": {
    "collapsed": false
   },
   "outputs": [
    {
     "data": {
      "text/plain": [
       "22"
      ]
     },
     "execution_count": 5,
     "metadata": {},
     "output_type": "execute_result"
    }
   ],
   "source": [
    "results = d.search('Stockholm By Night', type='release')\n",
    "results.pages"
   ]
  },
  {
   "cell_type": "markdown",
   "metadata": {},
   "source": [
    "Get the artist of the first search result"
   ]
  },
  {
   "cell_type": "code",
   "execution_count": 6,
   "metadata": {
    "collapsed": false
   },
   "outputs": [
    {
     "data": {
      "text/plain": [
       "u'Persuader, The'"
      ]
     },
     "execution_count": 6,
     "metadata": {},
     "output_type": "execute_result"
    }
   ],
   "source": [
    "artist = results[0].artists[0]\n",
    "artist.name"
   ]
  },
  {
   "cell_type": "code",
   "execution_count": 7,
   "metadata": {
    "collapsed": false
   },
   "outputs": [
    {
     "data": {
      "text/plain": [
       "<discogs_client.models.MixedPaginatedList at 0x3d37630>"
      ]
     },
     "execution_count": 7,
     "metadata": {},
     "output_type": "execute_result"
    }
   ],
   "source": [
    "results"
   ]
  },
  {
   "cell_type": "code",
   "execution_count": 8,
   "metadata": {
    "collapsed": false
   },
   "outputs": [],
   "source": [
    "# for x in results:\n",
    "#     print x"
   ]
  },
  {
   "cell_type": "code",
   "execution_count": 9,
   "metadata": {
    "collapsed": false
   },
   "outputs": [
    {
     "data": {
      "text/plain": [
       "<Release 4664 u'Stockholm By Night'>"
      ]
     },
     "execution_count": 9,
     "metadata": {},
     "output_type": "execute_result"
    }
   ],
   "source": [
    "results[0]"
   ]
  },
  {
   "cell_type": "code",
   "execution_count": 10,
   "metadata": {
    "collapsed": false
   },
   "outputs": [],
   "source": [
    "m = results[0]"
   ]
  },
  {
   "cell_type": "code",
   "execution_count": 11,
   "metadata": {
    "collapsed": false
   },
   "outputs": [
    {
     "data": {
      "text/plain": [
       "u'Sweden'"
      ]
     },
     "execution_count": 11,
     "metadata": {},
     "output_type": "execute_result"
    }
   ],
   "source": [
    "m.country"
   ]
  },
  {
   "cell_type": "code",
   "execution_count": 12,
   "metadata": {
    "collapsed": false
   },
   "outputs": [
    {
     "data": {
      "text/plain": [
       "[<Label 5 u'Svek'>]"
      ]
     },
     "execution_count": 12,
     "metadata": {},
     "output_type": "execute_result"
    }
   ],
   "source": [
    "m.labels"
   ]
  },
  {
   "cell_type": "code",
   "execution_count": 13,
   "metadata": {
    "collapsed": false
   },
   "outputs": [
    {
     "name": "stdout",
     "output_type": "stream",
     "text": [
      "<Label 5 u'Svek'>\n"
     ]
    }
   ],
   "source": [
    "n = m.labels[0]\n",
    "print n"
   ]
  },
  {
   "cell_type": "code",
   "execution_count": 14,
   "metadata": {
    "collapsed": false
   },
   "outputs": [],
   "source": [
    "o = d.search('Svek', type='label')"
   ]
  },
  {
   "cell_type": "code",
   "execution_count": 15,
   "metadata": {
    "collapsed": false
   },
   "outputs": [
    {
     "data": {
      "text/plain": [
       "<Label 5 u'Svek'>"
      ]
     },
     "execution_count": 15,
     "metadata": {},
     "output_type": "execute_result"
    }
   ],
   "source": [
    "o[0]"
   ]
  },
  {
   "cell_type": "code",
   "execution_count": 16,
   "metadata": {
    "collapsed": false
   },
   "outputs": [
    {
     "data": {
      "text/plain": [
       "4"
      ]
     },
     "execution_count": 16,
     "metadata": {},
     "output_type": "execute_result"
    }
   ],
   "source": [
    "o.count"
   ]
  },
  {
   "cell_type": "code",
   "execution_count": 17,
   "metadata": {
    "collapsed": false
   },
   "outputs": [
    {
     "data": {
      "text/plain": [
       "<discogs_client.models.MixedPaginatedList at 0x3d9a710>"
      ]
     },
     "execution_count": 17,
     "metadata": {},
     "output_type": "execute_result"
    }
   ],
   "source": [
    "o"
   ]
  },
  {
   "cell_type": "code",
   "execution_count": 18,
   "metadata": {
    "collapsed": false
   },
   "outputs": [
    {
     "name": "stdout",
     "output_type": "stream",
     "text": [
      "<Label 5 u'Svek'>\n",
      "<Label 468666 u'The Lords Of Svek'>\n",
      "<Label 10487 u'Secret Operations'>\n",
      "<Label 2437 u'Birdy'>\n"
     ]
    }
   ],
   "source": [
    "for label in o:\n",
    "    print label"
   ]
  },
  {
   "cell_type": "markdown",
   "metadata": {},
   "source": [
    "#Start Bob Marley Query "
   ]
  },
  {
   "cell_type": "code",
   "execution_count": 311,
   "metadata": {
    "collapsed": false
   },
   "outputs": [],
   "source": [
    "bmsearch = d.search('Bob Marley', type='artist')"
   ]
  },
  {
   "cell_type": "code",
   "execution_count": 312,
   "metadata": {
    "collapsed": false
   },
   "outputs": [
    {
     "data": {
      "text/plain": [
       "127"
      ]
     },
     "execution_count": 312,
     "metadata": {},
     "output_type": "execute_result"
    }
   ],
   "source": [
    "bmsearch.count"
   ]
  },
  {
   "cell_type": "markdown",
   "metadata": {},
   "source": [
    "How many Bob Marleys are there?!"
   ]
  },
  {
   "cell_type": "code",
   "execution_count": 116,
   "metadata": {
    "collapsed": false
   },
   "outputs": [],
   "source": [
    "# for i in bmsearch:\n",
    "#     print i"
   ]
  },
  {
   "cell_type": "code",
   "execution_count": 313,
   "metadata": {
    "collapsed": false
   },
   "outputs": [
    {
     "data": {
      "text/plain": [
       "<Artist 41441 u'Bob Marley'>"
      ]
     },
     "execution_count": 313,
     "metadata": {},
     "output_type": "execute_result"
    }
   ],
   "source": [
    "bmsearch[0]"
   ]
  },
  {
   "cell_type": "markdown",
   "metadata": {},
   "source": [
    "We'll take just the first one for now"
   ]
  },
  {
   "cell_type": "code",
   "execution_count": 314,
   "metadata": {
    "collapsed": false
   },
   "outputs": [],
   "source": [
    "bm = bmsearch[0]"
   ]
  },
  {
   "cell_type": "code",
   "execution_count": 315,
   "metadata": {
    "collapsed": false
   },
   "outputs": [
    {
     "data": {
      "text/plain": [
       "41441"
      ]
     },
     "execution_count": 315,
     "metadata": {},
     "output_type": "execute_result"
    }
   ],
   "source": [
    "bm.id"
   ]
  },
  {
   "cell_type": "code",
   "execution_count": 38,
   "metadata": {
    "collapsed": false
   },
   "outputs": [],
   "source": [
    "# bm.images"
   ]
  },
  {
   "cell_type": "markdown",
   "metadata": {},
   "source": [
    "Get all the Bob Marley releases"
   ]
  },
  {
   "cell_type": "code",
   "execution_count": 316,
   "metadata": {
    "collapsed": false
   },
   "outputs": [],
   "source": [
    "rel = bm.releases"
   ]
  },
  {
   "cell_type": "code",
   "execution_count": 317,
   "metadata": {
    "collapsed": false
   },
   "outputs": [
    {
     "data": {
      "text/plain": [
       "3355"
      ]
     },
     "execution_count": 317,
     "metadata": {},
     "output_type": "execute_result"
    }
   ],
   "source": [
    "rel.count"
   ]
  },
  {
   "cell_type": "markdown",
   "metadata": {},
   "source": [
    "Whoa... Let's look at one of them for year and label info"
   ]
  },
  {
   "cell_type": "code",
   "execution_count": 122,
   "metadata": {
    "collapsed": false
   },
   "outputs": [
    {
     "name": "stdout",
     "output_type": "stream",
     "text": [
      "<Release 7060544 u'the KING of REGGAE'>\n"
     ]
    }
   ],
   "source": [
    "rel1 = rel[1]\n",
    "print rel1"
   ]
  },
  {
   "cell_type": "code",
   "execution_count": 84,
   "metadata": {
    "collapsed": false
   },
   "outputs": [],
   "source": [
    "# rel1.data"
   ]
  },
  {
   "cell_type": "code",
   "execution_count": 123,
   "metadata": {
    "collapsed": false
   },
   "outputs": [
    {
     "data": {
      "text/plain": [
       "1986"
      ]
     },
     "execution_count": 123,
     "metadata": {},
     "output_type": "execute_result"
    }
   ],
   "source": [
    "rel1.year"
   ]
  },
  {
   "cell_type": "code",
   "execution_count": 141,
   "metadata": {
    "collapsed": false
   },
   "outputs": [
    {
     "data": {
      "text/plain": [
       "u'the KING of REGGAE'"
      ]
     },
     "execution_count": 141,
     "metadata": {},
     "output_type": "execute_result"
    }
   ],
   "source": [
    "rel1.title"
   ]
  },
  {
   "cell_type": "code",
   "execution_count": 189,
   "metadata": {
    "collapsed": false
   },
   "outputs": [
    {
     "data": {
      "text/plain": [
       "[<Label 20561 u'Lotus'>, <Label 20561 u'Lotus'>, <Label 20561 u'Lotus'>]"
      ]
     },
     "execution_count": 189,
     "metadata": {},
     "output_type": "execute_result"
    }
   ],
   "source": [
    "rel1.labels"
   ]
  },
  {
   "cell_type": "markdown",
   "metadata": {},
   "source": [
    "Same label 3 times for some reason..."
   ]
  },
  {
   "cell_type": "code",
   "execution_count": 126,
   "metadata": {
    "collapsed": false
   },
   "outputs": [],
   "source": [
    "rel1label = rel1.labels[0]"
   ]
  },
  {
   "cell_type": "code",
   "execution_count": 127,
   "metadata": {
    "collapsed": false
   },
   "outputs": [
    {
     "data": {
      "text/plain": [
       "<Label 20561 u'Lotus'>"
      ]
     },
     "execution_count": 127,
     "metadata": {},
     "output_type": "execute_result"
    }
   ],
   "source": [
    "rel1label"
   ]
  },
  {
   "cell_type": "code",
   "execution_count": 128,
   "metadata": {
    "collapsed": false
   },
   "outputs": [
    {
     "data": {
      "text/plain": [
       "u'Lotus'"
      ]
     },
     "execution_count": 128,
     "metadata": {},
     "output_type": "execute_result"
    }
   ],
   "source": [
    "rel1label.name"
   ]
  },
  {
   "cell_type": "code",
   "execution_count": 129,
   "metadata": {
    "collapsed": false
   },
   "outputs": [
    {
     "data": {
      "text/plain": [
       "u'Italy'"
      ]
     },
     "execution_count": 129,
     "metadata": {},
     "output_type": "execute_result"
    }
   ],
   "source": [
    "rel1.country"
   ]
  },
  {
   "cell_type": "markdown",
   "metadata": {},
   "source": [
    "Make a function to list the title, country, labels and year of a release:"
   ]
  },
  {
   "cell_type": "code",
   "execution_count": 91,
   "metadata": {
    "collapsed": true
   },
   "outputs": [],
   "source": [
    "def relinfo(release):\n",
    "    name = release.title\n",
    "    country = release.country\n",
    "    labelnames = []\n",
    "    for label in release.labels:\n",
    "        labelnames.append(label.name)\n",
    "    year = release.data['year']\n",
    "    print name,', ', country,', ', labelnames, ', ', year"
   ]
  },
  {
   "cell_type": "code",
   "execution_count": 130,
   "metadata": {
    "collapsed": false
   },
   "outputs": [
    {
     "name": "stdout",
     "output_type": "stream",
     "text": [
      "the KING of REGGAE ,  Italy ,  [u'Lotus', u'Lotus', u'Lotus'] ,  1986\n"
     ]
    }
   ],
   "source": [
    "relinfo(rel[1])"
   ]
  },
  {
   "cell_type": "code",
   "execution_count": 93,
   "metadata": {
    "collapsed": false
   },
   "outputs": [
    {
     "data": {
      "text/plain": [
       "[0, 1, 2, 3, 4, 5, 6, 7, 8, 9, 10, 11, 12, 13, 14, 15, 16, 17, 18, 19]"
      ]
     },
     "execution_count": 93,
     "metadata": {},
     "output_type": "execute_result"
    }
   ],
   "source": [
    "range(20) # range is like linspace in MatLab"
   ]
  },
  {
   "cell_type": "code",
   "execution_count": 131,
   "metadata": {
    "collapsed": false
   },
   "outputs": [
    {
     "name": "stdout",
     "output_type": "stream",
     "text": [
      "the king of REGGAE ,  Italy ,  [u'Lotus'] ,  0\n",
      "the KING of REGGAE ,  Italy ,  [u'Lotus', u'Lotus', u'Lotus'] ,  1986\n",
      "sun is shining  ,  US ,  [u'Edel America Records'] ,  1999\n",
      "Young Mystic ,  US ,  [u'Audio Fidelity (3)'] ,  2004\n",
      "Wisdom ,  UK ,  [u'Recall 2cd'] ,  1998\n",
      "Error\n",
      "Who Is He (Tss Tss Remix) / Get Up Stand Up (Tss Tss Remix) ,  Sweden ,  [u'G.A.M.M.'] ,  2010\n",
      "Who Colt The Game ,  Australia ,  [u'Ascension Records (5)'] ,  0\n",
      "White Collection - Lion Of Zion ,  UK, Europe & US ,  [u'Weton-Wesgram'] ,  2008\n",
      "Error\n",
      "What A Confusion / Small Axe ,  UK ,  [u'Punch'] ,  1971\n",
      "War / No More Trouble (Live) ,  None ,  [u'Island Records'] ,  0\n",
      "Volume Two - Riding High ,  UK ,  [u'Object Enterprises'] ,  1990\n",
      "Volume Two ,  UK ,  [u'Tring International PLC'] ,  0\n",
      "Volume Two ,  UK ,  [u'Going For A Song'] ,  0\n",
      "Volume Three ,  UK ,  [u'Tring International PLC'] ,  0\n",
      "Volume Three ,  UK ,  [u'Going For A Song'] ,  0\n",
      "Error\n",
      "Volume One ,  UK ,  [u'Tring International PLC'] ,  0\n",
      "Volume One ,  UK ,  [u'Going For A Song'] ,  0\n"
     ]
    }
   ],
   "source": [
    "for i in range(20):\n",
    "    try:\n",
    "        relinfo(rel[i])\n",
    "    except AttributeError:\n",
    "        print 'Error'"
   ]
  },
  {
   "cell_type": "markdown",
   "metadata": {},
   "source": [
    "####How many labels are associated with each B.M. release on average?"
   ]
  },
  {
   "cell_type": "code",
   "execution_count": 194,
   "metadata": {
    "collapsed": false
   },
   "outputs": [
    {
     "data": {
      "text/plain": [
       "[<Label 20561 u'Lotus'>, <Label 20561 u'Lotus'>, <Label 20561 u'Lotus'>]"
      ]
     },
     "execution_count": 194,
     "metadata": {},
     "output_type": "execute_result"
    }
   ],
   "source": [
    "rel1.labels"
   ]
  },
  {
   "cell_type": "code",
   "execution_count": 193,
   "metadata": {
    "collapsed": false
   },
   "outputs": [
    {
     "data": {
      "text/plain": [
       "3"
      ]
     },
     "execution_count": 193,
     "metadata": {},
     "output_type": "execute_result"
    }
   ],
   "source": [
    "len(rel1.labels)"
   ]
  },
  {
   "cell_type": "code",
   "execution_count": 195,
   "metadata": {
    "collapsed": false
   },
   "outputs": [
    {
     "data": {
      "text/plain": [
       "[<Label 100280 u'Punch'>]"
      ]
     },
     "execution_count": 195,
     "metadata": {},
     "output_type": "execute_result"
    }
   ],
   "source": [
    "rel[10].labels"
   ]
  },
  {
   "cell_type": "code",
   "execution_count": 196,
   "metadata": {
    "collapsed": false
   },
   "outputs": [
    {
     "data": {
      "text/plain": [
       "1"
      ]
     },
     "execution_count": 196,
     "metadata": {},
     "output_type": "execute_result"
    }
   ],
   "source": [
    "len(rel[10].labels)"
   ]
  },
  {
   "cell_type": "code",
   "execution_count": 413,
   "metadata": {
    "collapsed": false
   },
   "outputs": [],
   "source": [
    "rel1labeldata = rel[1].data['labels']"
   ]
  },
  {
   "cell_type": "code",
   "execution_count": 416,
   "metadata": {
    "collapsed": false
   },
   "outputs": [
    {
     "name": "stdout",
     "output_type": "stream",
     "text": [
      "{u'resource_url': u'https://api.discogs.com/labels/20561', u'entity_type': u'1', u'catno': u'LOP 14133', u'id': 20561, u'name': u'Lotus'}\n"
     ]
    }
   ],
   "source": [
    "print rel1labeldata[1]"
   ]
  },
  {
   "cell_type": "code",
   "execution_count": 398,
   "metadata": {
    "collapsed": false
   },
   "outputs": [
    {
     "data": {
      "text/plain": [
       "u'Punch'"
      ]
     },
     "execution_count": 398,
     "metadata": {},
     "output_type": "execute_result"
    }
   ],
   "source": [
    "rel[10].data['label']"
   ]
  },
  {
   "cell_type": "markdown",
   "metadata": {},
   "source": [
    "Make a list of labels associated with B.M. releases:"
   ]
  },
  {
   "cell_type": "code",
   "execution_count": 393,
   "metadata": {
    "collapsed": true
   },
   "outputs": [],
   "source": [
    "#r = len(rel)\n",
    "r = 300"
   ]
  },
  {
   "cell_type": "code",
   "execution_count": 417,
   "metadata": {
    "collapsed": false
   },
   "outputs": [
    {
     "name": "stdout",
     "output_type": "stream",
     "text": [
      "0 1 2 3 4 5 AE 6 7 8 9 AE 10 11 12 13 14 15 16 17 AE 18 19 20 21 22 23 24 25 AE 26 27 28 29 30 AE 31 32 33 34 35 36 37 38 39 AE 40 41 42 43 44 45 46 47 48 49 50 51 52 53 AE 54 55 56 57 58 59 60 AE 61 62 63 64 65 66 67 68 69 70 71 72 AE 73 74 75 AE 76 AE 77 78 79 80 81 82 83 AE 84 AE 85 86 87 88 89 90 AE 91 AE 92 93 94 95 96 97 98 99 100 AE 101 102 103 104 AE 105 106 107 108 109 110 111 112 113 114 AE 115 AE 116 117 AE 118 AE 119 120 121 122 123 124 125 126 127 128 AE 129 130 131 132 133 134 AE 135 AE 136 137 138 139 140 141 142 143 144 145 146 147 148 149 IE 150 151 152 153 154 155 156 157 158 159 160 161 162 163 164 165 AE 166 AE 167 AE 168 AE 169 170 171 AE 172 173 174 175 176 177 178 179 AE 180 AE 181 182 183 184 AE 185 186 AE 187 AE 188 AE 189 190 191 192 AE 193 AE 194 195 196 197 198 199 200 201 AE 202 203 204 AE 205 206 AE 207 208 209 AE 210 211 212 213 214 215 216 217 AE 218 219 220 AE 221 AE 222 223 224 225 226 227 228 229 230 231 232 233 AE 234 AE 235 236 237 238 239 240 241 242 243 AE 244 AE 245 246 247 AE 248 249 250 251 AE 252 AE 253 254 255 256 257 258 259 AE 260 261 262 AE 263 AE 264 AE 265 266 267 AE 268 269 270 AE 271 272 273 274 275 276 277 278 279 280 281 AE 282 AE 283 284 285 AE 286 287 288 AE 289 290 291 292 293 294 295 296 AE 297 298 299\n"
     ]
    }
   ],
   "source": [
    "rellabels = []\n",
    "for i in range(r):\n",
    "    print i,\n",
    "    try:\n",
    "        rellabels.append(rel[i].labels)\n",
    "    except AttributeError:\n",
    "        print 'AE',\n",
    "    except KeyError:\n",
    "        print 'KE',\n",
    "    except IndexError:\n",
    "        print 'IE',"
   ]
  },
  {
   "cell_type": "code",
   "execution_count": 418,
   "metadata": {
    "collapsed": false
   },
   "outputs": [
    {
     "data": {
      "text/plain": [
       "237"
      ]
     },
     "execution_count": 418,
     "metadata": {},
     "output_type": "execute_result"
    }
   ],
   "source": [
    "len(rellabels)"
   ]
  },
  {
   "cell_type": "code",
   "execution_count": 419,
   "metadata": {
    "collapsed": false
   },
   "outputs": [
    {
     "data": {
      "text/plain": [
       "[<Label 20561 u'Lotus'>, <Label 20561 u'Lotus'>, <Label 20561 u'Lotus'>]"
      ]
     },
     "execution_count": 419,
     "metadata": {},
     "output_type": "execute_result"
    }
   ],
   "source": [
    "rellabels[1]"
   ]
  },
  {
   "cell_type": "code",
   "execution_count": 420,
   "metadata": {
    "collapsed": false
   },
   "outputs": [
    {
     "data": {
      "text/plain": [
       "3"
      ]
     },
     "execution_count": 420,
     "metadata": {},
     "output_type": "execute_result"
    }
   ],
   "source": [
    "len(rellabels[1])"
   ]
  },
  {
   "cell_type": "markdown",
   "metadata": {},
   "source": [
    "Count up number of labels listed for each release:"
   ]
  },
  {
   "cell_type": "code",
   "execution_count": 421,
   "metadata": {
    "collapsed": false
   },
   "outputs": [
    {
     "name": "stdout",
     "output_type": "stream",
     "text": [
      "1 3 1 1 1 1 1 1 1 1 1 1 1 1 1 1 1 2 2 1 1 1 1 1 5 1 1 1 1 1 1 1 1 1 4 1 2 1 1 1 1 1 1 1 1 1 1 1 1 1 1 1 1 1 1 1 1 1 1 1 1 1 1 1 1 1 1 1 1 1 1 1 1 1 1 1 1 1 1 4 1 1 1 1 1 1 1 1 1 1 1 3 1 1 1 1 1 1 1 1 1 1 1 1 1 1 1 1 1 1 1 1 1 1 1 1 1 1 1 1 1 2 1 1 1 1 1 1 1 1 2 1 1 1 1 1 1 1 1 1 1 1 1 1 1 1 1 1 1 2 1 1 2 1 1 1 1 1 1 1 1 1 1 1 1 1 1 1 1 1 1 1 1 1 1 2 1 1 1 1 1 1 1 1 1 1 2 1 1 2 1 1 1 1 1 1 1 1 1 1 1 1 1 1 1 1 1 1 1 1 1 1 1 1 1 1 1 1 1 2 1 1 1 2 1 1 1 1 1 1 1 1 1 1 1 1 1\n"
     ]
    }
   ],
   "source": [
    "labelcount = []\n",
    "for i in range(len(rellabels)):\n",
    "    num = len(rellabels[i])\n",
    "    print num,\n",
    "    labelcount.append(num)"
   ]
  },
  {
   "cell_type": "code",
   "execution_count": 274,
   "metadata": {
    "collapsed": false
   },
   "outputs": [
    {
     "data": {
      "text/plain": [
       "1"
      ]
     },
     "execution_count": 274,
     "metadata": {},
     "output_type": "execute_result"
    }
   ],
   "source": [
    "labelcount.count(5)"
   ]
  },
  {
   "cell_type": "code",
   "execution_count": 422,
   "metadata": {
    "collapsed": false
   },
   "outputs": [
    {
     "data": {
      "text/plain": [
       "237"
      ]
     },
     "execution_count": 422,
     "metadata": {},
     "output_type": "execute_result"
    }
   ],
   "source": [
    "len(labelcount)"
   ]
  },
  {
   "cell_type": "code",
   "execution_count": 423,
   "metadata": {
    "collapsed": true
   },
   "outputs": [],
   "source": [
    "import numpy as np"
   ]
  },
  {
   "cell_type": "code",
   "execution_count": 424,
   "metadata": {
    "collapsed": false
   },
   "outputs": [
    {
     "name": "stdout",
     "output_type": "stream",
     "text": [
      "1.10970464135\n"
     ]
    }
   ],
   "source": [
    "print np.mean(labelcount)"
   ]
  },
  {
   "cell_type": "markdown",
   "metadata": {},
   "source": [
    "... Looks like most releases only have one label associated with them."
   ]
  },
  {
   "cell_type": "code",
   "execution_count": 425,
   "metadata": {
    "collapsed": true
   },
   "outputs": [],
   "source": [
    "import matplotlib\n",
    "%matplotlib inline"
   ]
  },
  {
   "cell_type": "code",
   "execution_count": 245,
   "metadata": {
    "collapsed": true
   },
   "outputs": [],
   "source": [
    "from matplotlib import pyplot as plt"
   ]
  },
  {
   "cell_type": "code",
   "execution_count": 426,
   "metadata": {
    "collapsed": false
   },
   "outputs": [
    {
     "name": "stdout",
     "output_type": "stream",
     "text": [
      "[1, 2, 3, 4, 5]\n"
     ]
    }
   ],
   "source": [
    "labelbins = range(min(labelcount),max(labelcount)+1,1)\n",
    "print labelbins"
   ]
  },
  {
   "cell_type": "code",
   "execution_count": 427,
   "metadata": {
    "collapsed": false
   },
   "outputs": [
    {
     "data": {
      "text/plain": [
       "(1, 5)"
      ]
     },
     "execution_count": 427,
     "metadata": {},
     "output_type": "execute_result"
    },
    {
     "data": {
      "image/png": "[encoded data removed]",
      "text/plain": [
       "<matplotlib.figure.Figure at 0xdf32278>"
      ]
     },
     "metadata": {},
     "output_type": "display_data"
    }
   ],
   "source": [
    "plt.hist(labelcount,bins = labelbins)\n",
    "plt.xlim(min(labelcount),max(labelcount))"
   ]
  },
  {
   "cell_type": "markdown",
   "metadata": {},
   "source": [
    "####What years yield the most B.M. releases?"
   ]
  },
  {
   "cell_type": "markdown",
   "metadata": {},
   "source": [
    "Make a list of the years of the releases (if given)"
   ]
  },
  {
   "cell_type": "code",
   "execution_count": 279,
   "metadata": {
    "collapsed": false
   },
   "outputs": [
    {
     "data": {
      "text/plain": [
       "1990"
      ]
     },
     "execution_count": 279,
     "metadata": {},
     "output_type": "execute_result"
    }
   ],
   "source": [
    "rel[12].data['year']"
   ]
  },
  {
   "cell_type": "code",
   "execution_count": 327,
   "metadata": {
    "collapsed": false
   },
   "outputs": [
    {
     "name": "stdout",
     "output_type": "stream",
     "text": [
      "3355\n"
     ]
    }
   ],
   "source": [
    "r = len(rel)\n",
    "print r"
   ]
  },
  {
   "cell_type": "code",
   "execution_count": 347,
   "metadata": {
    "collapsed": false
   },
   "outputs": [
    {
     "name": "stdout",
     "output_type": "stream",
     "text": [
      "0 1 2 3 4 5 6 7 8 9 10 11 12 13 14 15 16 17 18 19 20 21 22 23 24 25 26 27 28 29 30 31 32 33 34 35 36 37 38 39 40 41 42 43 44 45 46 47 48 49 50 51 52 53 54 55 56 57 58 no year 59 60 61 62 63 64 65 66 67 68 69 70 71 72 73 74 75 76 77 78 79 no year 80 81 no year 82 no year 83 no year 84 no year 85 no year 86 no year 87 no year 88 no year 89 90 91 92 93 94 95 96 97 98 99 100 101 no year 102 103 104 105 106 107 108 no year 109 110 111 112 113 114 115 116 117 118 119 120 121 122 123 no year 124 125 126 127 no year 128 129 130 131 132 133 134 135 136 no year 137 138 no year 139 140 141 142 143 144 145 146 147 148 149 error 150 151 152 153 154 155 156 no year 157 no year 158 no year 159 160 161 162 no year 163 164 165 166 167 168 169 170 171 172 173 174 175 no year 176 177 178 179 180 181 182 no year 183 184 185 186 187 no year 188 189 no year 190 191 192 no year 193 no year 194 195 196 197 198 199 200 no year 201 202 no year 203 204 205 206 207 208 no year 209 210 no year 211 212 213 214 215 216 217 218 219 220 221 222 no year 223 224 no year 225 226 227 no year 228 no year 229 230 231 232 233 234 235 236 237 238 239 no year 240 no year 241 242 243 244 245 246 247 no year 248 249 250 251 252 253 254 255 no year 256 257 258 259 260 261 262 263 264 no year 265 no year 266 no year 267 no year 268 269 270 271 272 273 274 275 no year 276 277 278 no year 279 280 281 282 no year 283 284 no year 285 286 287 288 289 290 291 292 293 294 295 296 297 no year 298 299 no year 300 301 302 303 304 305 no year 306 307 308 309 no year 310 311 no year 312 no year 313 314 no year 315 no year 316 no year 317 318 319 320 321 322 323 324 325 no year 326 327 328 329 no year 330 no year 331 332 no year 333 334 335 336 337 338 339 340 341 342 343 344 no year 345 346 347 348 no year 349 error 350 no year 351 no year 352 no year 353 354 355 356 357 no year 358 359 360 361 362 no year 363 364 no year 365 366 367 no year 368 369 no year 370 371 372 373 no year 374 375 376 377 378 379 380 381 no year 382 383 384 no year 385 386 387 388 389 no year 390 no year 391 no year 392 no year 393 394 395 396 397 398 399 400 no year 401 no year 402 403 404 405 no year 406 407 408 409 410 no year 411 412 413 no year 414 415 416 417 no year 418 no year 419 420 421 422 423 424 425 426 427 428 429 430 431 432 433 434 435 436 437 no year 438 439 no year 440 441 no year 442 443 444 445 446 447 448 449 error 450 451 452 453 454 no year 455 456 457 458 no year 459 460 461 462 no year 463 no year 464 465 466 467 468 469 470 471 no year 472 473 474 475 476 477 no year 478 479 480 481 482 483 484 no year 485 no year 486 487 no year 488 489 490 491 no year 492 493 494 no year 495 496 497 498 499 500 501 502 no year 503 504 no year 505 506 507 508 509 510 511 512 513 514 no year 515 516 517 518 no year 519 520 no year 521 no year 522 523 524 525 526 527 528 529 530 531 532 533 534 535 536 no year 537 538 539 540 541 542 543 544 545 546 547 548 549 550 551 552 553 554 555 556 557 558 559 560 no year 561 562 563 564 565 566 567 568 569 570 571 572 573 574 575 576 577 578 579 580 581 582 583 584 585 586 587 588 589 590 591 592 593 594 595 596 597 598 599 600 601 602 no year 603 no year 604 605 606 607 608 609 610 611 612 613 614 no year 615 no year 616 no year 617 618 619 620 621 622 no year 623 624 625 626 627 628 629 630 631 632 633 634 635 636 637 638 639 640 641 no year 642 643 644 645 no year 646 647 648 649 650 651 652 653 654 655 656 no year 657 658 659 660 661 662 663 664 665 666 no year 667 668 669 670 671 672 673 674 675 676 677 678 679 680 681 682 683 684 685 686 687 688 689 690 691 692 693 694 695 696 697 698 699 700 701 702 703 704 705 706 707 708 709 710 711 712 713 714 715 716 717 718 719 720 no year 721 722 723 724 725 726 727 728 729 730 731 732 733 734 735 736 737 738 739 740 741 no year 742 743 744 745 746 747 748 749 750 751 752 753 no year 754 755 756 757 758 759 760 761 762 763 764 765 766 767 768 769 no year 770 771 772 773 774 no year 775 776 777 778 no year 779 780 781 782 783 784 785 786 787 788 789 790 791 792 793 794 795 796 797 798 799 800 801 802 803 no year 804 805 806 807 808 809 810 811 812 813 814 815 816 817 818 819 820 821 822 823 824 825 826 827 828 829 830 831 832 833 834 835 836 837 no year 838 839 840 no year 841 842 843 844 845 846 847 848 849 850 851 852 853 854 855 856 857 858 859 860 861 862 863 864 865 866 867 868 869 870 871 872 873 no year 874 no year 875 876 877 878 879 880 881 882 883 884 885 886 887 888 889 890 no year 891 892 893 894 895 896 897 898 899 900 901 902 903 904 905 no year 906 907 908 909 910 911 912 913 914 915 916 917 no year 918 919 920 921 922 no year 923 924 925 926 927 928 929 930 931 932 933 934 935 936 937 938 939 940 941 942 943 944 945 946 947 948 949 no year 950 951 no year 952 953 954 955 956 957 no year 958 959 960 961 962 963 964 965 966 no year 967 968 969 970 971 972 973 974 975 976 977 978 979 980 981 no year 982 983 984 985 986 987 988 989 990 991 992 993 no year 994 995 996 997 998 999 1000 1001 no year 1002 1003 1004 no year 1005 1006 1007 no year 1008 1009 1010 1011 1012 1013 1014 1015 1016 no year 1017 1018 1019 1020 1021 1022 1023 1024 1025 1026 1027 1028 1029 1030 1031 1032 1033 1034 1035 1036 1037 1038 1039 1040 1041 1042 1043 1044 1045 1046 1047 1048 1049 1050 1051 1052 1053 1054 1055 1056 1057 1058 1059 1060 1061 1062 1063 1064 1065 1066 1067 1068 1069 1070 1071 1072 1073 1074 1075 1076 1077 1078 1079 1080 1081 1082 1083 1084 1085 no year 1086 no year 1087 1088 1089 1090 1091 1092 1093 1094 no year 1095 1096 1097 1098 1099 1100 1101 no year 1102 1103 no year 1104 1105 1106 1107 1108 1109 1110 1111 1112 1113 1114 1115 1116 1117 1118 1119 1120 1121 1122 no year 1123 1124 1125 1126 1127 1128 1129 1130 1131 1132 1133 1134 no year 1135 1136 1137 1138 no year 1139 no year 1140 1141 1142 1143 1144 1145 1146 1147 1148 1149 1150 1151 1152 1153 1154 1155 1156 1157 1158 1159 1160 1161 1162 1163 1164 1165 1166 1167 1168 1169 1170 1171 1172 1173 1174 no year 1175 1176 1177 1178 1179 1180 1181 1182 1183 1184 1185 1186 1187 1188 1189 1190 1191 1192 1193 1194 1195 1196 1197 1198 1199 1200 1201 1202 1203 no year 1204 1205 1206 1207 1208 1209 1210 1211 1212 1213 1214 1215 1216 1217 1218 1219 1220 1221 1222 1223 1224 1225 1226 1227 1228 1229 1230 1231 1232 1233 1234 1235 1236 1237 1238 1239 1240 1241 1242 1243 1244 1245 1246 1247 1248 1249 1250 1251 1252 1253 1254 1255 1256 1257 1258 1259 1260 1261 1262 1263 1264 1265 1266 no year 1267 1268 1269 1270 1271 1272 1273 1274 1275 1276 1277 1278 1279 1280 1281 1282 1283 1284 1285 1286 1287 1288 1289 1290 1291 1292 1293 1294 1295 1296 1297 1298 1299 1300 1301 1302 1303 1304 1305 1306 1307 1308 1309 1310 1311 1312 1313 no year 1314 1315 1316 1317 1318 1319 1320 1321 1322 1323 1324 1325 1326 1327 1328 1329 1330 1331 1332 1333 1334 1335 1336 1337 1338 1339 1340 1341 1342 1343 1344 1345 1346 1347 1348 1349 1350 1351 1352 1353 1354 1355 1356 1357 1358 1359 1360 1361 1362 1363 no year 1364 1365 1366 1367 1368 1369 1370 no year 1371 1372 1373 1374 1375 1376 no year 1377 1378 1379 1380 1381 1382 1383 1384 no year 1385 1386 1387 1388 1389 1390 1391 1392 1393 1394 1395 1396 1397 1398 1399 1400 1401 1402 1403 1404 1405 1406 1407 1408 1409 1410 no year 1411 no year 1412 1413 1414 1415 1416 1417 no year 1418 1419 1420 1421 1422 1423 1424 1425 1426 1427 1428 1429 1430 no year 1431 1432 1433 1434 1435 1436 1437 1438 1439 1440 1441 1442 1443 1444 no year 1445 1446 1447 1448 1449 1450 1451 1452 1453 1454 1455 1456 1457 1458 1459 1460 1461 1462 1463 1464 1465 1466 1467 1468 1469 1470 1471 1472 1473 1474 1475 1476 1477 1478 1479 1480 1481 1482 1483 1484 1485 1486 1487 1488 1489 1490 1491 1492 1493 1494 1495 1496 1497 1498 1499 1500 1501 1502 1503 1504 1505 1506 1507 1508 1509 1510 1511 1512 1513 1514 1515 1516 1517 1518 1519 1520 no year 1521 1522 1523 1524 1525 1526 1527 no year 1528 1529 1530 1531 1532 1533 1534 1535 1536 1537 1538 no year 1539 1540 1541 no year 1542 1543 1544 1545 1546 1547 1548 1549 1550 1551 1552 1553 1554 1555 no year 1556 1557 1558 1559 1560 1561 1562 1563 no year 1564 1565 1566 1567 1568 1569 1570 1571 no year 1572 1573 1574 1575 1576 1577 1578 1579 1580 1581 1582 1583 1584 1585 no year 1586 no year 1587 1588 1589 1590 1591 1592 1593 1594 1595 1596 1597 1598 1599 1600 1601 1602 1603 1604 1605 1606 1607 1608 1609 1610 no year 1611 1612 no year 1613 no year 1614 1615 1616 1617 1618 1619 1620 1621 1622 1623 1624 1625 1626 1627 1628 no year 1629 no year 1630 1631 1632 1633 1634 1635 1636 no year 1637 1638 1639 1640 1641 1642 1643 1644 1645 1646 1647 1648 1649 1650 1651 1652 1653 1654 1655 1656 no year 1657 no year 1658 1659 1660 1661 1662 1663 1664 1665 1666 1667 1668 1669 1670 1671 1672 no year 1673 1674 no year 1675 1676 1677 1678 1679 1680 1681 1682 1683 1684 no year 1685 1686 1687 1688 1689 1690 1691 1692 1693 1694 1695 1696 1697 1698 1699 1700 1701 1702 no year 1703 1704 1705 1706 1707 1708 1709 1710 1711 1712 1713 1714 1715 1716 1717 1718 1719 1720 1721 1722 1723 1724 no year 1725 1726 1727 no year 1728 no year 1729 1730 1731 1732 1733 1734 1735 1736 1737 1738 1739 no year 1740 1741 1742 1743 1744 1745 1746 1747 1748 1749 1750 1751 1752 1753 1754 1755 no year 1756 1757 1758 1759 1760 1761 1762 1763 1764 1765 1766 1767 1768 1769 1770 no year 1771 1772 1773 1774 1775 1776 1777 1778 1779 1780 1781 1782 1783 1784 1785 1786 1787 1788 no year 1789 1790 1791 1792 1793 1794 1795 1796 1797 1798 1799 1800 no year 1801 no year 1802 1803 1804 1805 1806 1807 1808 1809 1810 no year 1811 1812 1813 1814 no year 1815 1816 1817 1818 1819 1820 no year 1821 1822 1823 1824 1825 1826 1827 1828 1829 no year 1830 1831 1832 1833 1834 1835 1836 no year 1837 1838 1839 1840 1841 1842 1843 1844 1845 1846 1847 1848 1849 1850 1851 1852 1853 1854 1855 1856 1857 1858 1859 1860 1861 1862 1863 no year 1864 1865 1866 1867 no year 1868 1869 1870 1871 1872 1873 1874 1875 1876 1877 1878 1879 1880 1881 1882 1883 1884 1885 1886 1887 1888 1889 1890 1891 1892 1893 1894 1895 1896 1897 1898 1899 1900 no year 1901 1902 1903 1904 1905 1906 1907 1908 1909 1910 1911 1912 1913 1914 1915 1916 1917 1918 1919 1920 1921 1922 1923 1924 1925 1926 1927 1928 1929 1930 1931 1932 1933 1934 1935 1936 1937 1938 1939 1940 no year 1941 1942 1943 1944 no year 1945 1946 1947 1948 1949 1950 1951 no year 1952 no year 1953 1954 1955 1956 1957 1958 1959 1960 no year 1961 1962 1963 1964 1965 1966 1967 1968 1969 1970 1971 1972 1973 1974 1975 1976 1977 1978 1979 1980 no year 1981 no year 1982 1983 1984 1985 1986 1987 1988 1989 1990 1991 no year 1992 1993 1994 1995 no year 1996 1997 1998 no year 1999 2000 2001 2002 2003 2004 2005 2006 2007 2008 2009 2010 2011 no year 2012 2013 2014 2015 2016 2017 2018 2019 2020 2021 2022 2023 2024 2025 no year 2026 2027 2028 2029 2030 2031 2032 2033 2034 2035 2036 2037 2038 2039 no year 2040 2041 2042 2043 2044 2045 2046 2047 2048 2049 2050 2051 2052 2053 2054 2055 2056 2057 2058 no year 2059 2060 2061 2062 2063 2064 2065 2066 2067 no year 2068 2069 2070 2071 2072 2073 2074 2075 2076 2077 2078 2079 2080 no year 2081 2082 2083 no year 2084 2085 2086 2087 no year 2088 2089 2090 2091 2092 2093 2094 2095 2096 2097 2098 2099 2100 2101 2102 2103 2104 2105 2106 2107 2108 2109 2110 2111 2112 2113 no year 2114 2115 2116 2117 2118 no year 2119 2120 2121 2122 2123 2124 no year 2125 2126 2127 2128 2129 no year 2130 2131 2132 2133 2134 2135 2136 2137 2138 2139 2140 2141 2142 2143 2144 2145 2146 no year 2147 2148 2149 2150 no year 2151 no year 2152 2153 2154 no year 2155 2156 2157 2158 2159 2160 2161 2162 2163 2164 2165 2166 2167 2168 2169 2170 2171 no year 2172 2173 2174 2175 no year 2176 2177 2178 no year 2179 2180 2181 2182 2183 2184 2185 no year 2186 2187 2188 2189 2190 2191 2192 2193 2194 2195 2196 2197 2198 no year 2199 2200 2201 2202 2203 2204 2205 2206 2207 2208 2209 2210 2211 2212 2213 2214 2215 no year 2216 2217 2218 2219 no year 2220 2221 2222 2223 2224 2225 2226 2227 2228 2229 2230 2231 2232 2233 2234 2235 2236 2237 2238 no year 2239 no year 2240 no year 2241 no year 2242 2243 2244 2245 2246 2247 no year 2248 2249 2250 2251 2252 2253 2254 2255 2256 2257 2258 2259 2260 2261 2262 2263 2264 2265 2266 2267 2268 2269 2270 2271 2272 2273 2274 2275 2276 2277 2278 2279 2280 2281 2282 2283 2284 2285 2286 2287 2288 2289 2290 2291 2292 2293 2294 2295 2296 2297 2298 2299 2300 2301 2302 2303 2304 2305 2306 2307 2308 2309 2310 no year 2311 no year 2312 no year 2313 2314 2315 no year 2316 2317 2318 2319 2320 2321 2322 no year 2323 2324 2325 2326 2327 2328 no year 2329 no year 2330 2331 2332 no year 2333 2334 2335 2336 2337 2338 2339 2340 2341 2342 2343 2344 no year 2345 no year 2346 2347 2348 2349 2350 2351 no year 2352 2353 2354 2355 no year 2356 2357 no year 2358 no year 2359 2360 2361 2362 2363 2364 2365 2366 2367 2368 2369 2370 2371 2372 2373 2374 no year 2375 2376 2377 2378 2379 2380 2381 2382 2383 2384 2385 no year 2386 2387 2388 2389 2390 2391 2392 no year 2393 2394 2395 2396 2397 2398 2399 2400 no year 2401 2402 2403 2404 2405 2406 no year 2407 2408 2409 2410 2411 2412 2413 2414 2415 2416 2417 2418 2419 no year 2420 2421 2422 2423 no year 2424 no year 2425 2426 2427 2428 2429 2430 no year 2431 2432 2433 2434 2435 2436 2437 2438 2439 2440 2441 2442 no year 2443 no year 2444 2445 2446 2447 2448 2449 no year 2450 no year 2451 no year 2452 2453 2454 2455 2456 2457 2458 2459 2460 2461 2462 2463 2464 no year 2465 no year 2466 2467 no year 2468 2469 no year 2470 2471 2472 2473 2474 2475 2476 2477 no year 2478 no year 2479 no year 2480 no year 2481 2482 2483 2484 2485 2486 2487 2488 2489 2490 no year 2491 no year 2492 2493 2494 2495 2496 2497 2498 2499 2500 2501 2502 2503 2504 2505 2506 2507 2508 2509 2510 no year 2511 2512 2513 2514 2515 2516 2517 2518 2519 2520 2521 2522 2523 2524 2525 2526 2527 2528 2529 2530 2531 2532 2533 2534 2535 2536 no year 2537 2538 2539 2540 2541 2542 2543 2544 2545 2546 2547 2548 2549 2550 2551 2552 2553 2554 2555 2556 2557 2558 2559 2560 2561 no year 2562 2563 2564 2565 2566 2567 2568 2569 2570 2571 2572 2573 2574 2575 2576 2577 2578 2579 2580 2581 2582 2583 2584 2585 2586 2587 2588 2589 2590 2591 2592 2593 2594 2595 2596 no year 2597 2598 2599 2600 2601 2602 2603 2604 2605 2606 2607 no year 2608 2609 2610 2611 2612 2613 2614 2615 2616 2617 2618 2619 2620 2621 2622 no year 2623 2624 2625 2626 2627 2628 2629 no year 2630 2631 2632 2633 2634 2635 2636 2637 2638 2639 2640 2641 2642 2643 2644 2645 2646 2647 2648 2649 no year 2650 2651 2652 2653 2654 2655 2656 2657 2658 no year 2659 2660 2661 2662 2663 2664 2665 2666 2667 2668 2669 2670 2671 2672 no year 2673 no year 2674 2675 2676 no year 2677 2678 2679 2680 2681 2682 2683 2684 2685 2686 2687 2688 2689 2690 2691 2692 2693 2694 2695 2696 2697 2698 no year 2699 2700 2701 2702 2703 2704 2705 2706 2707 2708 no year 2709 2710 2711 2712 2713 2714 2715 2716 2717 2718 2719 2720 2721 2722 2723 2724 2725 2726 no year 2727 2728 2729 2730 2731 2732 2733 2734 2735 2736 2737 2738 2739 2740 2741 2742 2743 2744 2745 2746 2747 2748 2749 2750 2751 2752 2753 2754 2755 2756 2757 2758 2759 2760 2761 2762 2763 2764 2765 no year 2766 2767 2768 2769 2770 2771 2772 2773 2774 2775 2776 2777 2778 2779 2780 2781 2782 2783 2784 2785 2786 2787 2788 2789 2790 no year 2791 2792 no year 2793 2794 2795 2796 2797 2798 2799 2800 2801 2802 2803 2804 2805 2806 2807 2808 2809 2810 2811 2812 2813 2814 2815 2816 2817 2818 2819 2820 2821 2822 2823 2824 no year 2825 2826 2827 2828 2829 2830 2831 2832 2833 2834 2835 2836 2837 2838 2839 2840 2841 2842 2843 2844 2845 2846 2847 2848 2849 2850 2851 2852 2853 2854 2855 2856 2857 2858 2859 2860 2861 2862 2863 2864 2865 2866 no year 2867 2868 2869 2870 2871 2872 2873 2874 no year 2875 no year 2876 2877 2878 2879 2880 2881 2882 2883 2884 2885 2886 2887 2888 2889 2890 2891 no year 2892 2893 2894 2895 2896 2897 2898 2899 2900 2901 2902 2903 2904 2905 2906 2907 2908 2909 2910 2911 2912 2913 2914 2915 2916 2917 2918 2919 no year 2920 2921 2922 2923 2924 2925 2926 2927 2928 2929 2930 2931 no year 2932 2933 2934 2935 2936 2937 2938 2939 2940 2941 2942 2943 2944 2945 2946 2947 2948 2949 2950 2951 2952 2953 2954 2955 2956 2957 2958 2959 2960 2961 2962 2963 2964 no year 2965 2966 2967 2968 2969 2970 2971 2972 2973 2974 2975 2976 2977 2978 2979 no year 2980 2981 2982 2983 2984 2985 2986 2987 2988 2989 2990 2991 2992 no year 2993 2994 2995 2996 2997 2998 2999 3000 3001 3002 3003 3004 3005 no year 3006 no year 3007 3008 3009 3010 3011 3012 3013 3014 3015 3016 no year 3017 3018 3019 3020 3021 3022 3023 3024 3025 3026 3027 3028 3029 3030 3031 3032 3033 3034 3035 3036 3037 3038 3039 3040 3041 3042 3043 3044 3045 3046 3047 3048 3049 3050 3051 3052 3053 no year 3054 3055 3056 3057 3058 3059 3060 3061 3062 3063 3064 3065 3066 3067 3068 3069 3070 3071 3072 3073 3074 no year 3075 3076 3077 3078 no year 3079 3080 3081 3082 no year 3083 3084 3085 3086 3087 3088 3089 3090 3091 3092 3093 3094 no year 3095 3096 3097 3098 3099 3100 3101 3102 3103 no year 3104 3105 3106 3107 3108 3109 3110 3111 no year 3112 3113 3114 3115 3116 3117 3118 3119 3120 no year 3121 3122 3123 3124 3125 no year 3126 no year 3127 3128 3129 3130 no year 3131 no year 3132 3133 3134 no year 3135 3136 3137 no year 3138 3139 3140 no year 3141 3142 3143 3144 3145 3146 3147 3148 3149 3150 3151 no year 3152 3153 3154 no year 3155 no year 3156 3157 no year 3158 3159 3160 3161 3162 3163 3164 3165 no year 3166 3167 3168 3169 no year 3170 3171 no year 3172 3173 3174 3175 3176 3177 3178 3179 3180 3181 3182 3183 3184 no year 3185 3186 3187 no year 3188 3189 3190 3191 3192 3193 no year 3194 3195 3196 3197 no year 3198 no year 3199 3200 3201 3202 3203 3204 no year 3205 3206 3207 3208 3209 no year 3210 no year 3211 3212 3213 3214 3215 3216 3217 3218 3219 3220 no year 3221 3222 3223 3224 3225 3226 3227 no year 3228 no year 3229 no year 3230 no year 3231 3232 3233 3234 3235 3236 3237 no year 3238 no year 3239 no year 3240 3241 3242 3243 3244 3245 3246 no year 3247 3248 3249 3250 3251 3252 3253 3254 3255 3256 3257 no year 3258 no year 3259 no year 3260 3261 3262 no year 3263 no year 3264 3265 3266 3267 3268 3269 3270 3271 3272 3273 no year 3274 3275 3276 3277 3278 3279 3280 3281 3282 3283 3284 3285 3286 3287 3288 3289 3290 3291 3292 3293 3294 3295 no year 3296 3297 3298 3299 3300 3301 3302 3303 3304 no year 3305 no year 3306 3307 no year 3308 3309 3310 3311 3312 3313 3314 3315 3316 3317 3318 3319 3320 3321 3322 no year 3323 3324 no year 3325 3326 no year 3327 no year 3328 3329 3330 3331 3332 no year 3333 3334 no year 3335 3336 3337 3338 no year 3339 3340 3341 3342 3343 3344 no year 3345 3346 no year 3347 no year 3348 3349 3350 no year 3351 3352 3353 3354\n"
     ]
    }
   ],
   "source": [
    "releaseyears = []\n",
    "for i in range(r):\n",
    "    print i,\n",
    "    try:\n",
    "        releaseyears.append(rel[i].data['year'])\n",
    "    except KeyError:\n",
    "        print 'no year',\n",
    "    except IndexError:\n",
    "        print 'error',\n",
    "# writefile('bobmarley', releaseyears)        "
   ]
  },
  {
   "cell_type": "code",
   "execution_count": 348,
   "metadata": {
    "collapsed": false
   },
   "outputs": [
    {
     "data": {
      "text/plain": [
       "2985"
      ]
     },
     "execution_count": 348,
     "metadata": {},
     "output_type": "execute_result"
    }
   ],
   "source": [
    "len(releaseyears)"
   ]
  },
  {
   "cell_type": "code",
   "execution_count": 370,
   "metadata": {
    "collapsed": false
   },
   "outputs": [
    {
     "name": "stdout",
     "output_type": "stream",
     "text": [
      "1986 1999 2004 1998 1992 2010 2008 1996 1971 0 1990 0 0 0 0 1990 0 0 1987 1987\n"
     ]
    }
   ],
   "source": [
    "for i in range(20):\n",
    "    print releaseyears[i],"
   ]
  },
  {
   "cell_type": "code",
   "execution_count": 350,
   "metadata": {
    "collapsed": true
   },
   "outputs": [],
   "source": [
    "def writefile(filename, results):\n",
    "    f = open(filename+'.py','w')\n",
    "    f.write(\"results = \" + str(results))\n",
    "    f.close()"
   ]
  },
  {
   "cell_type": "code",
   "execution_count": 351,
   "metadata": {
    "collapsed": true
   },
   "outputs": [],
   "source": [
    "writefile('bobmarley', releaseyears)"
   ]
  },
  {
   "cell_type": "code",
   "execution_count": 352,
   "metadata": {
    "collapsed": true
   },
   "outputs": [],
   "source": [
    "import bobmarley"
   ]
  },
  {
   "cell_type": "code",
   "execution_count": 353,
   "metadata": {
    "collapsed": false
   },
   "outputs": [
    {
     "name": "stdout",
     "output_type": "stream",
     "text": [
      "The autoreload extension is already loaded. To reload it, use:\n",
      "  %reload_ext autoreload\n"
     ]
    }
   ],
   "source": [
    "%load_ext autoreload\n",
    "%autoreload 2"
   ]
  },
  {
   "cell_type": "code",
   "execution_count": 381,
   "metadata": {
    "collapsed": false
   },
   "outputs": [],
   "source": [
    "fromfile = bobmarley.results"
   ]
  },
  {
   "cell_type": "code",
   "execution_count": 382,
   "metadata": {
    "collapsed": false
   },
   "outputs": [
    {
     "data": {
      "text/plain": [
       "2985"
      ]
     },
     "execution_count": 382,
     "metadata": {},
     "output_type": "execute_result"
    }
   ],
   "source": [
    "len(fromfile)"
   ]
  },
  {
   "cell_type": "code",
   "execution_count": 383,
   "metadata": {
    "collapsed": true
   },
   "outputs": [],
   "source": [
    "releaseyears = fromfile"
   ]
  },
  {
   "cell_type": "code",
   "execution_count": 356,
   "metadata": {
    "collapsed": false
   },
   "outputs": [],
   "source": [
    "import matplotlib\n",
    "%matplotlib inline"
   ]
  },
  {
   "cell_type": "code",
   "execution_count": 357,
   "metadata": {
    "collapsed": false
   },
   "outputs": [],
   "source": [
    "from matplotlib import pyplot as plt"
   ]
  },
  {
   "cell_type": "code",
   "execution_count": 384,
   "metadata": {
    "collapsed": false
   },
   "outputs": [
    {
     "data": {
      "text/plain": [
       "(array([   20.,     0.,     0.,     0.,     0.,     0.,     0.,     0.,\n",
       "            0.,  2965.]),\n",
       " array([    0. ,   201.5,   403. ,   604.5,   806. ,  1007.5,  1209. ,\n",
       "         1410.5,  1612. ,  1813.5,  2015. ]),\n",
       " <a list of 10 Patch objects>)"
      ]
     },
     "execution_count": 384,
     "metadata": {},
     "output_type": "execute_result"
    },
    {
     "data": {
      "image/png": "[encoded data removed]",
      "text/plain": [
       "<matplotlib.figure.Figure at 0x17adb550>"
      ]
     },
     "metadata": {},
     "output_type": "display_data"
    }
   ],
   "source": [
    "plt.hist(releaseyears)"
   ]
  },
  {
   "cell_type": "markdown",
   "metadata": {},
   "source": [
    "Filter out the zeros from the list:"
   ]
  },
  {
   "cell_type": "code",
   "execution_count": 385,
   "metadata": {
    "collapsed": false
   },
   "outputs": [],
   "source": [
    "for i in range(releaseyears.count(0)):\n",
    "    releaseyears.remove(0)"
   ]
  },
  {
   "cell_type": "code",
   "execution_count": 386,
   "metadata": {
    "collapsed": false
   },
   "outputs": [
    {
     "data": {
      "text/plain": [
       "2965"
      ]
     },
     "execution_count": 386,
     "metadata": {},
     "output_type": "execute_result"
    }
   ],
   "source": [
    "len(releaseyears)"
   ]
  },
  {
   "cell_type": "code",
   "execution_count": 387,
   "metadata": {
    "collapsed": false
   },
   "outputs": [
    {
     "data": {
      "text/plain": [
       "1962"
      ]
     },
     "execution_count": 387,
     "metadata": {},
     "output_type": "execute_result"
    }
   ],
   "source": [
    "min(releaseyears)"
   ]
  },
  {
   "cell_type": "code",
   "execution_count": 388,
   "metadata": {
    "collapsed": false
   },
   "outputs": [],
   "source": [
    "bins = range(min(releaseyears),max(releaseyears)+1,1)"
   ]
  },
  {
   "cell_type": "code",
   "execution_count": 389,
   "metadata": {
    "collapsed": false
   },
   "outputs": [
    {
     "data": {
      "text/plain": [
       "<matplotlib.text.Text at 0x18249cc0>"
      ]
     },
     "execution_count": 389,
     "metadata": {},
     "output_type": "execute_result"
    },
    {
     "data": {
      "image/png": "[encoded data removed]",
      "text/plain": [
       "<matplotlib.figure.Figure at 0x17c247f0>"
      ]
     },
     "metadata": {},
     "output_type": "display_data"
    }
   ],
   "source": [
    "plt.hist(releaseyears,bins = bins)\n",
    "plt.xlim(min(releaseyears),max(releaseyears))\n",
    "plt.ylabel('# Releases')\n",
    "plt.xlabel('Year')\n",
    "plt.title('Bob Marley Releases by Year')"
   ]
  },
  {
   "cell_type": "code",
   "execution_count": 390,
   "metadata": {
    "collapsed": false
   },
   "outputs": [
    {
     "data": {
      "image/png": "[encoded data removed]",
      "text/plain": [
       "<matplotlib.figure.Figure at 0xf1f42b0>"
      ]
     },
     "metadata": {},
     "output_type": "display_data"
    }
   ],
   "source": [
    "f, ax = plt.subplots(nrows=1,ncols=1)\n",
    "ax.hist(releaseyears,bins = bins)\n",
    "plt.xlim(min(releaseyears),max(releaseyears))\n",
    "plt.ylabel('# Releases')\n",
    "plt.xlabel('Year')\n",
    "plt.title('Bob Marley Releases by Year - 1962 to Present')\n",
    "f.savefig('bobmarleyyears.png')"
   ]
  },
  {
   "cell_type": "code",
   "execution_count": null,
   "metadata": {
    "collapsed": true
   },
   "outputs": [],
   "source": []
  }
 ],
 "metadata": {
  "kernelspec": {
   "display_name": "Python 2",
   "language": "python",
   "name": "python2"
  },
  "language_info": {
   "codemirror_mode": {
    "name": "ipython",
    "version": 2
   },
   "file_extension": ".py",
   "mimetype": "text/x-python",
   "name": "python",
   "nbconvert_exporter": "python",
   "pygments_lexer": "ipython2",
   "version": "2.7.8"
  }
 },
 "nbformat": 4,
 "nbformat_minor": 0
}
